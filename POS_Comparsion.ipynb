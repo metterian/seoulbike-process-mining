{
 "cells": [
  {
   "cell_type": "markdown",
   "metadata": {},
   "source": [
    "## 각 형태소 분석기 비교 (KKMA, KOMORAN, MECAB, TWITTER)\n",
    "##### 긍정리뷰 3개 vs. 부정리뷰 3개를 기준으로\n",
    "------------\n",
    "\n",
    "#### 긍정리뷰  \n",
    "    \"3달정도 사용해오고 있는데 가성비부터 최고예요. 운동도 하고 교통비도 아끼고 대만족입니다.\"  \n",
    "    \"QR코드 이용해서 대여하니 빠르고 편해요. 처음 이용해봤는데 좋았네요^^\"  \n",
    "    \"너무너무 좋아요. 결제도 쉽고 대여소 찾는 것도 쉽고 정기권 끊어서 타고있어요. 이거 덕분에 자전거 많이 타고있어요!! 감사합니다~\"\n",
    "\n",
    "\n",
    "#### 부정리뷰  \n",
    "    \"소셜로그인은 자동로그인이 안되나요? 너무 불편해요ㅠ\"  \n",
    "    \"회원가입도 안되고 로그인도 잘 안되요.\"  \n",
    "    \"제발 앱좀 고쳐주세요..매번 카드정보입력하게할거면 뭐하러 회원정보수집하고 뭐하러 로그인시키나요.. 탈때마다 불편해죽겠어요. \"\n",
    "    \"매번 카드정보입력하게할거면 뭐하러 회원정보수집하고 뭐하러 로그인시키나요.. 탈때마다 불편해죽겠어요. \"\n",
    "\n",
    "\n",
    "\n",
    " "
   ]
  },
  {
   "cell_type": "code",
   "execution_count": 1,
   "metadata": {},
   "outputs": [],
   "source": [
    "# 각 형태소 분석기 import\n",
    "from konlpy.tag import *\n",
    "twitter = Okt()\n",
    "mecab = Mecab()\n",
    "han = Hannanum()\n",
    "kkma = Kkma()\n",
    "komo = Komoran()"
   ]
  },
  {
   "cell_type": "code",
   "execution_count": 33,
   "metadata": {},
   "outputs": [],
   "source": [
    "b_text1 = '소셜로그인은 자동로그인이 안되나요? 너무 불편해요ㅠ'\n",
    "b_text2 = \"회원가입도 안되고 로그인도 잘 안되요.\"  \n",
    "b_text3 = \"제발 앱좀 고쳐주세요..매번 카드정보입력하게할거면 뭐하러 회원정보수집하고 뭐하러 로그인시키나요.. 탈때마다 불편해죽겠어요. \"\n",
    "b_text_extra = \"매번 카드정보입력하게할거면 뭐하러 회원정보수집하고 뭐하러 로그인시키나요.. 탈때마다 불편해죽겠어요. \""
   ]
  },
  {
   "cell_type": "code",
   "execution_count": 35,
   "metadata": {},
   "outputs": [],
   "source": [
    "g_text1 = \"3달정도 사용해오고 있는데 가성비부터 최고예요. 운동도 하고 교통비도 아끼고 대만족입니다.\"  \n",
    "g_text2 = \"QR코드이용해서 대여하니빠르고 편해요 ㅎㅎㅎ. 처음 이용해봤는데 좋았네요^^\"  \n",
    "g_text3 = \"너무너무 좋아요. 결제도 쉽고 대여소 찾는 것도 쉽고 정기권 끊어서 타고있어요. 이거 덕분에 자전거 많이 타고있어요!! 감사합니다~\""
   ]
  },
  {
   "cell_type": "code",
   "execution_count": 11,
   "metadata": {},
   "outputs": [],
   "source": [
    "def posComparsion(text):\n",
    "    kkma_text = kkma.pos(text)\n",
    "    han_text = han.pos(text)\n",
    "    komo_text = komo.pos(text)\n",
    "    mecab_text = mecab.pos(text)\n",
    "    twitter_text =twitter.pos(text)\n",
    "    return print('KKMA POS\\n', kkma_text, '\\n\\nHannanum POS\\n', han_text, '\\n\\nKomoran POS\\n', komo_text, '\\n\\nMecab POS\\n', mecab_text,\n",
    "                '\\n\\nTwitter POS\\n' ,twitter_text)"
   ]
  },
  {
   "cell_type": "code",
   "execution_count": 29,
   "metadata": {},
   "outputs": [],
   "source": [
    "def makeSlash(pos_text):\n",
    "    pos_slash = []\n",
    "    for compo in pos_text:\n",
    "        word =compo[0]+'/'\n",
    "        pos = compo[1]\n",
    "        words = (word, pos)\n",
    "        pos_slash.append(words)\n",
    "    return pos_slash\n",
    "    "
   ]
  },
  {
   "cell_type": "code",
   "execution_count": 39,
   "metadata": {},
   "outputs": [],
   "source": [
    "def posComparsionText(text):\n",
    "    kkma_text = kkma.pos(text)\n",
    "    han_text = han.pos(text)\n",
    "    komo_text = komo.pos(text)\n",
    "    mecab_text = mecab.pos(text)\n",
    "    twitter_text =twitter.pos(text, stem=True)\n",
    "    \n",
    "    kkma_slash = makeSlash(kkma_text)\n",
    "    han_slash =makeSlash(han_text)\n",
    "    komo_slash = makeSlash(komo_text)\n",
    "    mecab_slash = makeSlash(mecab_text)\n",
    "    twitter_slash =makeSlash(twitter_text)\n",
    "    \n",
    "    \n",
    "    return print('KKMA POS\\n', kkma_slash, '\\n\\nHannanum POS\\n', han_slash, '\\n\\nKomoran POS\\n', komo_slash, '\\n\\nMecab POS\\n', mecab_slash,\n",
    "                '\\n\\nTwitter POS\\n' ,twitter_slash)"
   ]
  },
  {
   "cell_type": "markdown",
   "metadata": {},
   "source": [
    "### 긍정리뷰\n",
    "#### \"3달정도 사용해오고 있는데 가성비부터 최고예요. 운동도 하고 교통비도 아끼고 대만족입니다.\"  "
   ]
  },
  {
   "cell_type": "code",
   "execution_count": 40,
   "metadata": {},
   "outputs": [
    {
     "name": "stdout",
     "output_type": "stream",
     "text": [
      "KKMA POS\n",
      " [('3/', 'NR'), ('달/', 'NNG'), ('정도/', 'NNG'), ('사용/', 'NNG'), ('하/', 'XSV'), ('어/', 'ECS'), ('오/', 'VV'), ('고/', 'ECE'), ('있/', 'VXV'), ('는데/', 'ECD'), ('가/', 'VV'), ('아/', 'ECS'), ('성비/', 'NNG'), ('부터/', 'JX'), ('최고/', 'NNG'), ('이/', 'VCP'), ('에요/', 'EFN'), ('./', 'SF'), ('운동/', 'NNG'), ('도/', 'JX'), ('하/', 'VV'), ('고/', 'ECE'), ('교통비/', 'NNG'), ('도/', 'JX'), ('아끼/', 'VV'), ('고/', 'ECE'), ('대만족/', 'NNG'), ('이/', 'VCP'), ('ㅂ니다/', 'EFN'), ('./', 'SF')] \n",
      "\n",
      "Hannanum POS\n",
      " [('3달정/', 'N'), ('도/', 'J'), ('사용/', 'N'), ('하/', 'X'), ('어/', 'E'), ('오/', 'P'), ('고/', 'E'), ('있/', 'P'), ('는데/', 'E'), ('가성비/', 'N'), ('부터/', 'J'), ('최고/', 'N'), ('이/', 'J'), ('예요/', 'E'), ('./', 'S'), ('운동/', 'N'), ('도/', 'J'), ('하/', 'P'), ('고/', 'E'), ('교통비/', 'N'), ('도/', 'J'), ('아끼/', 'P'), ('고/', 'E'), ('대만족입니/', 'N'), ('이/', 'J'), ('다/', 'E'), ('./', 'S')] \n",
      "\n",
      "Komoran POS\n",
      " [('3/', 'SN'), ('달/', 'NNG'), ('정도/', 'NNG'), ('사용/', 'NNG'), ('하/', 'XSV'), ('아/', 'EC'), ('오/', 'VX'), ('고/', 'EC'), ('있/', 'VV'), ('는데/', 'EC'), ('가/', 'XPN'), ('성비/', 'NNP'), ('부터/', 'JX'), ('최고/', 'NNP'), ('예요/', 'EF'), ('./', 'SF'), ('운동/', 'NNG'), ('도/', 'JX'), ('하/', 'VV'), ('고/', 'EC'), ('교통비/', 'NNG'), ('도/', 'JX'), ('아끼/', 'VV'), ('고/', 'EC'), ('대/', 'XPN'), ('만족/', 'NNG'), ('이/', 'VCP'), ('ㅂ니다/', 'EF'), ('./', 'SF')] \n",
      "\n",
      "Mecab POS\n",
      " [('3/', 'SN'), ('달/', 'NNBC'), ('정도/', 'NNG'), ('사용/', 'NNG'), ('해/', 'XSV+EC'), ('오/', 'VV'), ('고/', 'EC'), ('있/', 'VX'), ('는/', 'ETM'), ('데/', 'NNB'), ('가/', 'JKS'), ('성비/', 'NNG'), ('부터/', 'JX'), ('최고/', 'NNG'), ('예요/', 'VCP+EF'), ('./', 'SF'), ('운동/', 'NNG'), ('도/', 'JX'), ('하/', 'VV'), ('고/', 'EC'), ('교통비/', 'NNG'), ('도/', 'JX'), ('아끼/', 'VV'), ('고/', 'EC'), ('대/', 'XPN'), ('만족/', 'NNG'), ('입니다/', 'VCP+EF'), ('./', 'SF')] \n",
      "\n",
      "Twitter POS\n",
      " [('3/', 'Number'), ('달/', 'Noun'), ('정도/', 'Noun'), ('사용/', 'Noun'), ('해오다/', 'Verb'), ('있다/', 'Adjective'), ('가성/', 'Noun'), ('비/', 'Noun'), ('부터/', 'Josa'), ('최고/', 'Noun'), ('예요/', 'Josa'), ('./', 'Punctuation'), ('운동/', 'Noun'), ('도/', 'Josa'), ('하다/', 'Verb'), ('교통비/', 'Noun'), ('도/', 'Josa'), ('아끼다/', 'Verb'), ('대/', 'Modifier'), ('만족/', 'Noun'), ('이다/', 'Adjective'), ('./', 'Punctuation')]\n"
     ]
    }
   ],
   "source": [
    "posComparsionText(g_text1)"
   ]
  },
  {
   "cell_type": "markdown",
   "metadata": {},
   "source": [
    "\n",
    "</br>\n",
    "\n",
    "#### \"QR코드이용해서 대여하니빠르고 편해요 ㅎㅎㅎ. 처음 이용해봤는데 좋았네요^^\"  "
   ]
  },
  {
   "cell_type": "code",
   "execution_count": 37,
   "metadata": {},
   "outputs": [
    {
     "name": "stdout",
     "output_type": "stream",
     "text": [
      "KKMA POS\n",
      " [('QR/', 'OL'), ('코드/', 'NNG'), ('이용/', 'NNG'), ('하/', 'XSV'), ('어서/', 'ECD'), ('대여/', 'NNG'), ('하/', 'XSV'), ('니/', 'ECD'), ('빠르/', 'VA'), ('고/', 'ECE'), ('편하/', 'VA'), ('어요/', 'EFN'), ('ㅎㅎㅎ/', 'EMO'), ('./', 'SF'), ('처음/', 'NNG'), ('이용/', 'NNG'), ('하/', 'XSV'), ('어/', 'ECS'), ('보/', 'VXV'), ('았/', 'EPT'), ('는데/', 'ECD'), ('좋/', 'VA'), ('았/', 'EPT'), ('네요/', 'EFN'), ('^^/', 'EMO')] \n",
      "\n",
      "Hannanum POS\n",
      " [('QR/', 'F'), ('코드이용/', 'N'), ('하/', 'X'), ('어서/', 'E'), ('대여하니빠르/', 'N'), ('이/', 'J'), ('고/', 'E'), ('편하/', 'P'), ('어/', 'E'), ('요/', 'J'), ('ㅎㅎㅎ/', 'N'), ('./', 'S'), ('처음/', 'M'), ('이용/', 'N'), ('하/', 'X'), ('어/', 'E'), ('보/', 'P'), ('아ㄴ데/', 'E'), ('좋았네요/', 'N'), ('^^/', 'S')] \n",
      "\n",
      "Komoran POS\n",
      " [('QR/', 'SL'), ('코드/', 'NNP'), ('이용/', 'NNG'), ('하/', 'XSV'), ('아서/', 'EC'), ('대여/', 'NNG'), ('하/', 'XSV'), ('니/', 'EC'), ('빠르/', 'VA'), ('고/', 'EC'), ('편하/', 'VA'), ('아요/', 'EC'), ('ㅎㅎㅎ./', 'NA'), ('처음/', 'NNG'), ('이용/', 'NNG'), ('하/', 'XSV'), ('아/', 'EC'), ('보/', 'VX'), ('았/', 'EP'), ('는데/', 'EC'), ('좋/', 'VA'), ('았/', 'EP'), ('네요/', 'EC'), ('^/', 'SW'), ('^/', 'SW')] \n",
      "\n",
      "Mecab POS\n",
      " [('QR/', 'SL'), ('코드/', 'NNG'), ('이용/', 'NNG'), ('해서/', 'XSV+EC'), ('대여/', 'NNG'), ('하/', 'XSV'), ('니/', 'EC'), ('빠르/', 'VA'), ('고/', 'EC'), ('편해요/', 'VA+EF'), ('ㅎㅎㅎ/', 'IC'), ('./', 'SF'), ('처음/', 'MAG'), ('이용/', 'NNG'), ('해/', 'XSV+EC'), ('봤/', 'VX+EP'), ('는데/', 'EC'), ('좋/', 'VA'), ('았/', 'EP'), ('네요/', 'EF'), ('^^/', 'SY')] \n",
      "\n",
      "Twitter POS\n",
      " [('QR/', 'Alpha'), ('코드/', 'Noun'), ('이/', 'Suffix'), ('용해서/', 'Adjective'), ('대여/', 'Noun'), ('하니/', 'Verb'), ('빠르고/', 'Adjective'), ('편해요/', 'Adjective'), ('ㅎㅎㅎ/', 'KoreanParticle'), ('./', 'Punctuation'), ('처음/', 'Noun'), ('이용/', 'Noun'), ('해봤는데/', 'Verb'), ('좋았네요/', 'Adjective'), ('^^/', 'Punctuation')]\n"
     ]
    }
   ],
   "source": [
    "posComparsionText(g_text2)"
   ]
  },
  {
   "cell_type": "markdown",
   "metadata": {},
   "source": [
    "</br>\n",
    "\n",
    "#### \"너무너무 좋아요. 결제도 쉽고 대여소 찾는 것도 쉽고 정기권 끊어서 타고있어요. 이거 덕분에 자전거 많이 타고있어요!! 감사합니다~\""
   ]
  },
  {
   "cell_type": "code",
   "execution_count": 14,
   "metadata": {},
   "outputs": [
    {
     "name": "stdout",
     "output_type": "stream",
     "text": [
      "KKMA POS\n",
      " [('너무너무', 'MAG'), ('좋', 'VA'), ('아요', 'EFN'), ('.', 'SF'), ('결제', 'NNG'), ('도', 'JX'), ('쉽', 'VA'), ('고', 'ECE'), ('대이', 'VV'), ('어', 'ECS'), ('소', 'NNG'), ('찾', 'VV'), ('는', 'ETD'), ('것', 'NNB'), ('도', 'JX'), ('쉽', 'VA'), ('고', 'ECE'), ('정기권', 'NNG'), ('끊', 'VV'), ('어서', 'ECD'), ('타', 'VV'), ('고', 'ECE'), ('있', 'VXV'), ('어요', 'EFN'), ('.', 'SF'), ('이거', 'NP'), ('덕분', 'NNG'), ('에', 'JKM'), ('자전거', 'NNG'), ('많이', 'MAG'), ('타', 'VV'), ('고', 'ECE'), ('있', 'VXV'), ('어요', 'EFN'), ('!!', 'SW'), ('감사', 'NNG'), ('하', 'XSV'), ('ㅂ니다', 'EFN'), ('~', 'SO')] \n",
      "\n",
      "Hannanum POS\n",
      " [('너무너무', 'M'), ('좋', 'P'), ('아', 'E'), ('요', 'J'), ('.', 'S'), ('결제', 'N'), ('도', 'J'), ('쉽', 'P'), ('고', 'E'), ('대여소', 'N'), ('찾', 'P'), ('는', 'E'), ('것', 'N'), ('도', 'J'), ('쉽', 'P'), ('고', 'E'), ('정기권', 'N'), ('끊', 'P'), ('어서', 'E'), ('타', 'P'), ('고', 'E'), ('있', 'P'), ('어', 'E'), ('요', 'J'), ('.', 'S'), ('이거', 'N'), ('덕분', 'N'), ('에', 'J'), ('자전거', 'N'), ('많', 'P'), ('이', 'X'), ('타', 'P'), ('고', 'E'), ('있', 'P'), ('어', 'E'), ('요', 'J'), ('!!', 'S'), ('감사', 'N'), ('하', 'X'), ('ㅂ니다', 'E'), ('~', 'S')] \n",
      "\n",
      "Komoran POS\n",
      " [('너무너무', 'MAG'), ('좋', 'VA'), ('아요', 'EF'), ('.', 'SF'), ('결제', 'NNG'), ('도', 'JX'), ('쉽', 'VA'), ('고', 'EC'), ('대', 'XPN'), ('여소', 'NNP'), ('찾', 'VV'), ('는', 'ETM'), ('것', 'NNB'), ('도', 'JX'), ('쉽', 'VA'), ('고', 'EC'), ('정기', 'NNG'), ('권', 'XSN'), ('끊', 'VV'), ('어서', 'EC'), ('타', 'VV'), ('고', 'EC'), ('있', 'VX'), ('어요', 'EF'), ('.', 'SF'), ('이것', 'NP'), ('덕분', 'NNG'), ('에', 'JKB'), ('자전거', 'NNP'), ('많이', 'MAG'), ('타', 'VV'), ('고', 'EC'), ('있', 'VX'), ('어요', 'EF'), ('!', 'SF'), ('!', 'SF'), ('감사', 'NNG'), ('하', 'XSV'), ('ㅂ니다', 'EC'), ('~', 'SO')] \n",
      "\n",
      "Mecab POS\n",
      " [('너무너무', 'MAG'), ('좋', 'VA'), ('아요', 'EF'), ('.', 'SF'), ('결제', 'NNG'), ('도', 'JX'), ('쉽', 'VA'), ('고', 'EC'), ('대여소', 'NNP'), ('찾', 'VV'), ('는', 'ETM'), ('것', 'NNB'), ('도', 'JX'), ('쉽', 'VA'), ('고', 'EC'), ('정기', 'NNG'), ('권', 'XSN'), ('끊', 'VV'), ('어서', 'EC'), ('타', 'VV'), ('고', 'EC'), ('있', 'VX'), ('어요', 'EF'), ('.', 'SF'), ('이거', 'NP'), ('덕분', 'NNG'), ('에', 'JKB'), ('자전거', 'NNG'), ('많이', 'MAG'), ('타', 'VV'), ('고', 'EC'), ('있', 'VX'), ('어요', 'EF'), ('!', 'SF'), ('!', 'SY'), ('감사', 'NNG'), ('합니다', 'XSV+EF'), ('~', 'SY')] \n",
      "\n",
      "Twitter POS\n",
      " [('너무', 'Adverb'), ('너무', 'Adverb'), ('좋아요', 'Adjective'), ('.', 'Punctuation'), ('결제', 'Noun'), ('도', 'Josa'), ('쉽고', 'Verb'), ('대', 'Modifier'), ('여소', 'Noun'), ('찾는', 'Verb'), ('것', 'Noun'), ('도', 'Josa'), ('쉽고', 'Verb'), ('정기권', 'Noun'), ('끊어서', 'Verb'), ('타고있어요', 'Verb'), ('.', 'Punctuation'), ('이', 'Determiner'), ('거', 'Noun'), ('덕분', 'Noun'), ('에', 'Josa'), ('자전거', 'Noun'), ('많이', 'Adverb'), ('타고있어요', 'Verb'), ('!!', 'Punctuation'), ('감사합니다', 'Verb'), ('~', 'Punctuation')]\n"
     ]
    }
   ],
   "source": [
    "posComparsion(g_text3)"
   ]
  },
  {
   "cell_type": "markdown",
   "metadata": {},
   "source": [
    "</br>\n",
    "\n",
    "### 부정리뷰  \n",
    "\n",
    "#### \"소셜로그인은 자동로그인이 안되나요? 너무 불편해요ㅠ\"  "
   ]
  },
  {
   "cell_type": "code",
   "execution_count": 15,
   "metadata": {},
   "outputs": [
    {
     "name": "stdout",
     "output_type": "stream",
     "text": [
      "KKMA POS\n",
      " [('소셜로그인', 'UN'), ('은', 'JX'), ('자동', 'NNG'), ('로그', 'NNG'), ('인', 'NNG'), ('이', 'JKS'), ('안되', 'VV'), ('나요', 'EFQ'), ('?', 'SF'), ('너무', 'MAG'), ('불편', 'NNG'), ('해', 'NNG'), ('요', 'JX'), ('ㅠ', 'UN')] \n",
      "\n",
      "Hannanum POS\n",
      " [('소셜로그인', 'N'), ('은', 'J'), ('자동로그인', 'N'), ('이', 'J'), ('안되', 'P'), ('나', 'E'), ('요', 'J'), ('?', 'S'), ('너무', 'M'), ('불편해요ㅠ', 'N')] \n",
      "\n",
      "Komoran POS\n",
      " [('소', 'NNG'), ('시', 'VA'), ('어', 'EF'), ('ㄹ', 'ETM'), ('로그인', 'NNP'), ('은', 'JX'), ('자동', 'NNG'), ('로그인', 'NNP'), ('이', 'JKS'), ('안', 'NNG'), ('되', 'XSV'), ('나요', 'EF'), ('?', 'SF'), ('너무', 'MAG'), ('불편해요ㅠ', 'NA')] \n",
      "\n",
      "Mecab POS\n",
      " [('소셜', 'NNG'), ('로그인', 'NNG'), ('은', 'JX'), ('자동', 'NNG'), ('로그인', 'NNG'), ('이', 'JKS'), ('안', 'MAG'), ('되', 'VV'), ('나요', 'EF'), ('?', 'SF'), ('너무', 'MAG'), ('불편', 'NNG'), ('해요', 'XSA+EF'), ('ㅠ', 'UNKNOWN')] \n",
      "\n",
      "Twitter POS\n",
      " [('소셜', 'Noun'), ('로그인', 'Noun'), ('은', 'Josa'), ('자동', 'Noun'), ('로그인', 'Noun'), ('이', 'Josa'), ('안되나요', 'Adjective'), ('?', 'Punctuation'), ('너무', 'Adverb'), ('불편해요', 'Adjective'), ('ㅠ', 'KoreanParticle')]\n"
     ]
    }
   ],
   "source": [
    "posComparsion(b_text1)"
   ]
  },
  {
   "cell_type": "markdown",
   "metadata": {},
   "source": [
    "</br>\n",
    "\n",
    "#### \"회원가입도 안되고 로그인도 잘 안되요.\"  "
   ]
  },
  {
   "cell_type": "code",
   "execution_count": 16,
   "metadata": {},
   "outputs": [
    {
     "name": "stdout",
     "output_type": "stream",
     "text": [
      "KKMA POS\n",
      " [('회원', 'NNG'), ('가입', 'NNG'), ('도', 'JX'), ('안되', 'VA'), ('고', 'ECE'), ('로그', 'NNG'), ('인도', 'NNG'), ('잘', 'MAG'), ('안', 'MAG'), ('되', 'VV'), ('어요', 'EFN'), ('.', 'SF')] \n",
      "\n",
      "Hannanum POS\n",
      " [('회원가입', 'N'), ('도', 'J'), ('안되', 'P'), ('고', 'E'), ('로그인', 'N'), ('도', 'J'), ('잘', 'M'), ('안되요', 'N'), ('.', 'S')] \n",
      "\n",
      "Komoran POS\n",
      " [('회원', 'NNG'), ('가입', 'NNG'), ('도', 'JX'), ('안', 'NNG'), ('되', 'XSV'), ('고', 'EC'), ('로그인', 'NNP'), ('도', 'JX'), ('잘', 'MAG'), ('안', 'NNG'), ('되', 'XSV'), ('요', 'EF'), ('.', 'SF')] \n",
      "\n",
      "Mecab POS\n",
      " [('회원', 'NNG'), ('가입', 'NNG'), ('도', 'JX'), ('안', 'MAG'), ('되', 'VV'), ('고', 'EC'), ('로그인', 'NNG'), ('도', 'JX'), ('잘', 'MAG'), ('안', 'MAG'), ('되', 'VV'), ('요', 'EF'), ('.', 'SF')] \n",
      "\n",
      "Twitter POS\n",
      " [('회원', 'Noun'), ('가입', 'Noun'), ('도', 'Josa'), ('안되고', 'Adjective'), ('로그인', 'Noun'), ('도', 'Josa'), ('잘', 'Verb'), ('안되요', 'Adjective'), ('.', 'Punctuation')]\n"
     ]
    }
   ],
   "source": [
    "posComparsion(b_text2)"
   ]
  },
  {
   "cell_type": "markdown",
   "metadata": {},
   "source": [
    "</br>\n",
    "\n",
    "\n",
    "#### \"제발 앱좀 고쳐주세요..매번 카드정보입력하게할거면 뭐하러 회원정보수집하고 뭐하러 로그인시키나요.. 탈때마다 불편해죽겠어요. \""
   ]
  },
  {
   "cell_type": "code",
   "execution_count": 17,
   "metadata": {},
   "outputs": [
    {
     "name": "stdout",
     "output_type": "stream",
     "text": [
      "KKMA POS\n",
      " [('제발', 'MAG'), ('앱', 'UN'), ('좀', 'MAG'), ('고치', 'VV'), ('어', 'ECS'), ('주세', 'NNG'), ('요', 'JX'), ('..', 'SW'), ('매번', 'MAG'), ('카드', 'NNG'), ('정보', 'NNG'), ('입력', 'NNG'), ('하', 'XSV'), ('게', 'ECD'), ('할거', 'NNG'), ('이', 'VCP'), ('면', 'ECE'), ('뭐하', 'VV'), ('러', 'ECD'), ('회원', 'NNG'), ('정보', 'NNG'), ('수집', 'NNG'), ('하', 'XSV'), ('고', 'ECE'), ('뭐하', 'VV'), ('러', 'ECD'), ('로그', 'NNG'), ('인', 'NNG'), ('시키', 'VV'), ('나요', 'ECE'), ('..', 'SW'), ('타', 'VV'), ('ㄹ', 'ETD'), ('때', 'NNG'), ('마다', 'JX'), ('불편', 'NNG'), ('하', 'XSV'), ('어', 'ECS'), ('죽', 'VV'), ('겠', 'EPT'), ('어요', 'EFN'), ('.', 'SF')] \n",
      "\n",
      "Hannanum POS\n",
      " [('제발', 'M'), ('앱좀', 'N'), ('고치', 'P'), ('어', 'E'), ('주', 'P'), ('세', 'E'), ('요', 'J'), ('..', 'S'), ('매번', 'M'), ('카드정보입력', 'N'), ('하', 'X'), ('게', 'E'), ('하', 'P'), ('ㄹ', 'E'), ('것', 'N'), ('이', 'J'), ('면', 'E'), ('뭐하', 'P'), ('러', 'E'), ('회원정보수집', 'N'), ('하고', 'J'), ('뭐하', 'P'), ('러', 'E'), ('로그인', 'N'), ('시키', 'X'), ('나', 'E'), ('요', 'J'), ('..', 'S'), ('타', 'P'), ('ㄹ', 'E'), ('때', 'N'), ('마다', 'J'), ('불편해죽겠어요', 'N'), ('.', 'S')] \n",
      "\n",
      "Komoran POS\n",
      " [('제발', 'MAG'), ('앱좀', 'NA'), ('고치', 'VV'), ('어', 'EC'), ('주', 'VX'), ('시', 'EP'), ('어요', 'EC'), ('..', 'SE'), ('매번', 'MAG'), ('카드', 'NNG'), ('정보', 'NNG'), ('입력', 'NNG'), ('하', 'XSV'), ('게', 'EC'), ('하', 'VX'), ('ㄹ', 'ETM'), ('거', 'NNB'), ('이', 'VCP'), ('면', 'EC'), ('뭐', 'NNG'), ('하', 'XSV'), ('러', 'EC'), ('회원', 'NNG'), ('정보', 'NNG'), ('수집', 'NNG'), ('하', 'XSV'), ('고', 'EC'), ('뭐', 'NNG'), ('하', 'XSV'), ('러', 'EC'), ('로그인', 'NNG'), ('시키', 'XSV'), ('나요', 'EF'), ('.', 'SF'), ('.', 'SF'), ('탈', 'XPN'), ('때', 'NNG'), ('마다', 'JX'), ('불편', 'NNG'), ('하', 'XSV'), ('아', 'EC'), ('죽', 'VV'), ('겠', 'EP'), ('어요', 'EF'), ('.', 'SF')] \n",
      "\n",
      "Mecab POS\n",
      " [('제발', 'MAG'), ('앱', 'NNG'), ('좀', 'MAG'), ('고쳐', 'VV+EC'), ('주', 'VX'), ('세요', 'EP+EF'), ('.', 'SF'), ('.', 'SY'), ('매번', 'MAG'), ('카드', 'NNG'), ('정보', 'NNG'), ('입력', 'NNG'), ('하', 'XSV'), ('게', 'EC'), ('할', 'VX+ETM'), ('거', 'NNB'), ('면', 'VCP+EC'), ('뭐', 'IC'), ('하', 'VV'), ('러', 'EC'), ('회원', 'NNG'), ('정보', 'NNG'), ('수집', 'NNG'), ('하', 'XSV'), ('고', 'EC'), ('뭐', 'IC'), ('하', 'VV'), ('러', 'EC'), ('로그인', 'NNG'), ('시키', 'XSV'), ('나요', 'EF'), ('.', 'SF'), ('.', 'SY'), ('탈', 'XPN'), ('때', 'NNG'), ('마다', 'JX'), ('불편', 'NNG'), ('해', 'XSV+EC'), ('죽', 'VV'), ('겠', 'EP'), ('어요', 'EF'), ('.', 'SF')] \n",
      "\n",
      "Twitter POS\n",
      " [('제발', 'Noun'), ('앱좀', 'Noun'), ('고쳐주세요', 'Verb'), ('..', 'Punctuation'), ('매번', 'Noun'), ('카드', 'Noun'), ('정보', 'Noun'), ('입력', 'Noun'), ('하', 'Suffix'), ('게', 'Josa'), ('할거면', 'Verb'), ('뭐', 'Noun'), ('하러', 'Verb'), ('회원정보', 'Noun'), ('수집', 'Noun'), ('하고', 'Josa'), ('뭐', 'Noun'), ('하러', 'Verb'), ('로그인', 'Noun'), ('시키나요', 'Verb'), ('..', 'Punctuation'), ('탈때', 'Noun'), ('마다', 'Josa'), ('불편해', 'Adjective'), ('죽겠어요', 'Verb'), ('.', 'Punctuation')]\n"
     ]
    }
   ],
   "source": [
    "posComparsion(b_text3)"
   ]
  },
  {
   "cell_type": "code",
   "execution_count": 41,
   "metadata": {},
   "outputs": [
    {
     "name": "stdout",
     "output_type": "stream",
     "text": [
      "KKMA POS\n",
      " [('매번/', 'MAG'), ('카드/', 'NNG'), ('정보/', 'NNG'), ('입력/', 'NNG'), ('하/', 'XSV'), ('게/', 'ECD'), ('할거/', 'NNG'), ('이/', 'VCP'), ('면/', 'ECE'), ('뭐하/', 'VV'), ('러/', 'ECD'), ('회원/', 'NNG'), ('정보/', 'NNG'), ('수집/', 'NNG'), ('하/', 'XSV'), ('고/', 'ECE'), ('뭐하/', 'VV'), ('러/', 'ECD'), ('로그/', 'NNG'), ('인/', 'NNG'), ('시키/', 'VV'), ('나요/', 'ECE'), ('../', 'SW'), ('타/', 'VV'), ('ㄹ/', 'ETD'), ('때/', 'NNG'), ('마다/', 'JX'), ('불편/', 'NNG'), ('하/', 'XSV'), ('어/', 'ECS'), ('죽/', 'VV'), ('겠/', 'EPT'), ('어요/', 'EFN'), ('./', 'SF')] \n",
      "\n",
      "Hannanum POS\n",
      " [('매번/', 'M'), ('카드정보입력/', 'N'), ('하/', 'X'), ('게/', 'E'), ('하/', 'P'), ('ㄹ/', 'E'), ('것/', 'N'), ('이/', 'J'), ('면/', 'E'), ('뭐하/', 'P'), ('러/', 'E'), ('회원정보수집/', 'N'), ('하고/', 'J'), ('뭐하/', 'P'), ('러/', 'E'), ('로그인/', 'N'), ('시키/', 'X'), ('나/', 'E'), ('요/', 'J'), ('../', 'S'), ('타/', 'P'), ('ㄹ/', 'E'), ('때/', 'N'), ('마다/', 'J'), ('불편해죽겠어요/', 'N'), ('./', 'S')] \n",
      "\n",
      "Komoran POS\n",
      " [('매번/', 'MAG'), ('카드/', 'NNG'), ('정보/', 'NNG'), ('입력/', 'NNG'), ('하/', 'XSV'), ('게/', 'EC'), ('하/', 'VX'), ('ㄹ/', 'ETM'), ('거/', 'NNB'), ('이/', 'VCP'), ('면/', 'EC'), ('뭐/', 'NNG'), ('하/', 'XSV'), ('러/', 'EC'), ('회원/', 'NNG'), ('정보/', 'NNG'), ('수집/', 'NNG'), ('하/', 'XSV'), ('고/', 'EC'), ('뭐/', 'NNG'), ('하/', 'XSV'), ('러/', 'EC'), ('로그인/', 'NNG'), ('시키/', 'XSV'), ('나요/', 'EF'), ('./', 'SF'), ('./', 'SF'), ('탈/', 'XPN'), ('때/', 'NNG'), ('마다/', 'JX'), ('불편/', 'NNG'), ('하/', 'XSV'), ('아/', 'EC'), ('죽/', 'VV'), ('겠/', 'EP'), ('어요/', 'EF'), ('./', 'SF')] \n",
      "\n",
      "Mecab POS\n",
      " [('매번/', 'MAG'), ('카드/', 'NNG'), ('정보/', 'NNG'), ('입력/', 'NNG'), ('하/', 'XSV'), ('게/', 'EC'), ('할/', 'VX+ETM'), ('거/', 'NNB'), ('면/', 'VCP+EC'), ('뭐/', 'IC'), ('하/', 'VV'), ('러/', 'EC'), ('회원/', 'NNG'), ('정보/', 'NNG'), ('수집/', 'NNG'), ('하/', 'XSV'), ('고/', 'EC'), ('뭐/', 'IC'), ('하/', 'VV'), ('러/', 'EC'), ('로그인/', 'NNG'), ('시키/', 'XSV'), ('나요/', 'EF'), ('./', 'SF'), ('./', 'SY'), ('탈/', 'XPN'), ('때/', 'NNG'), ('마다/', 'JX'), ('불편/', 'NNG'), ('해/', 'XSV+EC'), ('죽/', 'VV'), ('겠/', 'EP'), ('어요/', 'EF'), ('./', 'SF')] \n",
      "\n",
      "Twitter POS\n",
      " [('매번/', 'Noun'), ('카드/', 'Noun'), ('정보/', 'Noun'), ('입력/', 'Noun'), ('하/', 'Suffix'), ('게/', 'Josa'), ('하다/', 'Verb'), ('뭐/', 'Noun'), ('하다/', 'Verb'), ('회원정보/', 'Noun'), ('수집/', 'Noun'), ('하고/', 'Josa'), ('뭐/', 'Noun'), ('하다/', 'Verb'), ('로그인/', 'Noun'), ('시키다/', 'Verb'), ('../', 'Punctuation'), ('탈때/', 'Noun'), ('마다/', 'Josa'), ('불편하다/', 'Adjective'), ('죽다/', 'Verb'), ('./', 'Punctuation')]\n"
     ]
    }
   ],
   "source": [
    "posComparsionText(b_text_extra)"
   ]
  },
  {
   "cell_type": "code",
   "execution_count": 38,
   "metadata": {},
   "outputs": [
    {
     "data": {
      "text/plain": [
       "[('3', 'Number'),\n",
       " ('달', 'Noun'),\n",
       " ('정도', 'Noun'),\n",
       " ('사용', 'Noun'),\n",
       " ('해오다', 'Verb'),\n",
       " ('있다', 'Adjective'),\n",
       " ('가성', 'Noun'),\n",
       " ('비', 'Noun'),\n",
       " ('부터', 'Josa'),\n",
       " ('최고', 'Noun'),\n",
       " ('예요', 'Josa'),\n",
       " ('.', 'Punctuation'),\n",
       " ('운동', 'Noun'),\n",
       " ('도', 'Josa'),\n",
       " ('하다', 'Verb'),\n",
       " ('교통비', 'Noun'),\n",
       " ('도', 'Josa'),\n",
       " ('아끼다', 'Verb'),\n",
       " ('대', 'Modifier'),\n",
       " ('만족', 'Noun'),\n",
       " ('이다', 'Adjective'),\n",
       " ('.', 'Punctuation')]"
      ]
     },
     "execution_count": 38,
     "metadata": {},
     "output_type": "execute_result"
    }
   ],
   "source": [
    "twitter.pos(\"3달정도 사용해오고 있는데 가성비부터 최고예요. 운동도 하고 교통비도 아끼고 대만족입니다.\" , stem=True)"
   ]
  },
  {
   "cell_type": "code",
   "execution_count": null,
   "metadata": {},
   "outputs": [],
   "source": []
  }
 ],
 "metadata": {
  "kernelspec": {
   "display_name": "Python 3",
   "language": "python",
   "name": "python3"
  },
  "language_info": {
   "codemirror_mode": {
    "name": "ipython",
    "version": 3
   },
   "file_extension": ".py",
   "mimetype": "text/x-python",
   "name": "python",
   "nbconvert_exporter": "python",
   "pygments_lexer": "ipython3",
   "version": "3.7.3"
  }
 },
 "nbformat": 4,
 "nbformat_minor": 4
}
