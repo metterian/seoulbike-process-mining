{
 "cells": [
  {
   "cell_type": "markdown",
   "metadata": {},
   "source": [
    "#### Preprocessing"
   ]
  },
  {
   "cell_type": "code",
   "execution_count": 2,
   "metadata": {},
   "outputs": [],
   "source": [
    "from ckonlpy.tag import Postprocessor #전처리 라이브러리\n",
    "from ckonlpy.tag import Twitter\n",
    "import warnings\n",
    "warnings.simplefilter(\"ignore\")\n",
    "\n",
    "ctwitter = Twitter()\n",
    "ctwitter.add_dictionary('해주시면','Verb')\n",
    "#ctwitter.add_dictionary(['타고','요청드립니다','부탁드립니다', '요청 드립니다','부탁 드립니다','해','주시면','해주시면'],'Verb')\n",
    "ctwitter.add_dictionary(['따릉이','자출',\n",
    "                       '대여소','연결거치','거치대','고객센터',\n",
    "                        '다시','퇴근시간','대여시간',\n",
    "                        '출근시간','한시간','두시간','임시폐쇄',\n",
    "                         '자동로그인','UX', '1일권', '일일권','가성비',\n",
    "                         '상담원','재로그인', '인증번호', '가입','렉', '랙','제로페이','결제','큐알코드','QR','뒤로가기',\n",
    "                         '대여번호''결제','결재','여러번','불편','개불편함','내세금','전반적', '지도화면',\n",
    "                        ], 'Noun')\n",
    "#조사\n",
    "ctwitter.add_dictionary(['까지','하냐'], 'Josa')\n",
    "#형용사\n",
    "ctwitter.add_dictionary(['레알','허접한','오지게' ,'어려워','안되', '열받','안됨', '안와' ,'참어렵네'], 'Adjective')\n",
    "#부사\n",
    "\n",
    "ctwitter.add_dictionary(['왜', '좀','진짜','최악' , '참'], 'Adverb', force=True)\n",
    "\n",
    "ctwitter.add_dictionary(['타고','요청드립니다','부탁드립니다',\n",
    "                         '요청 드립니다','부탁 드립니다','하기'],'Verb')\n",
    "\n",
    "#무의미한 형태소 및 단어 제거\n",
    "stopwords = {'수가','까지','드립','번','수','것', '앞','해주','왜',\n",
    "             '곳','떄','좀','어요','요','이','감사','이','그','고','제','쪽','더','후','시','거',\n",
    "'려고','적','저','데','등','역','중','해주시','내','면서','어서','때','뭐','못','마다','더니','해도','해도','다가','어가','개','하라','하나','걸'}\n",
    "\n",
    "\n",
    "#단어 대치\n",
    "replace = {'어플리케이션': '어플',\n",
    "           '앱': '어플',\n",
    "           '폐쇠':'페쇄',\n",
    "           '젛은':'좋은',\n",
    "           '연계':'연동',\n",
    "           '맵':'지도',\n",
    "           '인터페이스':'UI',\n",
    "           '유아이':'UI',\n",
    "           'ui': 'UI',\n",
    "           'T머니' : '티머니',\n",
    "           '렉':'오류',\n",
    "           '랙':'오류',\n",
    "           '가입': '회원가입',\n",
    "          '결재':'결제',\n",
    "           '버젼':'버전',\n",
    "           '고객 센터': '고객센터',\n",
    "           '에러': '오류',\n",
    "           '버그': '오류',\n",
    "           '업뎃':'업데이트' ,'업댓':'업데이트','업디이트':'업데이트','리뉴얼':'업데이트','개편':'업데이트','업그레이드':'업데이트',\n",
    "           '업데이틀':'업데이트',\n",
    "           '업글' :'업데이트',\n",
    "           '비번':'비밀번호',\n",
    "           '머지':'뭐지',\n",
    "           '자동 로그인':'자동로그인',\n",
    "           '딜레이':'지연',\n",
    "           '정거장': '대여소','정류장': '대여소','대여수': '대여소',\n",
    "           '큐알':'QR','qr':'QR','큐알코드':'QR',\n",
    "           '알코':'QR',\n",
    "           '리붓':'재부팅',\n",
    "           '튜토리얼':'이용설명',\n",
    "           '이용안내':'이용설명',\n",
    "           '안되요':'안돼요',\n",
    "           '카톡': '카카오톡',\n",
    "           '먹통' :'오류',\n",
    "           '제하': '결제',\n",
    "            '카카오': '카카오톡',\n",
    "            '카카오계정': '카카오톡',\n",
    "           ('안되고', 'Adjective'): '안되',\n",
    "           '않':'안되',\n",
    "           '마니':'많이',\n",
    "           '허다': '많다',\n",
    "           '안와': '안되',\n",
    "           '안': '안되',\n",
    "           '폰':'휴대폰',\n",
    "           '지도화면':'지도',\n",
    "           '안됨':'안되',\n",
    "           '팅김':'오류',\n",
    "           '장애':'오류',\n",
    "           '내세금':'세금',\n",
    "           '개불편함':'불편',\n",
    "           '연결거치': '연결'}\n",
    "\n",
    "postprocessor = Postprocessor(ctwitter, stopwords = stopwords,replace = replace)"
   ]
  },
  {
   "cell_type": "code",
   "execution_count": 480,
   "metadata": {},
   "outputs": [
    {
     "data": {
      "text/plain": [
       "[('어플', 'Noun'),\n",
       " ('네트워크', 'Noun'),\n",
       " ('오류', 'Noun'),\n",
       " (',', 'Punctuation'),\n",
       " ('어플', 'Noun'),\n",
       " ('을', 'Josa'),\n",
       " ('다시', 'Noun'),\n",
       " ('깔고', 'Verb'),\n",
       " ('깔아도', 'Verb'),\n",
       " ('로그인', 'Noun'),\n",
       " ('하면', 'Verb'),\n",
       " ('네트워크', 'Noun'),\n",
       " ('연결', 'Noun'),\n",
       " ('오류', 'Noun'),\n",
       " ('입니다', 'Adjective'),\n",
       " ('.', 'Punctuation'),\n",
       " ('다시', 'Noun'),\n",
       " ('연결', 'Noun'),\n",
       " ('하시겠', 'Verb'),\n",
       " ('습', 'Noun'),\n",
       " ('니까', 'Josa'),\n",
       " ('?', 'Punctuation'),\n",
       " ('가', 'Verb'),\n",
       " ('계속', 'Noun'),\n",
       " ('떠요', 'Verb'),\n",
       " ('!!!!!!!!!!!!', 'Punctuation'),\n",
       " ('아무', 'Noun'),\n",
       " ('도', 'Josa'),\n",
       " ('안되', 'Adjective'),\n",
       " ('빨리', 'Adverb'),\n",
       " ('처리', 'Noun'),\n",
       " ('세요', 'Eomi')]"
      ]
     },
     "execution_count": 480,
     "metadata": {},
     "output_type": "execute_result"
    }
   ],
   "source": [
    "postprocessor.pos('앱 네트워크오류,앱을 다시 깔고 깔아도 로그인하면네트워크연결 오류입니다. 다시 연결하시겠습니까? 가 계속 떠요!!!!!!!!!!!! 아무것도 안되고빨리 처리해주세요')\n"
   ]
  },
  {
   "cell_type": "markdown",
   "metadata": {},
   "source": [
    "#### 형태소 분석을 진행함"
   ]
  },
  {
   "cell_type": "code",
   "execution_count": 3,
   "metadata": {},
   "outputs": [],
   "source": [
    "def do_twitter(text):\n",
    "    sentences_tag = []\n",
    "    for sentence in text:\n",
    "        morph = postprocessor.pos(sentence)\n",
    "        sentences_tag.append(morph)\n",
    "    return sentences_tag"
   ]
  },
  {
   "cell_type": "code",
   "execution_count": 4,
   "metadata": {},
   "outputs": [],
   "source": [
    "def stop_wording(sentences_tag):\n",
    "    token = []\n",
    "    token_set={}\n",
    "    token_table=[]\n",
    "    cnt = 0\n",
    "    for row in sentences_tag:\n",
    "        token=[]\n",
    "\n",
    "        for word,tag in row:\n",
    "\n",
    "            if tag in 'Noun':\n",
    "                token.append(word)\n",
    "            elif tag in 'Adjective':\n",
    "                token.append(word)\n",
    "            elif tag in 'Adverv':\n",
    "                token.append(word)\n",
    "\n",
    "\n",
    "        token_table.append(token)\n",
    "    return token_table"
   ]
  },
  {
   "cell_type": "markdown",
   "metadata": {},
   "source": [
    "### 분석처리를 위한 파일 합병 엑셀화"
   ]
  },
  {
   "cell_type": "code",
   "execution_count": 20,
   "metadata": {},
   "outputs": [],
   "source": [
    "import pandas as pd\n",
    "df = pd.read_csv('sbike_google_sept.csv')\n",
    "text = df['review_text']"
   ]
  },
  {
   "cell_type": "code",
   "execution_count": 25,
   "metadata": {},
   "outputs": [],
   "source": [
    "df_text = do_twitter(text)\n",
    "b = stop_wording(df_text)\n"
   ]
  },
  {
   "cell_type": "code",
   "execution_count": 17,
   "metadata": {},
   "outputs": [],
   "source": [
    "df_text = pd.DataFrame(df_text)\n",
    "concat_df = pd.concat([df_text, text], axis=1)\n",
    "concat_df = concat_df.rename(columns={0:'tokenized'})\n",
    "concat_df.to_excel('Yoon/preprocess.xlsx')"
   ]
  },
  {
   "cell_type": "code",
   "execution_count": 18,
   "metadata": {},
   "outputs": [
    {
     "ename": "TypeError",
     "evalue": "'NoneType' object is not iterable",
     "output_type": "error",
     "traceback": [
      "\u001b[0;31m---------------------------------------------------------------------------\u001b[0m",
      "\u001b[0;31mTypeError\u001b[0m                                 Traceback (most recent call last)",
      "\u001b[0;32m<ipython-input-18-c2b2f8f6d8e9>\u001b[0m in \u001b[0;36m<module>\u001b[0;34m\u001b[0m\n\u001b[1;32m      1\u001b[0m \u001b[0ma\u001b[0m \u001b[0;34m=\u001b[0m \u001b[0;34m[\u001b[0m\u001b[0;34m]\u001b[0m\u001b[0;34m\u001b[0m\u001b[0;34m\u001b[0m\u001b[0m\n\u001b[1;32m      2\u001b[0m \u001b[0;32mfor\u001b[0m \u001b[0mrow\u001b[0m \u001b[0;32min\u001b[0m \u001b[0mconcat_df\u001b[0m\u001b[0;34m[\u001b[0m\u001b[0;34m'tokenized'\u001b[0m\u001b[0;34m]\u001b[0m\u001b[0;34m:\u001b[0m\u001b[0;34m\u001b[0m\u001b[0;34m\u001b[0m\u001b[0m\n\u001b[0;32m----> 3\u001b[0;31m     \u001b[0ma\u001b[0m\u001b[0;34m.\u001b[0m\u001b[0mappend\u001b[0m\u001b[0;34m(\u001b[0m\u001b[0mlist\u001b[0m\u001b[0;34m(\u001b[0m\u001b[0mrow\u001b[0m\u001b[0;34m)\u001b[0m\u001b[0;34m)\u001b[0m\u001b[0;34m\u001b[0m\u001b[0;34m\u001b[0m\u001b[0m\n\u001b[0m",
      "\u001b[0;31mTypeError\u001b[0m: 'NoneType' object is not iterable"
     ]
    }
   ],
   "source": [
    "a = []\n",
    "for row in concat_df['tokenized']:\n",
    "    a.append(list(row))\n"
   ]
  },
  {
   "cell_type": "code",
   "execution_count": 27,
   "metadata": {},
   "outputs": [],
   "source": [
    "from gensim import corpora\n",
    "\n",
    "dictionary  = corpora.Dictionary(b)\n",
    "corpus = [dictionary.doc2bow(text) for text in b ]\n"
   ]
  },
  {
   "cell_type": "code",
   "execution_count": 28,
   "metadata": {},
   "outputs": [
    {
     "data": {
      "text/plain": [
       "[(0,\n",
       "  '0.036*\"어플\" + 0.030*\"안되\" + 0.024*\"오류\" + 0.019*\"결제\" + 0.014*\"자전거\" + 0.013*\"로그인\" + 0.011*\"로딩\" + 0.010*\"불편\" + 0.009*\"시간\" + 0.009*\"대여\"'),\n",
       " (1,\n",
       "  '0.035*\"지도\" + 0.030*\"대여소\" + 0.026*\"업데이트\" + 0.019*\"어플\" + 0.018*\"안되\" + 0.015*\"검색\" + 0.013*\"대여\" + 0.011*\"위치\" + 0.010*\"자전거\" + 0.010*\"사용\"'),\n",
       " (2,\n",
       "  '0.042*\"어플\" + 0.011*\"자전거\" + 0.011*\"따릉이\" + 0.009*\"시간\" + 0.007*\"돈\" + 0.007*\"오류\" + 0.007*\"제발\" + 0.005*\"자동로그인\" + 0.005*\"쓰레기\" + 0.005*\"정말\"'),\n",
       " (3,\n",
       "  '0.036*\"어플\" + 0.033*\"로그인\" + 0.023*\"오류\" + 0.022*\"안되\" + 0.019*\"결제\" + 0.014*\"따릉이\" + 0.010*\"카카오톡\" + 0.008*\"사용\" + 0.006*\"체크\" + 0.006*\"최악\"'),\n",
       " (4,\n",
       "  '0.054*\"어플\" + 0.018*\"진짜\" + 0.018*\"안되\" + 0.013*\"결제\" + 0.012*\"최악\" + 0.011*\"회원\" + 0.011*\"자전거\" + 0.010*\"비밀번호\" + 0.010*\"따릉이\" + 0.010*\"회원가입\"')]"
      ]
     },
     "execution_count": 28,
     "metadata": {},
     "output_type": "execute_result"
    }
   ],
   "source": [
    "#따릉이 어플 리뷰 전반적\n",
    "import gensim\n",
    "lda = gensim.models.ldamodel.LdaModel(corpus=corpus, id2word=dictionary, num_topics=5, update_every=1, chunksize=10000, passes=20)\n",
    "lda.print_topics()\n"
   ]
  },
  {
   "cell_type": "markdown",
   "metadata": {},
   "source": [
    "### 부정적 점수를 준 리뷰"
   ]
  },
  {
   "cell_type": "code",
   "execution_count": 416,
   "metadata": {},
   "outputs": [],
   "source": [
    "df = pd.read_csv('sbike_google_sept.csv')\n",
    "bad_reviews = df[df['rating']<3]['review_text']"
   ]
  },
  {
   "cell_type": "code",
   "execution_count": 418,
   "metadata": {},
   "outputs": [],
   "source": [
    "sentence_tag =do_twitter(bad_reviews)"
   ]
  },
  {
   "cell_type": "code",
   "execution_count": 419,
   "metadata": {},
   "outputs": [],
   "source": [
    "bad_tokenized = stop_wording(sentence_tag)"
   ]
  },
  {
   "cell_type": "code",
   "execution_count": 421,
   "metadata": {},
   "outputs": [
    {
     "data": {
      "text/plain": [
       "[(0,\n",
       "  '0.037*\"어플\" + 0.022*\"결제\" + 0.021*\"안되\" + 0.017*\"대여\" + 0.016*\"자전거\" + 0.013*\"오류\" + 0.010*\"사용\" + 0.010*\"불편\" + 0.009*\"대여소\" + 0.009*\"따릉이\"'),\n",
       " (1,\n",
       "  '0.062*\"어플\" + 0.023*\"안되\" + 0.014*\"오류\" + 0.014*\"결제\" + 0.012*\"로그인\" + 0.011*\"따릉이\" + 0.010*\"회원가입\" + 0.010*\"회원\" + 0.010*\"업데이트\" + 0.009*\"자전거\"'),\n",
       " (2,\n",
       "  '0.034*\"어플\" + 0.027*\"로그인\" + 0.025*\"안되\" + 0.021*\"지도\" + 0.012*\"오류\" + 0.011*\"최악\" + 0.009*\"대여소\" + 0.009*\"진짜\" + 0.008*\"검색\" + 0.008*\"결제\"'),\n",
       " (3,\n",
       "  '0.032*\"어플\" + 0.018*\"안되\" + 0.016*\"쓰레기\" + 0.013*\"결제\" + 0.012*\"진짜\" + 0.010*\"오류\" + 0.009*\"로딩\" + 0.009*\"계속\" + 0.009*\"최악\" + 0.007*\"정말\"'),\n",
       " (4,\n",
       "  '0.041*\"업데이트\" + 0.020*\"안되\" + 0.014*\"지도\" + 0.014*\"대여소\" + 0.013*\"자전거\" + 0.011*\"어플\" + 0.010*\"버전\" + 0.009*\"최악\" + 0.008*\"돈\" + 0.008*\"오류\"')]"
      ]
     },
     "execution_count": 421,
     "metadata": {},
     "output_type": "execute_result"
    }
   ],
   "source": [
    "dictionary  = corpora.Dictionary(bad_tokenized)\n",
    "corpus = [dictionary.doc2bow(text) for text in bad_tokenized ]\n",
    "lda = gensim.models.ldamodel.LdaModel(corpus=corpus, id2word=dictionary, num_topics=5, update_every=1, chunksize=10000, passes=20)\n",
    "lda.print_topics()"
   ]
  }
 ],
 "metadata": {
  "kernelspec": {
   "display_name": "Python 3",
   "language": "python",
   "name": "python3"
  },
  "language_info": {
   "codemirror_mode": {
    "name": "ipython",
    "version": 3
   },
   "file_extension": ".py",
   "mimetype": "text/x-python",
   "name": "python",
   "nbconvert_exporter": "python",
   "pygments_lexer": "ipython3",
   "version": "3.7.3"
  }
 },
 "nbformat": 4,
 "nbformat_minor": 2
}
