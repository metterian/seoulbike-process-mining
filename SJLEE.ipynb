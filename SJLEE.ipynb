{
 "cells": [
  {
   "cell_type": "code",
   "execution_count": 37,
   "metadata": {},
   "outputs": [],
   "source": [
    "import csv\n",
    "with open('data_refined.csv', 'r',encoding ='utf-8-sig') as f:\n",
    "    reader = csv.DictReader(f)\n",
    "    a = [] #a list could be the diverse pararmeter which you want to analyze.\n",
    "           #this algorithm, I'm going to use 'a' as Height\n",
    "\n",
    "    name= [] # player's name list\n",
    "    overall= [] #player's overall list\n",
    "    idn = []    #player's ID\n",
    "    position = [] #player's position\n",
    "    for row in reader:\n",
    "     \n",
    "        a.append(row['Height'])\n",
    "        name.append(row['Name'])        #inputing the Name\n",
    "        overall.append(row['Overall'])\n",
    "        idn.append(row['ID']) #ID \n",
    "        position.append(row['Position']) #get the Position of Player\n",
    "        \n"
   ]
  },
  {
   "cell_type": "code",
   "execution_count": 11,
   "metadata": {},
   "outputs": [
    {
     "ename": "Exception",
     "evalue": "Install MeCab in order to use it: http://konlpy.org/en/latest/install/",
     "output_type": "error",
     "traceback": [
      "\u001b[0;31m---------------------------------------------------------------------------\u001b[0m",
      "\u001b[0;31mNameError\u001b[0m                                 Traceback (most recent call last)",
      "\u001b[0;32m/anaconda3/lib/python3.7/site-packages/konlpy/tag/_mecab.py\u001b[0m in \u001b[0;36m__init__\u001b[0;34m(self, dicpath)\u001b[0m\n\u001b[1;32m    106\u001b[0m         \u001b[0;32mtry\u001b[0m\u001b[0;34m:\u001b[0m\u001b[0;34m\u001b[0m\u001b[0;34m\u001b[0m\u001b[0m\n\u001b[0;32m--> 107\u001b[0;31m             \u001b[0mself\u001b[0m\u001b[0;34m.\u001b[0m\u001b[0mtagger\u001b[0m \u001b[0;34m=\u001b[0m \u001b[0mTagger\u001b[0m\u001b[0;34m(\u001b[0m\u001b[0;34m'-d %s'\u001b[0m \u001b[0;34m%\u001b[0m \u001b[0mdicpath\u001b[0m\u001b[0;34m)\u001b[0m\u001b[0;34m\u001b[0m\u001b[0;34m\u001b[0m\u001b[0m\n\u001b[0m\u001b[1;32m    108\u001b[0m             \u001b[0mself\u001b[0m\u001b[0;34m.\u001b[0m\u001b[0mtagset\u001b[0m \u001b[0;34m=\u001b[0m \u001b[0mutils\u001b[0m\u001b[0;34m.\u001b[0m\u001b[0mread_json\u001b[0m\u001b[0;34m(\u001b[0m\u001b[0;34m'%s/data/tagset/mecab.json'\u001b[0m \u001b[0;34m%\u001b[0m \u001b[0mutils\u001b[0m\u001b[0;34m.\u001b[0m\u001b[0minstallpath\u001b[0m\u001b[0;34m)\u001b[0m\u001b[0;34m\u001b[0m\u001b[0;34m\u001b[0m\u001b[0m\n",
      "\u001b[0;31mNameError\u001b[0m: name 'Tagger' is not defined",
      "\nDuring handling of the above exception, another exception occurred:\n",
      "\u001b[0;31mException\u001b[0m                                 Traceback (most recent call last)",
      "\u001b[0;32m<ipython-input-11-237180379a0f>\u001b[0m in \u001b[0;36m<module>\u001b[0;34m\u001b[0m\n\u001b[1;32m      1\u001b[0m \u001b[0;32mfrom\u001b[0m \u001b[0mkonlpy\u001b[0m\u001b[0;34m.\u001b[0m\u001b[0mtag\u001b[0m \u001b[0;32mimport\u001b[0m \u001b[0mMecab\u001b[0m\u001b[0;34m\u001b[0m\u001b[0;34m\u001b[0m\u001b[0m\n\u001b[1;32m      2\u001b[0m \u001b[0;34m\u001b[0m\u001b[0m\n\u001b[0;32m----> 3\u001b[0;31m \u001b[0mmecab\u001b[0m \u001b[0;34m=\u001b[0m \u001b[0mMecab\u001b[0m\u001b[0;34m(\u001b[0m\u001b[0;34m)\u001b[0m\u001b[0;34m\u001b[0m\u001b[0;34m\u001b[0m\u001b[0m\n\u001b[0m",
      "\u001b[0;32m/anaconda3/lib/python3.7/site-packages/konlpy/tag/_mecab.py\u001b[0m in \u001b[0;36m__init__\u001b[0;34m(self, dicpath)\u001b[0m\n\u001b[1;32m    110\u001b[0m             \u001b[0;32mraise\u001b[0m \u001b[0mException\u001b[0m\u001b[0;34m(\u001b[0m\u001b[0;34m'The MeCab dictionary does not exist at \"%s\". Is the dictionary correctly installed?\\nYou can also try entering the dictionary path when initializing the Mecab class: \"Mecab(\\'/some/dic/path\\')\"'\u001b[0m \u001b[0;34m%\u001b[0m \u001b[0mdicpath\u001b[0m\u001b[0;34m)\u001b[0m\u001b[0;34m\u001b[0m\u001b[0;34m\u001b[0m\u001b[0m\n\u001b[1;32m    111\u001b[0m         \u001b[0;32mexcept\u001b[0m \u001b[0mNameError\u001b[0m\u001b[0;34m:\u001b[0m\u001b[0;34m\u001b[0m\u001b[0;34m\u001b[0m\u001b[0m\n\u001b[0;32m--> 112\u001b[0;31m             \u001b[0;32mraise\u001b[0m \u001b[0mException\u001b[0m\u001b[0;34m(\u001b[0m\u001b[0;34m'Install MeCab in order to use it: http://konlpy.org/en/latest/install/'\u001b[0m\u001b[0;34m)\u001b[0m\u001b[0;34m\u001b[0m\u001b[0;34m\u001b[0m\u001b[0m\n\u001b[0m",
      "\u001b[0;31mException\u001b[0m: Install MeCab in order to use it: http://konlpy.org/en/latest/install/"
     ]
    }
   ],
   "source": [
    "from konlpy.tag import Mecab\n",
    "\n",
    "mecab = Mecab()"
   ]
  },
  {
   "cell_type": "code",
   "execution_count": 51,
   "metadata": {},
   "outputs": [],
   "source": [
    "#Coverte Feet,Inches -> cm\n",
    "def parse_height(str):\n",
    "    \n",
    "    feet_inches = str.split(\"'\") \n",
    "    #Height data is sting such as \"5'6\". so we want to covert string to integer\n",
    "    #5'6 means 5 is feet and 6 is inche. First, we had to split the sting. divide into two by \"'\"\n",
    "    if feet_inches[0] == '': #if there is no data it could be error, after 13236 \n",
    "\n",
    "        return 0\n",
    "    \n",
    "    elif feet_inches[1] == '':\n",
    "        return 12 * int(feet_inches[0]) \n",
    "    \n",
    "    \n",
    "    else:\n",
    "        return 12 * int(feet_inches[0]) + float(feet_inches[1])\n",
    "    \n",
    "    \n",
    "\n",
    "# Convert a height in inches to a height in centimeters\n",
    "def inches_to_centimeters(inches):\n",
    "    return 2.54 * inches\n"
   ]
  },
  {
   "cell_type": "code",
   "execution_count": 39,
   "metadata": {},
   "outputs": [],
   "source": [
    "height=[] #coverted data which is cm\n",
    "for num in a:\n",
    "    \n",
    "    height.append(int(float(inches_to_centimeters(parse_height(num)))))"
   ]
  },
  {
   "cell_type": "code",
   "execution_count": null,
   "metadata": {},
   "outputs": [],
   "source": []
  },
  {
   "cell_type": "code",
   "execution_count": 40,
   "metadata": {},
   "outputs": [
    {
     "data": {
      "text/plain": [
       "[170, 187, 175, 193, 180]"
      ]
     },
     "execution_count": 40,
     "metadata": {},
     "output_type": "execute_result"
    }
   ],
   "source": [
    "height[0:5]"
   ]
  },
  {
   "cell_type": "code",
   "execution_count": 24,
   "metadata": {},
   "outputs": [],
   "source": [
    "def quick_sorted(arr): #This algorithm just simply get the sorted data.\n",
    "    if len(arr) > 1:\n",
    "        pivot = arr[len(arr)-1]\n",
    "        left, mid, right = [], [], []\n",
    "        for i in range(len(arr)-1):\n",
    "            if arr[i] < pivot:\n",
    "                left.append(arr[i])\n",
    "            elif arr[i] > pivot:\n",
    "                right.append(arr[i])\n",
    "            else:\n",
    "                mid.append(arr[i])\n",
    "        mid.append(pivot)\n",
    "        return quick_sorted(left) + mid + quick_sorted(right)\n",
    "    else:\n",
    "        return arr\n",
    "        "
   ]
  },
  {
   "cell_type": "code",
   "execution_count": 25,
   "metadata": {},
   "outputs": [],
   "source": [
    "result1 = quick_sorted(height)"
   ]
  },
  {
   "cell_type": "code",
   "execution_count": 26,
   "metadata": {},
   "outputs": [],
   "source": [
    "result1.reverse()"
   ]
  },
  {
   "cell_type": "code",
   "execution_count": 27,
   "metadata": {},
   "outputs": [
    {
     "data": {
      "text/plain": [
       "[205, 205, 203, 203, 203]"
      ]
     },
     "execution_count": 27,
     "metadata": {},
     "output_type": "execute_result"
    }
   ],
   "source": [
    "result1[0:5]"
   ]
  },
  {
   "cell_type": "code",
   "execution_count": 28,
   "metadata": {},
   "outputs": [],
   "source": [
    "def quicksort_player(li,li2): \n",
    "                                            #I revised this quick_sorting algorithm. \n",
    "                                            #As the result, this algorithm needs to two parameter.\n",
    "                                            #If first input is X(int) and second input is Y(Sting), \n",
    "                                            #Whenever X is sorted, simultaneously the data of Y inplaced. then, It outputs the sorted Y data.\n",
    "    \n",
    "                                            #l2 is Parameter that you want ouput. ex)Name\n",
    "    start = 0\n",
    "    end = len(li) - 1\n",
    "    return sort(li,li2, start, end)\n",
    "def sort(li,li2, start, end):\n",
    "    if start >= end:\n",
    "        return\n",
    "\n",
    "    pivot = (start + end) // 2\n",
    "    left, right = start, end\n",
    "\n",
    "    while left <= right:\n",
    "        while li[left] < li[pivot]:\n",
    "            left += 1\n",
    "        while li[right] > li[pivot]:\n",
    "            right -= 1\n",
    "        if left <= right:\n",
    "            li[left], li[right] = li[right], li[left] \n",
    "            li2[left], li2[right] = li2[right], li2[left] #inplace the Value using Index -> Parameter\n",
    "            left += 1\n",
    "            right -= 1\n",
    "            continue\n",
    "\n",
    "    # They've crossed\n",
    "    left, right = right, left\n",
    "\n",
    "    sort(li,li2, start, left)\n",
    "    sort(li, li2, right, end)\n",
    "    return li2\n",
    "\n",
    "\n",
    "\n"
   ]
  },
  {
   "cell_type": "code",
   "execution_count": 29,
   "metadata": {},
   "outputs": [],
   "source": [
    "result = quicksort_player(height, name)"
   ]
  },
  {
   "cell_type": "code",
   "execution_count": 30,
   "metadata": {},
   "outputs": [],
   "source": [
    "result.reverse()"
   ]
  },
  {
   "cell_type": "code",
   "execution_count": 31,
   "metadata": {},
   "outputs": [
    {
     "data": {
      "text/plain": [
       "['D. Hodzic', 'T. Holý', 'K. Scherpen', 'A. Vukotić', 'D. Thiam']"
      ]
     },
     "execution_count": 31,
     "metadata": {},
     "output_type": "execute_result"
    }
   ],
   "source": [
    "result[0:5]"
   ]
  },
  {
   "cell_type": "markdown",
   "metadata": {},
   "source": [
    "#### Above List is only showing GK Player. Almost GK are tall, so sorting GK is meaningless. But, we find field player"
   ]
  },
  {
   "cell_type": "code",
   "execution_count": 41,
   "metadata": {},
   "outputs": [],
   "source": [
    "#deleting GK position\n",
    "idx = 0\n",
    "for find in position:\n",
    "    \n",
    "    if find =='GK':\n",
    "        del position[idx]\n",
    "        del height[idx]\n",
    "        del name[idx]\n",
    "        del overall[idx]\n",
    "        del idn[idx]\n",
    "    idx+=1"
   ]
  },
  {
   "cell_type": "code",
   "execution_count": 42,
   "metadata": {},
   "outputs": [],
   "source": [
    "map_name1 = dict(zip(idn, overall))\n",
    "map_name2 = dict(zip(idn, name))"
   ]
  },
  {
   "cell_type": "code",
   "execution_count": 506,
   "metadata": {},
   "outputs": [
    {
     "data": {
      "text/plain": [
       "['RF', 'ST', 'LW', 'RCM', 'LF']"
      ]
     },
     "execution_count": 506,
     "metadata": {},
     "output_type": "execute_result"
    }
   ],
   "source": [
    "position[0:5] #checking data, there is GK or not"
   ]
  },
  {
   "cell_type": "code",
   "execution_count": 43,
   "metadata": {},
   "outputs": [],
   "source": [
    "result3 = quick_sorted(height)"
   ]
  },
  {
   "cell_type": "code",
   "execution_count": 44,
   "metadata": {},
   "outputs": [],
   "source": [
    "result3.reverse()"
   ]
  },
  {
   "cell_type": "code",
   "execution_count": 45,
   "metadata": {},
   "outputs": [
    {
     "data": {
      "text/plain": [
       "[203,\n",
       " 203,\n",
       " 203,\n",
       " 200,\n",
       " 200,\n",
       " 200,\n",
       " 200,\n",
       " 200,\n",
       " 200,\n",
       " 200,\n",
       " 200,\n",
       " 200,\n",
       " 200,\n",
       " 200,\n",
       " 200,\n",
       " 200,\n",
       " 200,\n",
       " 198,\n",
       " 198,\n",
       " 198]"
      ]
     },
     "execution_count": 45,
     "metadata": {},
     "output_type": "execute_result"
    }
   ],
   "source": [
    "result3[0:20] #Result3 is ordered Height excluding the GK"
   ]
  },
  {
   "cell_type": "code",
   "execution_count": 46,
   "metadata": {},
   "outputs": [],
   "source": [
    "result1 =quicksort_player(height, idn)"
   ]
  },
  {
   "cell_type": "code",
   "execution_count": 47,
   "metadata": {},
   "outputs": [],
   "source": [
    "result1.reverse()"
   ]
  },
  {
   "cell_type": "code",
   "execution_count": 48,
   "metadata": {},
   "outputs": [
    {
     "data": {
      "text/plain": [
       "['241870',\n",
       " '237015',\n",
       " '226805',\n",
       " '243628',\n",
       " '227537',\n",
       " '231182',\n",
       " '246298',\n",
       " '229901',\n",
       " '241502',\n",
       " '212382',\n",
       " '240297',\n",
       " '225050',\n",
       " '197981',\n",
       " '241956',\n",
       " '203841',\n",
       " '51257',\n",
       " '244793',\n",
       " '238449',\n",
       " '219496',\n",
       " '233491']"
      ]
     },
     "execution_count": 48,
     "metadata": {},
     "output_type": "execute_result"
    }
   ],
   "source": [
    "result1[0:20] #result1 is the ordered ID of Height"
   ]
  },
  {
   "cell_type": "markdown",
   "metadata": {},
   "source": [
    "#### Then, we want to find play-well player. Becuase, M. Casey's Overall is only '53'. We input an attribute of Overall. This alorithm is getting which player is best. Sorting the filtered data. "
   ]
  },
  {
   "cell_type": "code",
   "execution_count": 49,
   "metadata": {},
   "outputs": [],
   "source": [
    "def LookingForBest(oreder_height, you_want_cm): # this fuction can find the best player of filterd height\n",
    "    n_height = []\n",
    "    for h in oreder_height:\n",
    "        if h>= int(you_want_cm): #if you want to fiter over 198 you_want_cm = 198.\n",
    "            n_height.append(h) #inputing the filtered height.\n",
    "\n",
    "    new_id = idn[0:len(n_height)] #slicing the id date as much lenth of height data\n",
    "    \n",
    "    id_from_nheight = quicksort_player(n_height, new_id) #then we want to get ID from filtered height\n",
    "    id_from_nheight.reverse()  #we want to make descending order.\n",
    "    kk = quick_sorted(n_height) #then, we sorted the filtered height using quick_sorted\n",
    "    kk.reverse()\n",
    "    map_kk = dict(zip(id_from_nheight, kk)) #I make a set. since I want to get data unsing if(find method)\n",
    "    \n",
    "    id_overall = [] #This list is ID list from Overall data.\n",
    "    for k in id_from_nheight: \n",
    "        id_overall.append(map_name1.get(str(k))) #In sorted heigh data, we want to find ID from that Heigt.\n",
    "    \n",
    "\n",
    "    ak = quicksort_player(id_overall,id_from_nheight) #Sorting the height data, the algorithm output the overall \n",
    "    ak.reverse()\n",
    "    #Combing overall and name\n",
    "    ak_over = []\n",
    "    for l in ak:\n",
    "        ak_over.append(map_name1.get(str(l)))\n",
    "\n",
    "    ak_name = []\n",
    "    for h in ak:\n",
    "        ak_name.append(map_name2.get(str(h)))\n",
    "        \n",
    "    over_all = dict(zip(ak_name,ak_over)) #making overall and name data set\n",
    "    return over_all\n",
    "    "
   ]
  },
  {
   "cell_type": "code",
   "execution_count": 50,
   "metadata": {},
   "outputs": [
    {
     "data": {
      "text/plain": [
       "{'Naldo': '85',\n",
       " 'N. Süle': '84',\n",
       " 'S. Sané': '82',\n",
       " 'E. Viviano': '82',\n",
       " 'N. Pope': '80',\n",
       " 'J. Vuković': '75',\n",
       " 'P. Billing': '72',\n",
       " 'P. Crouch': '72',\n",
       " 'Simy': '72',\n",
       " 'P. Cissé': '72',\n",
       " 'P. Onuachu': '71',\n",
       " 'L. Lacroix': '71',\n",
       " 'Marcão': '72',\n",
       " 'B. Röcker': '70',\n",
       " 'P. Budkivskyi': '70',\n",
       " 'C. Beck': '69',\n",
       " 'Fábio': '68',\n",
       " 'G. Bunoza': '68',\n",
       " 'T. Mrčela': '68',\n",
       " 'A. Jovanović': '66',\n",
       " 'R. Inniss': '66',\n",
       " 'Z. Gano': '70',\n",
       " 'H. Veerman': '70',\n",
       " 'A. Nuhiu': '68',\n",
       " 'P. Hofmann': '68',\n",
       " 'A. Sjöberg': '69',\n",
       " 'M. Samassa': '69',\n",
       " 'S. Makienok': '68',\n",
       " 'S. Ruprecht': '68',\n",
       " 'M. Đurić': '67',\n",
       " 'A. Ba': '67',\n",
       " 'D. Peitz': '66',\n",
       " 'A. Vukotić': '66',\n",
       " 'E. Šipović': '65',\n",
       " 'M. Slavov': '66',\n",
       " 'C. Schoissengeyr': '65',\n",
       " 'O. Cissé': '65',\n",
       " 'A. Krešić': '65',\n",
       " 'E. Markkanen': '65',\n",
       " 'F. Tingager': '65',\n",
       " 'G. Nilsson': '64',\n",
       " 'S. Mai': '64',\n",
       " 'A. Okosun': '63',\n",
       " 'S. Kalajdzic': '63',\n",
       " 'M. Lauritsen': '63',\n",
       " 'J. Hammar': '63',\n",
       " 'M. Kryeziu': '61',\n",
       " 'H. Souttar': '61',\n",
       " 'S. Kopp': '61',\n",
       " 'A. Bianchimano': '60',\n",
       " 'K. Athiu': '60',\n",
       " 'A. Ikedi': '59',\n",
       " 'J. Kristoffersen': '59',\n",
       " 'K. Sidibé': '59',\n",
       " 'A. Çelebi': '59',\n",
       " 'D. Orlishausen': '61',\n",
       " 'M. Qvist': '61',\n",
       " 'T. Chorý': '61',\n",
       " 'D. Jarl': '61',\n",
       " 'R. Sykes': '59',\n",
       " \"O. O'Dwyer\": '56',\n",
       " 'M. Kristensen': '55',\n",
       " 'R. Källman': '54',\n",
       " 'M. Casey': '53'}"
      ]
     },
     "execution_count": 50,
     "metadata": {},
     "output_type": "execute_result"
    }
   ],
   "source": [
    "LookingForBest(result3, 198) # 198cm is enough tall, when you looking for tall player"
   ]
  }
 ],
 "metadata": {
  "kernelspec": {
   "display_name": "Python 3",
   "language": "python",
   "name": "python3"
  },
  "language_info": {
   "codemirror_mode": {
    "name": "ipython",
    "version": 3
   },
   "file_extension": ".py",
   "mimetype": "text/x-python",
   "name": "python",
   "nbconvert_exporter": "python",
   "pygments_lexer": "ipython3",
   "version": "3.7.3"
  }
 },
 "nbformat": 4,
 "nbformat_minor": 2
}
