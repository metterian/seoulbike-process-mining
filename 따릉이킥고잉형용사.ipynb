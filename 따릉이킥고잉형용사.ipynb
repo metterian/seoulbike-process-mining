{
 "cells": [
  {
   "cell_type": "code",
   "execution_count": 1,
   "metadata": {},
   "outputs": [],
   "source": [
    "import warnings\n",
    "warnings.simplefilter(\"ignore\")"
   ]
  },
  {
   "cell_type": "markdown",
   "metadata": {},
   "source": [
    "### 따릉이 형용사 추출"
   ]
  },
  {
   "cell_type": "code",
   "execution_count": 32,
   "metadata": {},
   "outputs": [],
   "source": [
    "from collections import Counter\n",
    "\n",
    "from ckonlpy.tag import Postprocessor\n",
    "from ckonlpy.tag import Twitter\n",
    "\n",
    "ctwitter= Twitter()\n",
    "import csv\n",
    "with open('Dareung_text.csv', 'r',encoding ='utf-8-sig') as f:\n",
    "    reader = csv.DictReader(f)\n",
    "    text_list = []\n",
    "    for row in reader:\n",
    "     \n",
    "        text_list.append(row['comment'])\n",
    "\n",
    "        \n",
    "\n"
   ]
  },
  {
   "cell_type": "code",
   "execution_count": 39,
   "metadata": {},
   "outputs": [],
   "source": [
    "ctwitter = Twitter()\n",
    "ctwitter.add_dictionary(['따릉이','자출',\n",
    "                        '자전거그램','럽스타그램',\n",
    "                        '인스타그램','daily','데일리'], 'Noun')\n",
    "ctwitter.add_dictionary('까지', 'Josa')\n",
    "ctwitter.add_dictionary('레알', 'Adjective')\n",
    "ctwitter.add_dictionary('타고', 'Verb')\n"
   ]
  },
  {
   "cell_type": "code",
   "execution_count": 40,
   "metadata": {},
   "outputs": [
    {
     "data": {
      "text/plain": [
       "[('따릉이', 'Noun')]"
      ]
     },
     "execution_count": 40,
     "metadata": {},
     "output_type": "execute_result"
    }
   ],
   "source": [
    "ctwitter.pos('따릉이')\n"
   ]
  },
  {
   "cell_type": "code",
   "execution_count": 29,
   "metadata": {},
   "outputs": [],
   "source": [
    "def get_accidence(text_cell,accident):\n",
    "    sentences_tag = []\n",
    "    for sentence in text_cell:\n",
    "        morph = ctwitter.pos(sentence)\n",
    "        sentences_tag.append(morph)\n",
    "    adj_list = []\n",
    "    for sen in sentences_tag:\n",
    "        for word, tag in sen:\n",
    "            if tag in [accident]:\n",
    "                adj_list.append(word)\n",
    "    return adj_list"
   ]
  },
  {
   "cell_type": "code",
   "execution_count": 34,
   "metadata": {},
   "outputs": [
    {
     "name": "stdout",
     "output_type": "stream",
     "text": [
      "[('안되고', 91), ('어떻게', 70), ('입니다', 64), ('있', 51), ('안됨', 42), ('이런', 37), ('좋은데', 36), ('좋은', 35), ('좋아요', 33), ('있는', 33)]\n"
     ]
    }
   ],
   "source": [
    "adj = get_accidence(text_list,'Adjective')\n",
    "counts = Counter(adj)\n",
    "print(counts.most_common(10))"
   ]
  },
  {
   "cell_type": "code",
   "execution_count": 41,
   "metadata": {},
   "outputs": [
    {
     "name": "stdout",
     "output_type": "stream",
     "text": [
      "[('앱', 637), ('어플', 267), ('대여', 260), ('로그인', 250), ('지도', 230), ('결제', 226), ('자전거', 218), ('따릉이', 216), ('업데이트', 195), ('왜', 181), ('좀', 164), ('오류', 163), ('진짜', 159), ('사용', 150), ('최악', 138), ('안', 130), ('이용', 130), ('불편', 126), ('시간', 123), ('거', 120), ('요', 118), ('어요', 107), ('때', 106), ('다시', 106), ('로딩', 104), ('돈', 104), ('것', 103), ('뭐', 97), ('쓰레기', 97), ('이', 90)]\n"
     ]
    }
   ],
   "source": [
    "noun = get_accidence(text_list,'Noun')\n",
    "counts = Counter(noun)\n",
    "print(counts.most_common(30))"
   ]
  },
  {
   "cell_type": "code",
   "execution_count": 20,
   "metadata": {},
   "outputs": [
    {
     "name": "stdout",
     "output_type": "stream",
     "text": [
      "[('앱', 637), ('어플', 266), ('결제', 247), ('로그인', 238), ('자전거', 218), ('업데이트', 195), ('지도', 189), ('왜', 182), ('대여', 168), ('따릉', 166), ('오류', 162), ('진짜', 160), ('좀', 160), ('사용', 156), ('최악', 141), ('이용', 127), ('때', 109), ('로딩', 106), ('돈', 104), ('거', 103)]\n"
     ]
    }
   ],
   "source": [
    "counts = Counter(noun_adj_list)\n",
    "print(counts.most_common(20))"
   ]
  },
  {
   "cell_type": "markdown",
   "metadata": {},
   "source": [
    "### 킥고잉 형용사 추출"
   ]
  },
  {
   "cell_type": "code",
   "execution_count": 22,
   "metadata": {},
   "outputs": [],
   "source": [
    "import csv\n",
    "with open('kickgoing_finally.csv', 'r',encoding ='utf-8-sig') as f:\n",
    "    reader = csv.DictReader(f)\n",
    "    k = []\n",
    "    for row in reader:\n",
    "     \n",
    "        k.append(row['comment'])"
   ]
  },
  {
   "cell_type": "code",
   "execution_count": 26,
   "metadata": {},
   "outputs": [],
   "source": [
    "k_sentences_tag = []\n",
    "for sentence in k:\n",
    "    k_morph = twitter.pos(sentence)\n",
    "    k_sentences_tag.append(k_morph)"
   ]
  },
  {
   "cell_type": "code",
   "execution_count": 27,
   "metadata": {},
   "outputs": [],
   "source": [
    "k_ajd = []\n",
    "for sentence11 in k_sentences_tag:\n",
    "    for word, tag in sentence11:\n",
    "        if tag in ['Adjective']:\n",
    "            k_ajd.append(word)"
   ]
  },
  {
   "cell_type": "code",
   "execution_count": 29,
   "metadata": {},
   "outputs": [
    {
     "name": "stdout",
     "output_type": "stream",
     "text": [
      "[('좋아요', 373), ('편하고', 122), ('같아요', 110), ('입니다', 104), ('있습니다', 101), ('좋습니다', 91), ('편리하고', 77), ('좋은', 76), ('있어서', 73), ('좋네요', 73), ('편해요', 72), ('있어요', 68), ('빠르고', 66), ('좋겠어요', 60), ('같습니다', 53), ('있는', 49), ('편하게', 48), ('좋음', 47), ('좋겠습니다', 44), ('없는', 43)]\n"
     ]
    }
   ],
   "source": [
    "counts = Counter(k_ajd)\n",
    "print(counts.most_common(20))"
   ]
  },
  {
   "cell_type": "code",
   "execution_count": null,
   "metadata": {},
   "outputs": [],
   "source": []
  }
 ],
 "metadata": {
  "kernelspec": {
   "display_name": "Python 3",
   "language": "python",
   "name": "python3"
  },
  "language_info": {
   "codemirror_mode": {
    "name": "ipython",
    "version": 3
   },
   "file_extension": ".py",
   "mimetype": "text/x-python",
   "name": "python",
   "nbconvert_exporter": "python",
   "pygments_lexer": "ipython3",
   "version": "3.7.3"
  }
 },
 "nbformat": 4,
 "nbformat_minor": 2
}
