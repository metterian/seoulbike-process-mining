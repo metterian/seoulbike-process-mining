{
 "cells": [
  {
   "cell_type": "markdown",
   "metadata": {},
   "source": [
    "### 따릉이 인스타그램 300게시글 (최신순) 추출 "
   ]
  },
  {
   "cell_type": "code",
   "execution_count": 26,
   "metadata": {},
   "outputs": [],
   "source": [
    "import pandas as pd\n",
    "import matplotlib.pyplot as plt\n",
    "from matplotlib.ticker import PercentFormatter\n",
    "\n",
    "\n",
    "from collections import Counter\n",
    "import csv\n",
    "with open('total.csv', 'r',encoding ='utf-8-sig') as f:\n",
    "    reader = csv.DictReader(f)\n",
    "    text = [] \n",
    "    for row in reader:\n",
    "     \n",
    "        text.append(row['caption'])"
   ]
  },
  {
   "cell_type": "code",
   "execution_count": 73,
   "metadata": {},
   "outputs": [],
   "source": [
    "def csvLoader(filename,colname):\n",
    "    with open(filename, 'r',encoding ='utf-8-sig') as f:\n",
    "        reader = csv.DictReader(f)\n",
    "        text = [] \n",
    "        for row in reader:\n",
    "     \n",
    "            text.append(row[colname])\n",
    "    return text  "
   ]
  },
  {
   "cell_type": "code",
   "execution_count": 27,
   "metadata": {},
   "outputs": [
    {
     "data": {
      "text/plain": [
       "1258"
      ]
     },
     "execution_count": 27,
     "metadata": {},
     "output_type": "execute_result"
    }
   ],
   "source": [
    "len(text)"
   ]
  },
  {
   "cell_type": "code",
   "execution_count": 2,
   "metadata": {},
   "outputs": [],
   "source": [
    "import warnings\n",
    "warnings.simplefilter(\"ignore\")\n",
    "\n",
    "from konlpy.tag import Twitter\n",
    "twitter = Twitter()"
   ]
  },
  {
   "cell_type": "markdown",
   "metadata": {},
   "source": [
    "#### 형태소 추출"
   ]
  },
  {
   "cell_type": "code",
   "execution_count": 28,
   "metadata": {},
   "outputs": [],
   "source": [
    "sentences_tag = []\n",
    "for sentence in text:\n",
    "    morph = twitter.pos(sentence)\n",
    "    sentences_tag.append(morph)"
   ]
  },
  {
   "cell_type": "markdown",
   "metadata": {},
   "source": [
    "##### 형용사 추출"
   ]
  },
  {
   "cell_type": "code",
   "execution_count": 31,
   "metadata": {},
   "outputs": [
    {
     "name": "stdout",
     "output_type": "stream",
     "text": [
      "[('좋은', 25), ('있는', 22), ('좋다', 19), ('좋아', 19), ('없는', 15), ('좋아하는', 15), ('좋아요', 15), ('같은', 14), ('입니다', 13), ('시원한', 13), ('많은', 13), ('더운', 10), ('같다', 10), ('같아서', 10), ('덥고', 10), ('신나게', 9), ('있어', 9), ('좋', 8), ('더워서', 8), ('덥다', 8)]\n",
      "\n",
      "\n"
     ]
    },
    {
     "data": {
      "text/plain": [
       "1258"
      ]
     },
     "execution_count": 31,
     "metadata": {},
     "output_type": "execute_result"
    }
   ],
   "source": [
    "adj_list = []\n",
    "for sentence1 in sentences_tag:\n",
    "    for word, tag in sentence1:\n",
    "        if tag in ['Adjective']:\n",
    "            adj_list.append(word)\n",
    "len(adj_list)\n",
    "counts_adj = Counter(adj_list)\n",
    "print(counts_adj.most_common(20))\n",
    "len(text)"
   ]
  },
  {
   "cell_type": "markdown",
   "metadata": {},
   "source": [
    "#### 명사 추출"
   ]
  },
  {
   "cell_type": "code",
   "execution_count": 13,
   "metadata": {},
   "outputs": [
    {
     "name": "stdout",
     "output_type": "stream",
     "text": [
      "[('따릉', 374), ('자전거', 233), ('한강', 176), ('오늘', 130), ('타고', 125), ('운동', 107), ('집', 80), ('따릉이', 80), ('나', 72), ('시간', 70), ('날', 65), ('것', 63), ('내', 59), ('서울', 59), ('비', 59), ('더', 57), ('라이딩', 55), ('때', 51), ('릉', 46), ('일상', 45), ('만', 45), ('날씨', 44), ('퇴근', 44), ('이', 42), ('길', 41), ('사람', 39), ('공원', 39), ('밤', 38), ('후', 38), ('진짜', 37)]\n"
     ]
    },
    {
     "data": {
      "text/plain": [
       "3478"
      ]
     },
     "execution_count": 13,
     "metadata": {},
     "output_type": "execute_result"
    }
   ],
   "source": [
    "noun_list = []\n",
    "for sentence1 in sentences_tag:\n",
    "    for word, tag in sentence1:\n",
    "        if tag in ['Noun']:\n",
    "            noun_list.append(word)\n",
    "counts = Counter(noun_list)\n",
    "print(counts.most_common(30))\n",
    "len(counts)"
   ]
  },
  {
   "cell_type": "code",
   "execution_count": 29,
   "metadata": {},
   "outputs": [
    {
     "name": "stdout",
     "output_type": "stream",
     "text": [
      "[('#따릉이', 861), ('#한강', 232), ('#자전거', 186), ('#일상', 107), ('#운동', 86), ('#서울', 64), ('#라이딩', 52), ('#daily', 47), ('#seoul', 39), ('#좋아요', 35), ('#한강공원', 35), ('#데일리', 33), ('#운동하는여자', 31), ('#소통', 30), ('#퇴근길', 30), ('#맞팔', 30), ('#야경', 28), ('#hanriver', 26), ('#selfie', 25), ('#일상스타그램', 24), ('#다이어트', 24), ('#운동스타그램', 22), ('#korea', 22), ('#여의도', 21), ('#여의도한강공원', 20), ('#한강라이딩', 20), ('#선팔', 19), ('#팔로우', 18), ('#퇴근', 18), ('#자전거그램', 18), ('#산책', 16), ('#여름', 16), ('#주말', 15), ('#셀스타그램', 15), ('#데이트', 15), ('#새벽', 15), ('#뚝섬유원지', 15), ('#셀카', 14), ('#셀피', 14), ('#running', 14), ('#bicycle', 14), ('#diet', 14), ('#좋아요반사', 13), ('#자전거라이딩', 13), ('#자전거타기', 12), ('#중랑천', 12), ('#f4f', 12), ('#workout', 12), ('#서울자전거', 12), ('#잠실', 11)]\n"
     ]
    }
   ],
   "source": [
    "#해쉬태그 추출\n",
    "hashtag_list=[]\n",
    "for compo in sentences_tag:\n",
    "    for word, tag in compo:\n",
    "        if tag in ['Hashtag']:\n",
    "            hashtag_list.append(word)\n",
    "count_hash = Counter(hashtag_list)\n",
    "print (count_hash.most_common(50))"
   ]
  },
  {
   "cell_type": "markdown",
   "metadata": {},
   "source": [
    "### 'customized konlpy'\n",
    "#### 수정된 형태분석기를 사용하여 텍스트 분석을 진행함."
   ]
  },
  {
   "cell_type": "code",
   "execution_count": 33,
   "metadata": {},
   "outputs": [],
   "source": [
    "from ckonlpy.tag import Postprocessor\n",
    "from ckonlpy.tag import Twitter\n",
    "import warnings\n",
    "warnings.simplefilter(\"ignore\")\n",
    "\n",
    "ctwitter = Twitter()\n",
    "ctwitter.add_dictionary(['따릉이','자출',\n",
    "                       '자전거그램','럽스타그램',\n",
    "                       '인스타그램','daily','데일리'], 'Noun')\n",
    "ctwitter.add_dictionary('까지', 'Josa')\n",
    "ctwitter.add_dictionary('레알', 'Adjective')\n",
    "ctwitter.add_dictionary('타고', 'Verb')\n",
    "stopwords = {'까지','\\n','\\n\\n'}\n",
    "postprocessor = Postprocessor(ctwitter, stopwords = stopwords)\n"
   ]
  },
  {
   "cell_type": "code",
   "execution_count": 139,
   "metadata": {},
   "outputs": [],
   "source": [
    "with open('total.csv', 'r',encoding ='utf-8-sig') as f:\n",
    "    reader = csv.DictReader(f)\n",
    "    c_text = [] \n",
    "    for row in reader:\n",
    "     \n",
    "        c_text.append(row['caption'])"
   ]
  },
  {
   "cell_type": "code",
   "execution_count": 140,
   "metadata": {},
   "outputs": [],
   "source": [
    "sentences_tag = []\n",
    "for sentence in c_text:\n",
    "    #post_data = postprocessor.pos(sentence)\n",
    "    morph = postprocessor.pos(sentence)\n",
    "    sentences_tag.append(morph)"
   ]
  },
  {
   "cell_type": "code",
   "execution_count": 38,
   "metadata": {},
   "outputs": [
    {
     "name": "stdout",
     "output_type": "stream",
     "text": [
      "[('좋', 32), ('좋은', 28), ('있는', 27), ('있', 27), ('좋다', 26), ('좋아', 22), ('없는', 17), ('같은', 15), ('입니다', 14), ('많은', 13), ('힘들', 11), ('같다', 11), ('더운', 10), ('있어', 10), ('같아서', 10), ('덥고', 10), ('신나게', 9), ('덥다', 9), ('좋아요', 9), ('없다', 9)]\n"
     ]
    }
   ],
   "source": [
    "adj_list = []\n",
    "for sentence1 in sentences_tag:\n",
    "    for word, tag in sentence1:\n",
    "        if tag in ['Adjective']:\n",
    "            adj_list.append(word)\n",
    "adj_counts = Counter(adj_list)\n",
    "print(adj_counts.most_common(20))"
   ]
  },
  {
   "cell_type": "code",
   "execution_count": 41,
   "metadata": {},
   "outputs": [
    {
     "name": "stdout",
     "output_type": "stream",
     "text": [
      "[('따릉이', 1541), ('한강', 608), ('자전거', 576), ('운동', 273), ('그램', 242), ('타고', 214), ('오늘', 205), ('서울', 199), ('일상', 197), ('스타', 189), ('라이딩', 172), ('공원', 153), ('시간', 113), ('집', 98), ('나', 85), ('다이어트', 85), ('여의도', 82), ('내', 78), ('퇴근', 75), ('날', 70), ('맞팔', 70), ('daily', 70), ('길', 67), ('것', 66), ('날씨', 65), ('다가', 65), ('사진', 63), ('더', 63), ('소통', 62), ('이', 61), ('맛집', 61), ('데일리', 61), ('비', 58), ('데이트', 56), ('야경', 56), ('때', 55), ('생각', 55), ('저녁', 54), ('카페', 53), ('하늘', 53), ('퇴근길', 53), ('잠실', 53), ('행복', 53), ('어서', 52), ('새벽', 52), ('고', 51), ('밤', 51), ('여름', 51), ('중', 50), ('선팔', 50), ('뚝섬', 50), ('주말', 49), ('타', 49), ('오랜만', 49), ('다리', 45), ('하루', 45), ('시원', 45), ('여자', 44), ('사람', 44), ('어요', 43), ('후', 43), ('진짜', 43), ('동하', 41), ('요', 41), ('산책', 41), ('어제', 40), ('수', 39), ('다시', 39), ('우리', 38), ('반포', 37), ('기분', 37), ('면서', 37), ('라면', 36), ('서울시', 36), ('바람', 35), ('여행', 35), ('기록', 35), ('그', 34), ('거', 34), ('또', 33), ('러닝', 33), ('안', 33), ('언니', 33), ('말', 33), ('휴가', 33), ('땀', 32), ('아침', 32), ('기', 32), ('간', 31), ('요즘', 31), ('하나', 30), ('팔로우', 30), ('달리', 30), ('왜', 29), ('그냥', 29), ('힐링', 29), ('저', 29), ('친구', 28), ('감성', 28), ('시작', 28)]\n"
     ]
    }
   ],
   "source": [
    "noun_list = []\n",
    "for sentence11 in sentences_tag:\n",
    "    for word, tag in sentence11:\n",
    "        if tag in ['Noun']:\n",
    "            noun_list.append(word)\n",
    "counts = Counter(noun_list)\n",
    "print(counts.most_common(100))\n",
    "tags = counts.most_common(60)"
   ]
  },
  {
   "cell_type": "code",
   "execution_count": 30,
   "metadata": {},
   "outputs": [
    {
     "name": "stdout",
     "output_type": "stream",
     "text": [
      "[('ㅋㅋ', 38), ('ㅋㅋㅋ', 27), ('ㅎㅎ', 24), ('ㅠㅠ', 19), ('ㅋㅋㅋㅋ', 19), ('ㅋ', 17), ('ㅎㅎㅎ', 12), ('ㅜㅜ', 12), ('ㅋㅋㅋㅋㅋ', 10), ('ㅠ', 9), ('ㅡ', 8), ('ㅜ', 7), ('ㅎ', 6), ('ㅋㅋㅋㅋㅋㅋ', 5), ('ㄹ', 4), ('ㅋㅋㅋㅋㅋㅋㅋㅋ', 4), ('ㅋㅋㅋㅋㅋㅋㅋㅋㅋㅋㅋㅋㅋㅋ', 4), ('ㄱㄱ', 3), ('ㅎㅎㅎㅎ', 2), ('ㅠㅜ', 2)]\n"
     ]
    }
   ],
   "source": [
    "#korean particle 추출 ex) 'ㅋㅋ', 'ㅎㅎ'\n",
    "kr_particle= []\n",
    "for sentence in sentences_tag:\n",
    "    for word, tag in sentence:\n",
    "        if tag in ['KoreanParticle']:\n",
    "            kr_particle.append(word)\n",
    "kr_counts = Counter(kr_particle)\n",
    "print(kr_counts.most_common(20))"
   ]
  },
  {
   "cell_type": "code",
   "execution_count": 210,
   "metadata": {},
   "outputs": [
    {
     "data": {
      "text/plain": [
       "3141"
      ]
     },
     "execution_count": 210,
     "metadata": {},
     "output_type": "execute_result"
    }
   ],
   "source": [
    "len(counts)"
   ]
  },
  {
   "cell_type": "code",
   "execution_count": 61,
   "metadata": {},
   "outputs": [
    {
     "data": {
      "text/plain": [
       "[('#자출', 'Hashtag'), ('#럽', 'Hashtag')]"
      ]
     },
     "execution_count": 61,
     "metadata": {},
     "output_type": "execute_result"
    }
   ],
   "source": [
    "from ckonlpy.tag import Twitter\n",
    "ctwitter = Twitter()\n",
    "from ckonlpy.tag import Postprocessor\n",
    "passtags = {'Foreign'}\n",
    "postprocessor = Postprocessor(ctwitter, passtags = passtags)\n",
    "postprocessor.pos('#일상#인스타그램#자출#운동스타그램#럽스타그램 서울까지')"
   ]
  },
  {
   "cell_type": "markdown",
   "metadata": {},
   "source": [
    "##### 이모티콘만 추출해보기"
   ]
  },
  {
   "cell_type": "code",
   "execution_count": 151,
   "metadata": {},
   "outputs": [
    {
     "name": "stdout",
     "output_type": "stream",
     "text": [
      "[('🚲', 147), ('⠀', 64), ('🚴🏻\\u200d♀️', 40), ('❤️', 27), ('😭', 21), ('💕', 21), ('🚴\\u200d♀️', 21), ('•', 21), ('👍', 17), ('💦', 16), ('🚴\\u200d♂️', 15), ('🤣', 15), ('😂', 14), ('❤', 14), ('⠀⠀⠀⠀⠀⠀⠀⠀⠀⠀⠀⠀⠀⠀⠀', 14), ('😊', 13), ('🤔', 12), ('💙', 12), ('💚', 11), ('🥰', 11), ('😆', 10), ('✔', 10), ('🔥', 9), ('🚲🚲', 9), ('⠀⠀⠀', 9), ('♡', 8), ('ㆍ', 8), ('⠀⠀⠀⠀⠀⠀', 8), ('〰️', 8), ('🚲🚲🚲', 7), ('🎶', 7), ('😁', 7), ('👀', 7), ('😏', 7), ('😱', 7), ('🤭', 7), ('🌙', 7), ('🚴🏻\\u200d♂️', 6), ('🙏', 6), ('😝', 6), ('✨', 6), ('☺️', 6), ('⠀⠀⠀⠀⠀⠀⠀⠀⠀⠀⠀⠀⠀⠀⠀⠀', 6), ('🥺', 6), ('😋', 6), ('🌉', 6), ('😎', 6), ('🙊', 6), ('🤗', 6), ('😳', 6), ('‘', 6), ('👍🏻', 5), ('😤', 5), ('🥵', 5), ('❣️', 5), ('🤪', 5), ('💛', 5), ('⠀⠀', 5), ('😢', 5), ('🙄', 5), ('💜', 5), ('☔️', 5), ('😍', 5), ('🍎', 4), ('♥️', 4), ('💧', 4), ('👍🏻👍🏻', 4), ('😣', 4), ('🙏🏻', 4), ('✔️', 4), ('👭', 4), ('♥', 4), ('🌃', 4), ('🤘🏻', 4), ('🤦\\u200d♀️', 4), ('😥', 4), ('⠀⠀⠀⠀⠀', 4), ('📸', 4), ('🖤', 4), ('🙈', 4), ('🌟', 4), ('😂😂', 4), ('😚', 4), ('🤟🏻', 4), ('➰', 4), ('🚴', 4), ('➡️', 4), ('😇', 3), ('😵', 3), ('✌🏻', 3), ('・・・', 3), ('🍗', 3), ('🤩', 3), ('ෆ', 3), ('😅', 3), ('🚴\\u200d♀️🚴\\u200d♂️', 3), ('😉', 3), ('🇰🇷', 3), ('⛅️', 3), ('🙂', 3), ('🚶🏻\\u200d♂️', 3), ('🍱', 3), ('‼️', 3), ('👉🏻', 3), ('🌿', 3), ('🚴🏼\\u200d♀️', 3), ('З', 3), ('🚴\\u200d♂️🚴\\u200d♀️', 3), ('🙃', 3), ('🙋🏻\\u200d♀️', 3), ('에', 3), ('🏖', 3), ('🚴🏽\\u200d♂️🚴🏽\\u200d♂️', 2), ('🍜', 2), ('📩', 2), ('🏙', 2), ('🐾', 2), ('의', 2), ('🍃', 2), ('🌻', 2), ('😬', 2), ('❤️💛🧡💙', 2), ('🐷', 2), ('🍺', 2), ('👏👏👏', 2), ('🙆\\u200d♀️', 2), ('🇪🇸', 2), ('※', 2), ('📌📌📌', 2), ('🏃\\u200d♀️🏃\\u200d♂️', 2), ('🧞\\u200d♂️', 2), ('☀️', 2), ('😌', 2), ('쯤', 2), ('🤪🤪', 2), ('😑', 2), ('👏🏻', 2), ('😡', 2), ('•̅', 2), ('🌃💙', 2), ('👏', 2), ('💓', 2), ('😗', 2), ('🤔🤔', 2), ('😗💕', 2), ('😶', 2), ('✅', 2), ('☆', 2), ('😘', 2), ('🙌🏻', 2), ('❢', 2), ('ฅ', 2), ('😭😭', 2), ('🚴🏻\\u200d♀️💨', 2), ('😓', 2), ('🏃\\u200d♂️', 2), ('🚲💕', 2), ('✌', 2), ('👉', 2), ('권', 2), ('☀', 2), ('🤣🤣🤣', 2), ('😁😁😁', 2), ('⚡', 2), ('🚵🏻\\u200d♀️', 2), ('🍴', 2), ('🛴', 2), ('🐙', 2), ('🖐', 2), ('🐶', 2), ('ᆢ', 2), ('🍑', 2), ('͡ᵔ', 2), ('😥😥', 2), ('🏃🏃', 2), ('🐢🐢', 2), ('⚠️', 2), ('🚲🚲🚲🚲🚲', 2), ('⁽', 2), ('🤣🤣', 2), ('💗', 2), ('＾', 2), ('🍉', 1), ('🌹🌹', 1), ('🏊🏻\\u200d♂️', 1), ('🇪', 1), ('🤭🤭', 1), ('☺️☺️', 1), ('🤪🤪🤪🤪🤪', 1), ('✌🏻🖐🏻', 1), ('✌🏻✌🏻', 1), ('👏🏻💕', 1), ('😩💦💦', 1), ('♪', 1), ('🚲👋🏻', 1), ('🚴🏻\\u200d♂️🚴🏻\\u200d♂️', 1), ('탔는데', 1), ('🥰🥰🥰🎊🎊', 1), ('🎊', 1), ('🙌', 1)]\n"
     ]
    }
   ],
   "source": [
    "emotion_list = []\n",
    "for emo in sentences_tag:\n",
    "    for word, tag in emo:\n",
    "        if tag in ['Foreign']:\n",
    "            emotion_list.append(word)\n",
    "emo_counts = Counter(emotion_list)\n",
    "print(emo_counts.most_common(200))"
   ]
  },
  {
   "cell_type": "code",
   "execution_count": 23,
   "metadata": {},
   "outputs": [
    {
     "name": "stdout",
     "output_type": "stream",
     "text": [
      "[('#따릉이', 779), ('#한강', 211), ('#자전거', 169), ('#일상', 100), ('#운동', 79), ('#서울', 56), ('#라이딩', 46), ('#daily', 44), ('#seoul', 38), ('#좋아요', 32), ('#데일리', 31), ('#한강공원', 30), ('#맞팔', 29), ('#운동하는여자', 28), ('#퇴근길', 28), ('#소통', 26), ('#hanriver', 26), ('#다이어트', 23), ('#selfie', 23), ('#여의도', 21), ('#일상스타그램', 21), ('#야경', 21), ('#korea', 21), ('#운동스타그램', 19), ('#선팔', 18), ('#한강라이딩', 18), ('#여의도한강공원', 17), ('#자전거그램', 17), ('#팔로우', 16), ('#퇴근', 16)]\n"
     ]
    }
   ],
   "source": [
    "hashtag_list = []\n",
    "for emo in sentences_tag:\n",
    "    for word, tag in emo:\n",
    "        if tag in ['Hashtag']:\n",
    "            hashtag_list.append(word)\n",
    "counts = Counter(hashtag_list)\n",
    "print(counts.most_common(30))\n"
   ]
  },
  {
   "cell_type": "code",
   "execution_count": 53,
   "metadata": {},
   "outputs": [],
   "source": [
    "import pandas as pd\n",
    "df = pd.DataFrame.from_dict(emo_counts, orient='index').reset_index()\n",
    "df = df.rename(columns={'index':'noun', 0:'count'})\n",
    "df=df.sort_values(by=['count'], axis=0, ascending=False)"
   ]
  },
  {
   "cell_type": "code",
   "execution_count": 54,
   "metadata": {},
   "outputs": [],
   "source": [
    "df.to_excel('insta_emotion.xlsx')"
   ]
  }
 ],
 "metadata": {
  "kernelspec": {
   "display_name": "Python 3",
   "language": "python",
   "name": "python3"
  },
  "language_info": {
   "codemirror_mode": {
    "name": "ipython",
    "version": 3
   },
   "file_extension": ".py",
   "mimetype": "text/x-python",
   "name": "python",
   "nbconvert_exporter": "python",
   "pygments_lexer": "ipython3",
   "version": "3.8.7"
  }
 },
 "nbformat": 4,
 "nbformat_minor": 4
}
