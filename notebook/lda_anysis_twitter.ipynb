{
 "cells": [
  {
   "cell_type": "markdown",
   "metadata": {},
   "source": [
    "# Seoul Bike Text Mining - LDA Analyse using Okt\n",
    "## Objects\n",
    "- 구글 플레이 스토어 '따릉이' 어플 리뷰와 ‘서울 자전거 따릉이’ 공식 웹사이트 내에 시민의견수렴 게시판에 작성된 의견 텍스트를 수집\n",
    "- 오프라인의 이용 경험을 구분 지어 분석하기 위해 앱 리뷰를 온라인 사용 경험 분석\n",
    "- 시민의견수렴 게시판을 오프라인 사용 경험 분석으로 활용\n",
    "- LDA 토픽 모델링 통해 텍스트 속에 이용 경험의 문제점을 온라인과 오프라인으로 구별하는 분석을 진행"
   ]
  },
  {
   "cell_type": "code",
   "execution_count": null,
   "metadata": {},
   "outputs": [],
   "source": [
    "from collections import Counter\n",
    "import pandas as pd\n",
    "import numpy as np\n",
    "from konlpy.tag import Mecab\n",
    "from konlpy.tag import Okt\n",
    "from ckonlpy.tag import Twitter\n",
    "\n",
    "ctwitter = Twitter()\n",
    "mecab = Mecab()\n",
    "twitter = Okt()"
   ]
  },
  {
   "cell_type": "markdown",
   "metadata": {},
   "source": [
    " \n"
   ]
  },
  {
   "cell_type": "markdown",
   "metadata": {},
   "source": [
    "## 전처리\n"
   ]
  },
  {
   "cell_type": "code",
   "execution_count": null,
   "metadata": {},
   "outputs": [],
   "source": [
    "from ckonlpy.tag import Postprocessor #전처리 라이브러리\n",
    "from ckonlpy.tag import Twitter\n",
    "import warnings\n",
    "warnings.simplefilter(\"ignore\")\n",
    "\n",
    "ctwitter = Twitter()\n",
    "ctwitter.add_dictionary(['따릉이','자출',\n",
    "                       '대여소','연결거치','거치대','고객센터',\n",
    "                        '다시','퇴근시간','대여시간',\n",
    "                        '출근시간','한시간','두시간','임시폐쇄',\n",
    "                         '자동로그인','UX', '1일권', '일일권','가성비',\n",
    "                         '상담원','재로그인', '인증번호', '가입','렉', '랙','제로페이','결제','큐알코드','QR','뒤로가기',\n",
    "                         '대여번호''결제','결재','여러번','불편','개불편함','내세금','전반적', '지도화면',\n",
    "                        ], 'Noun')\n",
    "#조사\n",
    "ctwitter.add_dictionary(['까지','하냐'], 'Josa')\n",
    "#형용사\n",
    "ctwitter.add_dictionary(['레알','허접한','오지게' ,'어려워','안되', '열받','안됨', '안와' ,'참어렵네'], 'Adjective')\n",
    "#부사\n",
    "\n",
    "ctwitter.add_dictionary(['왜', '좀','진짜','최악' , '참'], 'Adverb', force=True)\n",
    "\n",
    "ctwitter.add_dictionary(['타고','요청드립니다','부탁드립니다',\n",
    "                         '요청 드립니다','부탁 드립니다','하기'],'Verb')\n",
    "\n",
    "#무의미한 형태소 및 단어 제거\n",
    "stopwords = {'수가','까지','드립','번','수','것', '앞','해주','왜',\n",
    "             '곳','떄','좀','어요','요','이','감사','이','그','고','제','쪽','더','후','시','거',\n",
    "'려고','적','저','데','등','역','중','해주시','내','면서','어서','때','뭐','못','마다','더니','해도','해도','다가','어가','개','하라','하나','걸'}\n",
    "\n",
    "\n",
    "#단어 대치\n",
    "replace = {'어플리케이션': '어플',\n",
    "           '앱': '어플',\n",
    "           '폐쇠':'페쇄',\n",
    "           '젛은':'좋은',\n",
    "           '연계':'연동',\n",
    "           '맵':'지도',\n",
    "           '인터페이스':'UI',\n",
    "           '유아이':'UI',\n",
    "           'ui': 'UI',\n",
    "           'T머니' : '티머니',\n",
    "           '렉':'오류',\n",
    "           '랙':'오류',\n",
    "           '가입': '회원가입',\n",
    "          '결재':'결제',\n",
    "           '버젼':'버전',\n",
    "           '고객 센터': '고객센터',\n",
    "           '에러': '오류',\n",
    "           '버그': '오류',\n",
    "           '업뎃':'업데이트' ,'업댓':'업데이트','업디이트':'업데이트','리뉴얼':'업데이트','개편':'업데이트','업그레이드':'업데이트',\n",
    "           '업데이틀':'업데이트',\n",
    "           '업글' :'업데이트',\n",
    "           '비번':'비밀번호',\n",
    "           '머지':'뭐지',\n",
    "           '자동 로그인':'자동로그인',\n",
    "           '딜레이':'지연',\n",
    "           '정거장': '대여소','정류장': '대여소','대여수': '대여소',\n",
    "           '큐알':'QR','qr':'QR','큐알코드':'QR',\n",
    "           '알코':'QR',\n",
    "           '리붓':'재부팅',\n",
    "           '튜토리얼':'이용설명',\n",
    "           '이용안내':'이용설명',\n",
    "           '안되요':'안돼요',\n",
    "           '카톡': '카카오톡',\n",
    "           '먹통' :'오류',\n",
    "           '제하': '결제',\n",
    "            '카카오': '카카오톡',\n",
    "            '카카오계정': '카카오톡',\n",
    "           ('안되고', 'Adjective'): '안되',\n",
    "           '않':'안되',\n",
    "           '마니':'많이',\n",
    "           '허다': '많다',\n",
    "           '안와': '안되',\n",
    "           '안': '안되',\n",
    "           '폰':'휴대폰',\n",
    "           '지도화면':'지도',\n",
    "           '안됨':'안되',\n",
    "           '팅김':'오류',\n",
    "           '장애':'오류',\n",
    "           '내세금':'세금',\n",
    "           '개불편함':'불편',\n",
    "           '연결거치': '연결'}\n",
    "\n",
    "postprocessor = Postprocessor(ctwitter, stopwords = stopwords,replace = replace)"
   ]
  },
  {
   "cell_type": "markdown",
   "metadata": {},
   "source": [
    " "
   ]
  },
  {
   "cell_type": "markdown",
   "metadata": {},
   "source": [
    "# Google Play Store"
   ]
  },
  {
   "cell_type": "markdown",
   "metadata": {},
   "source": [
    "## 데이터 확인"
   ]
  },
  {
   "cell_type": "code",
   "execution_count": 1,
   "metadata": {},
   "outputs": [
    {
     "data": {
      "text/html": [
       "<div>\n",
       "<style scoped>\n",
       "    .dataframe tbody tr th:only-of-type {\n",
       "        vertical-align: middle;\n",
       "    }\n",
       "\n",
       "    .dataframe tbody tr th {\n",
       "        vertical-align: top;\n",
       "    }\n",
       "\n",
       "    .dataframe thead th {\n",
       "        text-align: right;\n",
       "    }\n",
       "</style>\n",
       "<table border=\"1\" class=\"dataframe\">\n",
       "  <thead>\n",
       "    <tr style=\"text-align: right;\">\n",
       "      <th></th>\n",
       "      <th>user_name</th>\n",
       "      <th>date</th>\n",
       "      <th>rating</th>\n",
       "      <th>thumbs_up</th>\n",
       "      <th>review_text</th>\n",
       "    </tr>\n",
       "  </thead>\n",
       "  <tbody>\n",
       "    <tr>\n",
       "      <th>0</th>\n",
       "      <td>띠리띠리띠로리로</td>\n",
       "      <td>2017년 10월 5일</td>\n",
       "      <td>1</td>\n",
       "      <td>125</td>\n",
       "      <td>아니 오늘 서울 가서 자전거 타는데 지금 자전거 빌리는데만 1시간이 걸렸음. 분명히...</td>\n",
       "    </tr>\n",
       "    <tr>\n",
       "      <th>1</th>\n",
       "      <td>김재현</td>\n",
       "      <td>2019년 4월 21일</td>\n",
       "      <td>1</td>\n",
       "      <td>93</td>\n",
       "      <td>아 결재 일일권하고 카드 등록도 T교통카드 밖에 안되고, 결국 자전거도 못빌리고 천...</td>\n",
       "    </tr>\n",
       "    <tr>\n",
       "      <th>2</th>\n",
       "      <td>HyeonCheol Kim</td>\n",
       "      <td>2016년 8월 7일</td>\n",
       "      <td>3</td>\n",
       "      <td>67</td>\n",
       "      <td>앱의 활용도가 부족한거같습니다. 구간구간의 거리나 시간을 알수있는 기능이 좀 상세하...</td>\n",
       "    </tr>\n",
       "  </tbody>\n",
       "</table>\n",
       "</div>"
      ],
      "text/plain": [
       "        user_name          date  rating  thumbs_up  \\\n",
       "0        띠리띠리띠로리로  2017년 10월 5일       1        125   \n",
       "1             김재현  2019년 4월 21일       1         93   \n",
       "2  HyeonCheol Kim   2016년 8월 7일       3         67   \n",
       "\n",
       "                                         review_text  \n",
       "0  아니 오늘 서울 가서 자전거 타는데 지금 자전거 빌리는데만 1시간이 걸렸음. 분명히...  \n",
       "1  아 결재 일일권하고 카드 등록도 T교통카드 밖에 안되고, 결국 자전거도 못빌리고 천...  \n",
       "2  앱의 활용도가 부족한거같습니다. 구간구간의 거리나 시간을 알수있는 기능이 좀 상세하...  "
      ]
     },
     "execution_count": 1,
     "metadata": {},
     "output_type": "execute_result"
    }
   ],
   "source": [
    "df = pd.read_csv('sbike_google_sept copy.csv').drop('Unnamed: 0', axis=1)\n",
    "\n",
    "reviews = df['review_text']\n",
    "df.head(3)"
   ]
  },
  {
   "cell_type": "code",
   "execution_count": 7,
   "metadata": {},
   "outputs": [
    {
     "data": {
      "text/plain": [
       "user_name      216\n",
       "date           216\n",
       "rating         216\n",
       "thumbs_up      216\n",
       "review_text    216\n",
       "dtype: int64"
      ]
     },
     "execution_count": 7,
     "metadata": {},
     "output_type": "execute_result"
    }
   ],
   "source": [
    "# 별점 4점 이상 준 유저수 -> 매우 적음\n",
    "df[df['rating'] >=4].count()"
   ]
  },
  {
   "cell_type": "markdown",
   "metadata": {},
   "source": [
    "## 사전 추가\n",
    "기존 형태소 분석기에 추가되지 않은 단어 들을 추가"
   ]
  },
  {
   "cell_type": "code",
   "execution_count": 21,
   "metadata": {},
   "outputs": [],
   "source": [
    "ctwitter.add_dictionary(['따릉이','자출',\n",
    "                       '대여소','거치대','고객센터',\n",
    "                       '임시폐쇄',\n",
    "                         '자동로그인','UX', '1일권', '일일권','가성비',\n",
    "                         '상담원','재로그인', '인증번호', '가입','렉', '랙','제로페이','결제','큐알코드','뒤로가기',\n",
    "                         '대여번호''결제','결재','여러번','불편','개불편함','내세금','전반적', '지도화면','화',\n",
    "                        ], 'Noun')"
   ]
  },
  {
   "cell_type": "markdown",
   "metadata": {},
   "source": [
    "#### 형태소 분석 진행"
   ]
  },
  {
   "cell_type": "code",
   "execution_count": 33,
   "metadata": {},
   "outputs": [],
   "source": [
    "def twitterWithStemming(text):\n",
    "    sentences_tag = []\n",
    "    for sentence in text:\n",
    "        morph = twitter.pos(sentence, stem=False )\n",
    "        sentences_tag.append(morph)\n",
    "    return sentences_tag"
   ]
  },
  {
   "cell_type": "code",
   "execution_count": 34,
   "metadata": {},
   "outputs": [],
   "source": [
    "def stop_wording(sentences_tag):\n",
    "    token = []\n",
    "    token_set={}\n",
    "    token_table=[]\n",
    "    cnt = 0\n",
    "    for row in sentences_tag:\n",
    "        token=[]\n",
    "\n",
    "        for word,tag in row:\n",
    "\n",
    "            if tag in 'Noun':\n",
    "                token.append(word)\n",
    "            elif tag in 'Adjective':\n",
    "                token.append(word)\n",
    "            elif tag in 'Adverv':\n",
    "                token.append(word)\n",
    "            elif tag in 'VerbPrefix':\n",
    "                token.append(word)\n",
    "                \n",
    "            elif tag in 'Verb':\n",
    "                token.append(word)\n",
    "\n",
    "\n",
    "        token_table.append(token)\n",
    "    return token_table"
   ]
  },
  {
   "cell_type": "markdown",
   "metadata": {},
   "source": [
    "### 분석처리를 위한 파일 합병 엑셀화"
   ]
  },
  {
   "cell_type": "code",
   "execution_count": 35,
   "metadata": {},
   "outputs": [],
   "source": [
    "df_text = twitterWithStemming(reviews)"
   ]
  },
  {
   "cell_type": "code",
   "execution_count": 36,
   "metadata": {},
   "outputs": [],
   "source": [
    "b = stop_wording(df_text)"
   ]
  },
  {
   "cell_type": "markdown",
   "metadata": {},
   "source": [
    "## LDA Analysis\n",
    "- Gensim Package 사용\n",
    "- 형태소 분석기 : Okt\n",
    "- 전체 리뷰, 부정리뷰를 나누어서 분석 진행\n",
    "- 긍정 리뷰의 경우 별점 4~5점은 준 리뷰의 갯수가 매우 적어 분석을 진행 하지 않음"
   ]
  },
  {
   "cell_type": "code",
   "execution_count": 37,
   "metadata": {},
   "outputs": [],
   "source": [
    "from gensim import corpora\n",
    "\n",
    "dictionary  = corpora.Dictionary(b)\n",
    "corpus = [dictionary.doc2bow(text) for text in b ]\n"
   ]
  },
  {
   "cell_type": "markdown",
   "metadata": {},
   "source": [
    " "
   ]
  },
  {
   "cell_type": "markdown",
   "metadata": {},
   "source": [
    "### 전체 리뷰에 대한 LDA 분석"
   ]
  },
  {
   "cell_type": "code",
   "execution_count": 38,
   "metadata": {},
   "outputs": [
    {
     "data": {
      "text/plain": [
       "[(0,\n",
       "  '0.036*\"앱\" + 0.010*\"좀\" + 0.009*\"안\" + 0.008*\"못\" + 0.008*\"따릉\" + 0.007*\"쓰레기\" + 0.007*\"로그인\" + 0.007*\"사용\" + 0.007*\"최악\" + 0.006*\"자전거\"'),\n",
       " (1,\n",
       "  '0.030*\"앱\" + 0.013*\"안\" + 0.012*\"지도\" + 0.009*\"잘\" + 0.009*\"업데이트\" + 0.007*\"자전거\" + 0.007*\"진짜\" + 0.007*\"오류\" + 0.007*\"따릉\" + 0.006*\"결제\"'),\n",
       " (2,\n",
       "  '0.039*\"앱\" + 0.013*\"자전거\" + 0.012*\"안\" + 0.009*\"대여\" + 0.009*\"업데이트\" + 0.008*\"결제\" + 0.008*\"로딩\" + 0.007*\"여소\" + 0.006*\"따릉\" + 0.006*\"시간\"'),\n",
       " (3,\n",
       "  '0.039*\"로그인\" + 0.018*\"앱\" + 0.014*\"가입\" + 0.014*\"오류\" + 0.013*\"번호\" + 0.012*\"회원\" + 0.010*\"자동\" + 0.009*\"아이디\" + 0.007*\"안\" + 0.007*\"비빌\"'),\n",
       " (4,\n",
       "  '0.021*\"앱\" + 0.019*\"결제\" + 0.013*\"대여\" + 0.009*\"업데이트\" + 0.008*\"안\" + 0.008*\"이용\" + 0.008*\"잘\" + 0.007*\"사용\" + 0.007*\"오류\" + 0.007*\"자전거\"'),\n",
       " (5,\n",
       "  '0.020*\"앱\" + 0.013*\"오류\" + 0.011*\"왜\" + 0.011*\"업데이트\" + 0.010*\"진짜\" + 0.009*\"안\" + 0.006*\"지도\" + 0.006*\"최악\" + 0.006*\"따릉\" + 0.006*\"자전거\"'),\n",
       " (6,\n",
       "  '0.014*\"결제\" + 0.013*\"왜\" + 0.012*\"앱\" + 0.011*\"안\" + 0.009*\"업데이트\" + 0.005*\"더\" + 0.005*\"해서\" + 0.005*\"사용\" + 0.005*\"못\" + 0.004*\"자전거\"')]"
      ]
     },
     "execution_count": 38,
     "metadata": {},
     "output_type": "execute_result"
    }
   ],
   "source": [
    "import gensim\n",
    "lda = gensim.models.ldamodel.LdaModel(corpus=corpus, id2word=dictionary, num_topics=7, alpha='auto', \n",
    "                                      update_every=1, chunksize=20000, passes=10)\n",
    "lda.print_topics()"
   ]
  },
  {
   "cell_type": "code",
   "execution_count": 57,
   "metadata": {},
   "outputs": [
    {
     "name": "stdout",
     "output_type": "stream",
     "text": [
      "\n",
      "Perplexity:  -7.3276142666133754\n",
      "\n",
      "Coherence Score:  0.39175704106359943\n"
     ]
    }
   ],
   "source": [
    "from gensim.models.coherencemodel import CoherenceModel\n",
    "# Compute Perplexity\n",
    "print('\\nPerplexity: ', lda.log_perplexity(corpus)) # a measure of how good the model is. lower the better.\n",
    " \n",
    "# Compute Coherence Score\n",
    "coherence_model_lda = CoherenceModel(model=lda, texts=b, dictionary=dictionary, coherence='c_v')\n",
    "coherence_lda = coherence_model_lda.get_coherence()\n",
    "print('\\nCoherence Score: ', coherence_lda)"
   ]
  },
  {
   "cell_type": "markdown",
   "metadata": {},
   "source": [
    " "
   ]
  },
  {
   "cell_type": "code",
   "execution_count": 58,
   "metadata": {},
   "outputs": [
    {
     "data": {
      "text/plain": [
       "[(0,\n",
       "  '0.023*\"어플\" + 0.019*\"진짜\" + 0.014*\"최악\" + 0.013*\"로딩\" + 0.013*\"그냥\" + 0.011*\"사용\" + 0.010*\"불편\" + 0.007*\"제대로\" + 0.006*\"안되\" + 0.006*\"돈\"'),\n",
       " (1,\n",
       "  '0.030*\"어플\" + 0.020*\"오류\" + 0.016*\"결제\" + 0.013*\"안되\" + 0.012*\"쓰레기\" + 0.010*\"따릉이\" + 0.009*\"다시\" + 0.008*\"업데이트\" + 0.008*\"시간\" + 0.008*\"지도\"'),\n",
       " (2,\n",
       "  '0.039*\"어플\" + 0.032*\"안되\" + 0.020*\"결제\" + 0.019*\"업데이트\" + 0.017*\"따릉이\" + 0.016*\"지도\" + 0.014*\"사용\" + 0.012*\"대여소\" + 0.012*\"오류\" + 0.009*\"불편\"'),\n",
       " (3,\n",
       "  '0.048*\"어플\" + 0.038*\"로그인\" + 0.021*\"안되\" + 0.016*\"결제\" + 0.014*\"오류\" + 0.013*\"자전거\" + 0.013*\"최악\" + 0.011*\"진짜\" + 0.009*\"카카오톡\" + 0.009*\"불편\"'),\n",
       " (4,\n",
       "  '0.057*\"어플\" + 0.018*\"안되\" + 0.017*\"오류\" + 0.015*\"자전거\" + 0.012*\"업데이트\" + 0.012*\"대여\" + 0.011*\"버전\" + 0.010*\"지도\" + 0.009*\"따릉이\" + 0.008*\"결제\"'),\n",
       " (5,\n",
       "  '0.026*\"어플\" + 0.026*\"회원\" + 0.019*\"회원가입\" + 0.018*\"안되\" + 0.016*\"자전거\" + 0.013*\"따릉이\" + 0.010*\"로그인\" + 0.009*\"비밀번호\" + 0.009*\"이용\" + 0.009*\"정말\"'),\n",
       " (6,\n",
       "  '0.022*\"안되\" + 0.018*\"대여\" + 0.018*\"어플\" + 0.016*\"지도\" + 0.014*\"대여소\" + 0.012*\"자전거\" + 0.011*\"결제\" + 0.010*\"비밀번호\" + 0.009*\"오류\" + 0.008*\"업데이트\"')]"
      ]
     },
     "execution_count": 58,
     "metadata": {},
     "output_type": "execute_result"
    }
   ],
   "source": [
    "#구글 플레이 스토어 7개 토픽 모델링 저장\n",
    "from gensim.test.utils import datapath\n",
    "\n",
    "temp_file = 'LDA/google_num7'\n",
    "lda.save(temp_file)\n",
    "\n",
    "lda_google7 = gensim.models.ldamodel.LdaModel.load(temp_file)\n",
    "lda_google7.print_topics()"
   ]
  },
  {
   "cell_type": "code",
   "execution_count": 175,
   "metadata": {},
   "outputs": [],
   "source": [
    "for d in b:\n",
    "    bow = dictionary.doc2bow(d)\n",
    "    t = lda.get_document_topics(bow)"
   ]
  },
  {
   "cell_type": "code",
   "execution_count": 176,
   "metadata": {},
   "outputs": [
    {
     "data": {
      "text/plain": [
       "[(0, 0.023274003),\n",
       " (1, 0.022734564),\n",
       " (2, 0.90867907),\n",
       " (3, 0.022542713),\n",
       " (4, 0.0227696)]"
      ]
     },
     "execution_count": 176,
     "metadata": {},
     "output_type": "execute_result"
    }
   ],
   "source": [
    "t # 토픽 출현 확률"
   ]
  },
  {
   "cell_type": "code",
   "execution_count": 181,
   "metadata": {},
   "outputs": [],
   "source": [
    "import numpy as np\n",
    "topics_terms = lda.state.get_lambda()\n",
    "topics_terms_proba = np.apply_along_axis(lambda x: x/x.sum(),1,topics_terms)\n",
    "probality=[]\n",
    "for i in range(5):\n",
    "    \n",
    "    probality.append(topics_terms[i].sum()/topics_terms.sum())"
   ]
  },
  {
   "cell_type": "code",
   "execution_count": 182,
   "metadata": {},
   "outputs": [],
   "source": [
    "topics = lda.print_topics()\n",
    "def get_topics(topic):\n",
    "    listed = topic.split('+')\n",
    "    topics=[]\n",
    "    for i in listed:\n",
    "        topics.append(i[i.index('*')+1:].replace('\"', '').rstrip())\n",
    "    \n",
    "    return topics"
   ]
  },
  {
   "cell_type": "code",
   "execution_count": 192,
   "metadata": {},
   "outputs": [],
   "source": [
    "def get_topics_number(topic):\n",
    "    listed = topic.split('+')\n",
    "    topics=[]\n",
    "    for i in listed:\n",
    "        topics.append(i[:i.index('*')].replace('\"', '').rstrip())\n",
    "    \n",
    "    return topics"
   ]
  },
  {
   "cell_type": "code",
   "execution_count": 188,
   "metadata": {},
   "outputs": [
    {
     "data": {
      "text/plain": [
       "[['어플', '오류', '결제', '따릉이', '이용', '지도', '업데이트', '안되', '최악', '자전거'],\n",
       " ['어플', '안되', '로그인', '업데이트', '자전거', '결제', '불편', '따릉이', '오류', '로딩'],\n",
       " ['어플', '로그인', '회원가입', '안되', '회원', '비밀번호', '다시', '자전거', '결제', '업데이트'],\n",
       " ['안되', '어플', '대여', '자전거', '오류', '진짜', '최악', '대여소', '지도', '검색'],\n",
       " ['어플', '결제', '사용', '안되', '오류', '대여소', '지도', '따릉이', '시간', '자전거']]"
      ]
     },
     "execution_count": 188,
     "metadata": {},
     "output_type": "execute_result"
    }
   ],
   "source": [
    "topics_list=[]\n",
    "\n",
    "for i in topics:\n",
    "    topics_list.append(get_topics(i[1]))\n",
    "topics_list"
   ]
  },
  {
   "cell_type": "code",
   "execution_count": 59,
   "metadata": {},
   "outputs": [
    {
     "data": {
      "text/plain": [
       "[0.09384192,\n",
       " 0.12790182,\n",
       " 0.025611972,\n",
       " 0.06432053,\n",
       " 0.057708878,\n",
       " 0.13163634,\n",
       " 0.056753032,\n",
       " 0.1933901,\n",
       " 0.10153924,\n",
       " 0.14729626]"
      ]
     },
     "execution_count": 59,
     "metadata": {},
     "output_type": "execute_result"
    }
   ],
   "source": [
    "probality"
   ]
  },
  {
   "cell_type": "code",
   "execution_count": 34,
   "metadata": {},
   "outputs": [],
   "source": [
    "topics = lda.print_topics()\n",
    "def get_topics_number(topic):\n",
    "    listed = topic.split('+')\n",
    "    topics=[]\n",
    "    for i in listed:\n",
    "        topics.append(i[:i.index('*')].replace('\"', '').rstrip())\n",
    "    \n",
    "    return topics"
   ]
  },
  {
   "cell_type": "markdown",
   "metadata": {},
   "source": [
    "#### 상위 토픽 10개 항목에 대한 토픽 분포"
   ]
  },
  {
   "cell_type": "code",
   "execution_count": 37,
   "metadata": {},
   "outputs": [
    {
     "data": {
      "text/html": [
       "<div>\n",
       "<style scoped>\n",
       "    .dataframe tbody tr th:only-of-type {\n",
       "        vertical-align: middle;\n",
       "    }\n",
       "\n",
       "    .dataframe tbody tr th {\n",
       "        vertical-align: top;\n",
       "    }\n",
       "\n",
       "    .dataframe thead th {\n",
       "        text-align: right;\n",
       "    }\n",
       "</style>\n",
       "<table border=\"1\" class=\"dataframe\">\n",
       "  <thead>\n",
       "    <tr style=\"text-align: right;\">\n",
       "      <th></th>\n",
       "      <th>0</th>\n",
       "      <th>1</th>\n",
       "      <th>2</th>\n",
       "      <th>3</th>\n",
       "      <th>4</th>\n",
       "      <th>5</th>\n",
       "      <th>6</th>\n",
       "      <th>7</th>\n",
       "      <th>8</th>\n",
       "      <th>9</th>\n",
       "    </tr>\n",
       "  </thead>\n",
       "  <tbody>\n",
       "    <tr>\n",
       "      <th>0</th>\n",
       "      <td>0.036</td>\n",
       "      <td>0.023</td>\n",
       "      <td>0.020</td>\n",
       "      <td>0.013</td>\n",
       "      <td>0.012</td>\n",
       "      <td>0.010</td>\n",
       "      <td>0.010</td>\n",
       "      <td>0.010</td>\n",
       "      <td>0.009</td>\n",
       "      <td>0.008</td>\n",
       "    </tr>\n",
       "    <tr>\n",
       "      <th>1</th>\n",
       "      <td>0.074</td>\n",
       "      <td>0.035</td>\n",
       "      <td>0.035</td>\n",
       "      <td>0.027</td>\n",
       "      <td>0.019</td>\n",
       "      <td>0.017</td>\n",
       "      <td>0.016</td>\n",
       "      <td>0.015</td>\n",
       "      <td>0.014</td>\n",
       "      <td>0.011</td>\n",
       "    </tr>\n",
       "    <tr>\n",
       "      <th>2</th>\n",
       "      <td>0.028</td>\n",
       "      <td>0.019</td>\n",
       "      <td>0.012</td>\n",
       "      <td>0.011</td>\n",
       "      <td>0.010</td>\n",
       "      <td>0.009</td>\n",
       "      <td>0.009</td>\n",
       "      <td>0.009</td>\n",
       "      <td>0.008</td>\n",
       "      <td>0.007</td>\n",
       "    </tr>\n",
       "    <tr>\n",
       "      <th>3</th>\n",
       "      <td>0.057</td>\n",
       "      <td>0.036</td>\n",
       "      <td>0.034</td>\n",
       "      <td>0.014</td>\n",
       "      <td>0.011</td>\n",
       "      <td>0.009</td>\n",
       "      <td>0.009</td>\n",
       "      <td>0.008</td>\n",
       "      <td>0.008</td>\n",
       "      <td>0.008</td>\n",
       "    </tr>\n",
       "    <tr>\n",
       "      <th>4</th>\n",
       "      <td>0.044</td>\n",
       "      <td>0.043</td>\n",
       "      <td>0.032</td>\n",
       "      <td>0.013</td>\n",
       "      <td>0.011</td>\n",
       "      <td>0.009</td>\n",
       "      <td>0.009</td>\n",
       "      <td>0.008</td>\n",
       "      <td>0.008</td>\n",
       "      <td>0.007</td>\n",
       "    </tr>\n",
       "    <tr>\n",
       "      <th>5</th>\n",
       "      <td>0.030</td>\n",
       "      <td>0.026</td>\n",
       "      <td>0.024</td>\n",
       "      <td>0.020</td>\n",
       "      <td>0.009</td>\n",
       "      <td>0.008</td>\n",
       "      <td>0.008</td>\n",
       "      <td>0.007</td>\n",
       "      <td>0.007</td>\n",
       "      <td>0.007</td>\n",
       "    </tr>\n",
       "    <tr>\n",
       "      <th>6</th>\n",
       "      <td>0.027</td>\n",
       "      <td>0.024</td>\n",
       "      <td>0.017</td>\n",
       "      <td>0.014</td>\n",
       "      <td>0.013</td>\n",
       "      <td>0.013</td>\n",
       "      <td>0.009</td>\n",
       "      <td>0.006</td>\n",
       "      <td>0.006</td>\n",
       "      <td>0.006</td>\n",
       "    </tr>\n",
       "    <tr>\n",
       "      <th>7</th>\n",
       "      <td>0.053</td>\n",
       "      <td>0.025</td>\n",
       "      <td>0.016</td>\n",
       "      <td>0.015</td>\n",
       "      <td>0.013</td>\n",
       "      <td>0.011</td>\n",
       "      <td>0.009</td>\n",
       "      <td>0.008</td>\n",
       "      <td>0.008</td>\n",
       "      <td>0.007</td>\n",
       "    </tr>\n",
       "    <tr>\n",
       "      <th>8</th>\n",
       "      <td>0.043</td>\n",
       "      <td>0.036</td>\n",
       "      <td>0.013</td>\n",
       "      <td>0.012</td>\n",
       "      <td>0.010</td>\n",
       "      <td>0.010</td>\n",
       "      <td>0.008</td>\n",
       "      <td>0.008</td>\n",
       "      <td>0.007</td>\n",
       "      <td>0.006</td>\n",
       "    </tr>\n",
       "    <tr>\n",
       "      <th>9</th>\n",
       "      <td>0.016</td>\n",
       "      <td>0.016</td>\n",
       "      <td>0.014</td>\n",
       "      <td>0.014</td>\n",
       "      <td>0.013</td>\n",
       "      <td>0.012</td>\n",
       "      <td>0.010</td>\n",
       "      <td>0.009</td>\n",
       "      <td>0.009</td>\n",
       "      <td>0.008</td>\n",
       "    </tr>\n",
       "  </tbody>\n",
       "</table>\n",
       "</div>"
      ],
      "text/plain": [
       "       0       1       2       3       4       5       6       7       8  \\\n",
       "0  0.036   0.023   0.020   0.013   0.012   0.010   0.010   0.010   0.009   \n",
       "1  0.074   0.035   0.035   0.027   0.019   0.017   0.016   0.015   0.014   \n",
       "2  0.028   0.019   0.012   0.011   0.010   0.009   0.009   0.009   0.008   \n",
       "3  0.057   0.036   0.034   0.014   0.011   0.009   0.009   0.008   0.008   \n",
       "4  0.044   0.043   0.032   0.013   0.011   0.009   0.009   0.008   0.008   \n",
       "5  0.030   0.026   0.024   0.020   0.009   0.008   0.008   0.007   0.007   \n",
       "6  0.027   0.024   0.017   0.014   0.013   0.013   0.009   0.006   0.006   \n",
       "7  0.053   0.025   0.016   0.015   0.013   0.011   0.009   0.008   0.008   \n",
       "8  0.043   0.036   0.013   0.012   0.010   0.010   0.008   0.008   0.007   \n",
       "9  0.016   0.016   0.014   0.014   0.013   0.012   0.010   0.009   0.009   \n",
       "\n",
       "        9  \n",
       "0   0.008  \n",
       "1   0.011  \n",
       "2   0.007  \n",
       "3   0.008  \n",
       "4   0.007  \n",
       "5   0.007  \n",
       "6   0.006  \n",
       "7   0.007  \n",
       "8   0.006  \n",
       "9   0.008  "
      ]
     },
     "execution_count": 37,
     "metadata": {},
     "output_type": "execute_result"
    }
   ],
   "source": [
    "topics_num_list=[]\n",
    "\n",
    "for i in topics:\n",
    "    topics_num_list.append(get_topics_number(i[1]))\n",
    "# print(topics_num_list)\n",
    "# pd.DataFrame(topics_num_list).to_excel('Yoon/citizen_lda_num.xlsx')\n",
    "pd.DataFrame(topics_num_list)"
   ]
  },
  {
   "cell_type": "code",
   "execution_count": 202,
   "metadata": {},
   "outputs": [],
   "source": [
    "topics_num_list=[]\n",
    "\n",
    "for i in topics:\n",
    "    topics_num_list.append(get_topics_number(i[1]))\n",
    "pd.DataFrame(topics_num_list).to_excel('Yoon/google_lda_num.xlsx')"
   ]
  },
  {
   "cell_type": "code",
   "execution_count": 184,
   "metadata": {},
   "outputs": [],
   "source": [
    "import pandas as pd\n",
    "pd.DataFrame(topics_list).append(probality).to_excel('Yoon/google_lda_refined.xlsx')"
   ]
  },
  {
   "cell_type": "markdown",
   "metadata": {},
   "source": [
    " "
   ]
  },
  {
   "cell_type": "markdown",
   "metadata": {},
   "source": [
    "### 부정적 점수를 준 리뷰"
   ]
  },
  {
   "cell_type": "code",
   "execution_count": 416,
   "metadata": {},
   "outputs": [],
   "source": [
    "df = pd.read_csv('sbike_google_sept.csv')\n",
    "bad_reviews = df[df['rating']<3]['review_text']"
   ]
  },
  {
   "cell_type": "code",
   "execution_count": 418,
   "metadata": {},
   "outputs": [],
   "source": [
    "sentence_tag =do_twitter(bad_reviews)"
   ]
  },
  {
   "cell_type": "code",
   "execution_count": 419,
   "metadata": {},
   "outputs": [],
   "source": [
    "bad_tokenized = stop_wording(sentence_tag)"
   ]
  },
  {
   "cell_type": "code",
   "execution_count": 421,
   "metadata": {},
   "outputs": [
    {
     "data": {
      "text/plain": [
       "[(0,\n",
       "  '0.037*\"어플\" + 0.022*\"결제\" + 0.021*\"안되\" + 0.017*\"대여\" + 0.016*\"자전거\" + 0.013*\"오류\" + 0.010*\"사용\" + 0.010*\"불편\" + 0.009*\"대여소\" + 0.009*\"따릉이\"'),\n",
       " (1,\n",
       "  '0.062*\"어플\" + 0.023*\"안되\" + 0.014*\"오류\" + 0.014*\"결제\" + 0.012*\"로그인\" + 0.011*\"따릉이\" + 0.010*\"회원가입\" + 0.010*\"회원\" + 0.010*\"업데이트\" + 0.009*\"자전거\"'),\n",
       " (2,\n",
       "  '0.034*\"어플\" + 0.027*\"로그인\" + 0.025*\"안되\" + 0.021*\"지도\" + 0.012*\"오류\" + 0.011*\"최악\" + 0.009*\"대여소\" + 0.009*\"진짜\" + 0.008*\"검색\" + 0.008*\"결제\"'),\n",
       " (3,\n",
       "  '0.032*\"어플\" + 0.018*\"안되\" + 0.016*\"쓰레기\" + 0.013*\"결제\" + 0.012*\"진짜\" + 0.010*\"오류\" + 0.009*\"로딩\" + 0.009*\"계속\" + 0.009*\"최악\" + 0.007*\"정말\"'),\n",
       " (4,\n",
       "  '0.041*\"업데이트\" + 0.020*\"안되\" + 0.014*\"지도\" + 0.014*\"대여소\" + 0.013*\"자전거\" + 0.011*\"어플\" + 0.010*\"버전\" + 0.009*\"최악\" + 0.008*\"돈\" + 0.008*\"오류\"')]"
      ]
     },
     "execution_count": 421,
     "metadata": {},
     "output_type": "execute_result"
    }
   ],
   "source": [
    "dictionary  = corpora.Dictionary(bad_tokenized)\n",
    "corpus = [dictionary.doc2bow(text) for text in bad_tokenized ]\n",
    "lda = gensim.models.ldamodel.LdaModel(corpus=corpus, id2word=dictionary, num_topics=5, update_every=1, chunksize=10000, passes=20)\n",
    "lda.print_topics()"
   ]
  },
  {
   "cell_type": "markdown",
   "metadata": {},
   "source": [
    " "
   ]
  },
  {
   "cell_type": "markdown",
   "metadata": {},
   "source": [
    "# 시민의견수렴 게시판"
   ]
  },
  {
   "cell_type": "code",
   "execution_count": 431,
   "metadata": {},
   "outputs": [],
   "source": [
    "df = pd.read_excel('Seoulbike_complain.xlsx')\n",
    "\n",
    "text = df['content']"
   ]
  },
  {
   "cell_type": "code",
   "execution_count": 438,
   "metadata": {},
   "outputs": [],
   "source": [
    "str_text = []\n",
    "for row in text:\n",
    "    str_text.append(str(row))"
   ]
  },
  {
   "cell_type": "code",
   "execution_count": 439,
   "metadata": {},
   "outputs": [],
   "source": [
    "sentence_tag =do_twitter(str_text)"
   ]
  },
  {
   "cell_type": "code",
   "execution_count": 440,
   "metadata": {},
   "outputs": [],
   "source": [
    "citizen_tokenized = stop_wording(sentence_tag)"
   ]
  },
  {
   "cell_type": "code",
   "execution_count": 443,
   "metadata": {},
   "outputs": [
    {
     "data": {
      "text/plain": [
       "[(0,\n",
       "  '0.038*\"답변\" + 0.025*\"설치\" + 0.021*\"언제\" + 0.014*\"글\" + 0.013*\"문의\" + 0.013*\"공지\" + 0.010*\"이용\" + 0.010*\"가능\" + 0.009*\"대여소\" + 0.009*\"장애\"'),\n",
       " (1,\n",
       "  '0.054*\"반납\" + 0.028*\"대여\" + 0.028*\"자전거\" + 0.021*\"시간\" + 0.020*\"안되\" + 0.018*\"결제\" + 0.014*\"처리\" + 0.012*\"이용\" + 0.011*\"연결\" + 0.010*\"추가\"'),\n",
       " (2,\n",
       "  '0.057*\"자전거\" + 0.019*\"따릉이\" + 0.016*\"고장\" + 0.011*\"이용\" + 0.008*\"생각\" + 0.008*\"있는\" + 0.008*\"신고\" + 0.007*\"입니다\" + 0.007*\"경우\" + 0.006*\"있\"'),\n",
       " (3,\n",
       "  '0.017*\"자전거\" + 0.015*\"고장\" + 0.015*\"대여\" + 0.014*\"안되\" + 0.014*\"신고\" + 0.010*\"로그인\" + 0.010*\"반납\" + 0.009*\"어플\" + 0.009*\"이용\" + 0.008*\"번호\"'),\n",
       " (4,\n",
       "  '0.014*\"화면\" + 0.012*\"비밀번호\" + 0.011*\"표시\" + 0.011*\"지도\" + 0.011*\"버튼\" + 0.010*\"대여소\" + 0.008*\"비공개\" + 0.008*\"위치\" + 0.007*\"안되\" + 0.007*\"글\"'),\n",
       " (5,\n",
       "  '0.033*\"따릉이\" + 0.015*\"거치대\" + 0.013*\"대여소\" + 0.011*\"시간\" + 0.010*\"한강\" + 0.009*\"공원\" + 0.008*\"설치\" + 0.008*\"이용\" + 0.007*\"질문\" + 0.007*\"거리\"'),\n",
       " (6,\n",
       "  '0.036*\"안장\" + 0.025*\"따릉이\" + 0.021*\"단\" + 0.020*\"높이\" + 0.017*\"자전거\" + 0.011*\"마일리지\" + 0.011*\"이용\" + 0.011*\"무릎\" + 0.010*\"환승\" + 0.010*\"키\"'),\n",
       " (7,\n",
       "  '0.030*\"어플\" + 0.018*\"이용\" + 0.017*\"따릉이\" + 0.016*\"대여\" + 0.014*\"사용\" + 0.012*\"지도\" + 0.012*\"대여소\" + 0.011*\"카드\" + 0.010*\"안되\" + 0.010*\"등록\"'),\n",
       " (8,\n",
       "  '0.058*\"대여소\" + 0.050*\"설치\" + 0.023*\"따릉이\" + 0.013*\"사거리\" + 0.010*\"주변\" + 0.009*\"주민\" + 0.009*\"부탁\" + 0.008*\"센터\" + 0.008*\"근처\" + 0.007*\"아파트\"'),\n",
       " (9,\n",
       "  '0.031*\"대여소\" + 0.030*\"따릉이\" + 0.028*\"자전거\" + 0.025*\"이용\" + 0.024*\"설치\" + 0.011*\"입니다\" + 0.009*\"근처\" + 0.008*\"출구\" + 0.007*\"아파트\" + 0.007*\"있습니다\"')]"
      ]
     },
     "execution_count": 443,
     "metadata": {},
     "output_type": "execute_result"
    }
   ],
   "source": [
    "dictionary  = corpora.Dictionary(citizen_tokenized)\n",
    "corpus = [dictionary.doc2bow(text) for text in citizen_tokenized ]\n",
    "lda = gensim.models.ldamodel.LdaModel(corpus=corpus, id2word=dictionary, num_topics=10, update_every=1, chunksize=10000, passes=20)\n",
    "lda.print_topics()"
   ]
  },
  {
   "cell_type": "code",
   "execution_count": 444,
   "metadata": {},
   "outputs": [],
   "source": [
    "lda_result = lda.print_topics()"
   ]
  },
  {
   "cell_type": "code",
   "execution_count": 458,
   "metadata": {},
   "outputs": [
    {
     "data": {
      "text/plain": [
       "['0.054*\"반납\" + 0.028*\"대여\" + 0.028*\"자전거\" + 0.021*\"시간\" + 0.020*\"안되\" + 0.018*\"결제\" + 0.014*\"처리\" + 0.012*\"이용\" + 0.011*\"연결\" + 0.010*\"추가\"']"
      ]
     },
     "execution_count": 458,
     "metadata": {},
     "output_type": "execute_result"
    }
   ],
   "source": [
    "list(lda_result[1])[1:]"
   ]
  },
  {
   "cell_type": "code",
   "execution_count": 27,
   "metadata": {},
   "outputs": [
    {
     "name": "stdout",
     "output_type": "stream",
     "text": [
      "[('할', 191), ('잘', 154), ('들', 119), ('건지', 115), ('하는', 115), ('합니다', 107), ('했는데', 96), ('하면', 78), ('하게', 70), ('되고', 68), ('하기', 68), ('만든', 65), ('뜨고', 62), ('하는데', 59), ('가', 52), ('넘', 50), ('않고', 48), ('하네요', 48), ('참', 48), ('까', 46), ('쓰', 44), ('만들', 44), ('쓸', 42), ('했', 42), ('된', 40), ('서', 39), ('한', 39), ('들이', 38), ('하지', 37), ('되', 35), ('되는', 33), ('해야', 32), ('되는데', 32), ('하세요', 32), ('되지', 31), ('됨', 28), ('대', 27), ('되서', 26), ('떠서', 26), ('만들어', 25), ('지', 25), ('써', 23), ('누르면', 22), ('않아', 22), ('빌릴', 22), ('않음', 21), ('고쳐주세요', 21), ('나서', 21), ('돼요', 20), ('했습니다', 20), ('는', 19), ('됩니다', 19), ('들은', 19), ('되면', 18), ('오고', 18), ('돼서', 18), ('뜨', 18), ('받고', 18), ('하네', 17), ('않네요', 17), ('나오고', 17), ('되네요', 17), ('쳐', 17), ('쓰고', 17), ('째', 16), ('드려요', 16), ('빌리는데', 16), ('하다', 16), ('걸리고', 16), ('만드는', 16), ('찾', 16), ('깔', 15), ('내고', 15), ('하려', 15), ('할수', 15), ('하는거', 15), ('눌러도', 14), ('걸림', 14), ('날리고', 14), ('할거면', 14), ('쓰는', 14), ('와', 14), ('먹고', 14), ('빌', 14), ('찾는', 14), ('않아요', 13), ('긴', 13), ('주고', 13), ('봅니다', 13), ('놓고', 12), ('겁니다', 12), ('마세요', 12), ('찾을', 12), ('모르겠', 12), ('만들고', 12), ('되어', 12), ('뜨네요', 12), ('들어', 11), ('만들었냐', 11), ('싶', 11)]\n"
     ]
    }
   ],
   "source": [
    "verb_list = []\n",
    "for sentence in sentences_tag:\n",
    "    for word, tag in sentence:\n",
    "        if tag in ['Verb']:\n",
    "            \n",
    "            verb_list.append(word)\n",
    "            \n",
    "len(adj_list)\n",
    "counts_adj = Counter(verb_list)\n",
    "print(counts_adj.most_common(100))"
   ]
  },
  {
   "cell_type": "code",
   "execution_count": 17,
   "metadata": {},
   "outputs": [
    {
     "name": "stdout",
     "output_type": "stream",
     "text": [
      "[('안되고', 116), ('어떻게', 87), ('입니다', 86), ('있', 77), ('안됨', 71), ('좋아요', 57), ('이런', 53), ('있는', 50), ('좋은데', 48), ('같은', 43), ('좋은', 43), ('없', 43), ('안되서', 39), ('없는', 37), ('없고', 37), ('같아요', 35), ('안되네요', 35), ('없음', 34), ('없네요', 34), ('많고', 34), ('같습니다', 31), ('새로', 29), ('있습니다', 29), ('아닌', 27), ('느리고', 27), ('있는데', 26), ('느려', 25), ('많은', 22), ('안되요', 22), ('안되는', 22), ('좋', 21), ('없다', 20), ('있는지', 20), ('좋겠습니다', 19), ('안됩니다', 17), ('없다고', 16), ('좋겠', 15), ('있고', 14), ('아깝다', 14), ('같네요', 14), ('있게', 14), ('어떤', 14), ('있음', 13), ('굉장히', 13), ('있으면', 13), ('느려요', 13), ('이럴거면', 13), ('이런거', 12), ('많음', 12), ('아까', 12), ('안된다', 12), ('있다', 12), ('좋겠네요', 12), ('없습니다', 11), ('많', 11), ('없네', 11), ('느려서', 11), ('많아요', 10), ('같음', 10), ('없어', 10), ('안되는데', 10), ('많습니다', 10), ('같다', 9), ('좋습니다', 9), ('있다고', 9), ('안되나요', 9), ('없는데', 9), ('안되', 9), ('좋으나', 9), ('같', 9), ('많아서', 9), ('같은데', 9), ('없게', 9), ('있는거', 8), ('없으면', 8), ('어렵고', 8), ('빠른', 8), ('안되면', 8), ('편하게', 8), ('있네요', 8), ('느림', 8), ('답답하네요', 8), ('그런', 7), ('좋네요', 7), ('안되네', 7), ('안되는거', 7), ('아닌데', 7), ('많은데', 7), ('아까워요', 7), ('느린', 7), ('안되죠', 7), ('안된다고', 7), ('어려워', 6), ('좋겠다', 6), ('좋을거', 6), ('먼', 6), ('같은거', 6), ('안되니', 6), ('아닙니다', 6), ('빠르게', 6)]\n"
     ]
    }
   ],
   "source": [
    "counts_adj = Counter(adj_list)\n",
    "print(counts_adj.most_common(100))"
   ]
  },
  {
   "cell_type": "code",
   "execution_count": 18,
   "metadata": {},
   "outputs": [],
   "source": [
    "import pandas as pd\n",
    "df = pd.DataFrame(counts_adj.most_common(100))\n",
    "df.to_excel('Yoon/s_bike_google_adj.xlsx')"
   ]
  },
  {
   "cell_type": "markdown",
   "metadata": {},
   "source": [
    "#### 명사 추출후 상위 10개 항목 정렬"
   ]
  },
  {
   "cell_type": "code",
   "execution_count": 8,
   "metadata": {},
   "outputs": [],
   "source": [
    "df['twitter(no Stem)'] = df['review_text'].apply(lambda x: twitter.pos(x))\n",
    "df['twitter(Stem)'] = df['review_text'].apply(lambda x: twitter.pos(x, stem=True))"
   ]
  },
  {
   "cell_type": "code",
   "execution_count": 13,
   "metadata": {},
   "outputs": [],
   "source": [
    "df['cutomizedTwitter(no Stem)'] = df['review_text'].apply(lambda x: ctwitter.pos(x))\n",
    "df['cutomizedTwitter(Stem)'] = df['review_text'].apply(lambda x: ctwitter.pos(x, stem=True))"
   ]
  },
  {
   "cell_type": "code",
   "execution_count": 15,
   "metadata": {},
   "outputs": [
    {
     "data": {
      "text/html": [
       "<div>\n",
       "<style scoped>\n",
       "    .dataframe tbody tr th:only-of-type {\n",
       "        vertical-align: middle;\n",
       "    }\n",
       "\n",
       "    .dataframe tbody tr th {\n",
       "        vertical-align: top;\n",
       "    }\n",
       "\n",
       "    .dataframe thead th {\n",
       "        text-align: right;\n",
       "    }\n",
       "</style>\n",
       "<table border=\"1\" class=\"dataframe\">\n",
       "  <thead>\n",
       "    <tr style=\"text-align: right;\">\n",
       "      <th></th>\n",
       "      <th>user_name</th>\n",
       "      <th>date</th>\n",
       "      <th>rating</th>\n",
       "      <th>thumbs_up</th>\n",
       "      <th>review_text</th>\n",
       "      <th>twitter(no Stem)</th>\n",
       "      <th>twitter(Stem)</th>\n",
       "      <th>cutomizedTwitter</th>\n",
       "      <th>cutomizedTwitter(no Stem)</th>\n",
       "      <th>cutomizedTwitter(Stem)</th>\n",
       "    </tr>\n",
       "  </thead>\n",
       "  <tbody>\n",
       "    <tr>\n",
       "      <th>0</th>\n",
       "      <td>hayeon</td>\n",
       "      <td>2019년 9월 29일</td>\n",
       "      <td>1</td>\n",
       "      <td>11</td>\n",
       "      <td>뭐 누르기만 해도 앱이 계속 로그아웃되고 네이버로그인을 해봤자 어차피 여기 가입을 ...</td>\n",
       "      <td>[(뭐, Noun), (누르기, Noun), (만, Josa), (해도, Noun)...</td>\n",
       "      <td>[(뭐, Noun), (누르기, Noun), (만, Josa), (해도, Noun)...</td>\n",
       "      <td>[뭐, 누르기, 만, 해도, 앱, 이, 계속, 로그아웃, 되고, 네이버, 로그인, ...</td>\n",
       "      <td>[(뭐, Noun), (누르기, Noun), (만, Josa), (해도, Noun)...</td>\n",
       "      <td>[(뭐, Noun), (누르기, Noun), (만, Josa), (해도, Noun)...</td>\n",
       "    </tr>\n",
       "    <tr>\n",
       "      <th>1</th>\n",
       "      <td>신아현</td>\n",
       "      <td>2019년 9월 23일</td>\n",
       "      <td>2</td>\n",
       "      <td>4</td>\n",
       "      <td>1. 로그인 화면에서 자동 로그인 체크하고 재로그인하면 이상한 비빌번호 이 저장되서...</td>\n",
       "      <td>[(1, Number), (., Punctuation), (로그인, Noun), (...</td>\n",
       "      <td>[(1, Number), (., Punctuation), (로그인, Noun), (...</td>\n",
       "      <td>[1, ., 로그인, 화면, 에서, 자동, 로그인, 체크, 하고, 재로그인, 하면,...</td>\n",
       "      <td>[(1, Number), (., Punctuation), (로그인, Noun), (...</td>\n",
       "      <td>[(1, Number), (., Punctuation), (로그인, Noun), (...</td>\n",
       "    </tr>\n",
       "    <tr>\n",
       "      <th>2</th>\n",
       "      <td>LUIs sy park</td>\n",
       "      <td>2019년 9월 29일</td>\n",
       "      <td>5</td>\n",
       "      <td>1</td>\n",
       "      <td>너무 좋아요 . 정말 유용하게 잘 사용 하고있음 그런데 많은 자전거가 다 어디로 사...</td>\n",
       "      <td>[(너무, Adverb), (좋아요, Adjective), (., Punctuati...</td>\n",
       "      <td>[(너무, Adverb), (좋다, Adjective), (., Punctuatio...</td>\n",
       "      <td>[너무, 좋아요, ., 정말, 유용, 하게, 잘, 사용, 하고, 있음, 그런데, 많...</td>\n",
       "      <td>[(너무, Adverb), (좋아요, Adjective), (., Punctuati...</td>\n",
       "      <td>[(너무, Adverb), (좋아요, Adjective), (., Punctuati...</td>\n",
       "    </tr>\n",
       "  </tbody>\n",
       "</table>\n",
       "</div>"
      ],
      "text/plain": [
       "      user_name          date  rating  thumbs_up  \\\n",
       "0        hayeon  2019년 9월 29일       1         11   \n",
       "1           신아현  2019년 9월 23일       2          4   \n",
       "2  LUIs sy park  2019년 9월 29일       5          1   \n",
       "\n",
       "                                         review_text  \\\n",
       "0  뭐 누르기만 해도 앱이 계속 로그아웃되고 네이버로그인을 해봤자 어차피 여기 가입을 ...   \n",
       "1  1. 로그인 화면에서 자동 로그인 체크하고 재로그인하면 이상한 비빌번호 이 저장되서...   \n",
       "2  너무 좋아요 . 정말 유용하게 잘 사용 하고있음 그런데 많은 자전거가 다 어디로 사...   \n",
       "\n",
       "                                    twitter(no Stem)  \\\n",
       "0  [(뭐, Noun), (누르기, Noun), (만, Josa), (해도, Noun)...   \n",
       "1  [(1, Number), (., Punctuation), (로그인, Noun), (...   \n",
       "2  [(너무, Adverb), (좋아요, Adjective), (., Punctuati...   \n",
       "\n",
       "                                       twitter(Stem)  \\\n",
       "0  [(뭐, Noun), (누르기, Noun), (만, Josa), (해도, Noun)...   \n",
       "1  [(1, Number), (., Punctuation), (로그인, Noun), (...   \n",
       "2  [(너무, Adverb), (좋다, Adjective), (., Punctuatio...   \n",
       "\n",
       "                                    cutomizedTwitter  \\\n",
       "0  [뭐, 누르기, 만, 해도, 앱, 이, 계속, 로그아웃, 되고, 네이버, 로그인, ...   \n",
       "1  [1, ., 로그인, 화면, 에서, 자동, 로그인, 체크, 하고, 재로그인, 하면,...   \n",
       "2  [너무, 좋아요, ., 정말, 유용, 하게, 잘, 사용, 하고, 있음, 그런데, 많...   \n",
       "\n",
       "                           cutomizedTwitter(no Stem)  \\\n",
       "0  [(뭐, Noun), (누르기, Noun), (만, Josa), (해도, Noun)...   \n",
       "1  [(1, Number), (., Punctuation), (로그인, Noun), (...   \n",
       "2  [(너무, Adverb), (좋아요, Adjective), (., Punctuati...   \n",
       "\n",
       "                              cutomizedTwitter(Stem)  \n",
       "0  [(뭐, Noun), (누르기, Noun), (만, Josa), (해도, Noun)...  \n",
       "1  [(1, Number), (., Punctuation), (로그인, Noun), (...  \n",
       "2  [(너무, Adverb), (좋아요, Adjective), (., Punctuati...  "
      ]
     },
     "execution_count": 15,
     "metadata": {},
     "output_type": "execute_result"
    }
   ],
   "source": [
    "df.head(3)"
   ]
  },
  {
   "cell_type": "code",
   "execution_count": 18,
   "metadata": {},
   "outputs": [],
   "source": [
    "df.to_excel('2020_seoulbike/comparsion_twitter.xlsx')"
   ]
  },
  {
   "cell_type": "code",
   "execution_count": 22,
   "metadata": {},
   "outputs": [],
   "source": [
    "import pandas as pd\n",
    "\n",
    "df = pd.DataFrame.from_dict(n_counts, orient='index').reset_index()\n",
    "df = df.rename(columns={'index':'noun', 0:'count'})\n",
    "df=df.sort_values(by=['count'], axis=0, ascending=False)\n"
   ]
  },
  {
   "cell_type": "code",
   "execution_count": 23,
   "metadata": {},
   "outputs": [],
   "source": [
    "#엑셀로 저장\n",
    "df.to_excel(\"Yoon/sbike_google_noun.xlsx\")"
   ]
  },
  {
   "cell_type": "code",
   "execution_count": 18,
   "metadata": {},
   "outputs": [],
   "source": [
    "import pandas as pd\n",
    "df2 = pd.DataFrame.from_dict(counts_adj, orient='index').reset_index()\n",
    "df2 = df2.rename(columns={'index':'noun', 0:'count'})\n",
    "df2 = df2.sort_values(by=['count'], axis=0, ascending=False)\n",
    "df2.head()\n",
    "df2.to_excel('./google_adj_count.xlsx')"
   ]
  }
 ],
 "metadata": {
  "kernelspec": {
   "display_name": "Python 3",
   "language": "python",
   "name": "python3"
  },
  "language_info": {
   "codemirror_mode": {
    "name": "ipython",
    "version": 3
   },
   "file_extension": ".py",
   "mimetype": "text/x-python",
   "name": "python",
   "nbconvert_exporter": "python",
   "pygments_lexer": "ipython3",
   "version": "3.8.7"
  }
 },
 "nbformat": 4,
 "nbformat_minor": 4
}
