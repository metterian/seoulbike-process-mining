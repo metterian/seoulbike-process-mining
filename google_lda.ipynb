{
 "cells": [
  {
   "cell_type": "markdown",
   "metadata": {},
   "source": [
    "#### Preprocessing"
   ]
  },
  {
   "cell_type": "code",
   "execution_count": 9,
   "metadata": {},
   "outputs": [],
   "source": [
    "from ckonlpy.tag import Postprocessor #전처리 라이브러리\n",
    "from ckonlpy.tag import Twitter\n",
    "import warnings\n",
    "warnings.simplefilter(\"ignore\")\n",
    "\n",
    "ctwitter = Twitter()\n",
    "ctwitter.add_dictionary(['따릉이','자출',\n",
    "                       '대여소','연결거치','거치대','고객센터',\n",
    "                        '다시','퇴근시간','대여시간',\n",
    "                        '출근시간','한시간','두시간','임시폐쇄',\n",
    "                         '자동로그인','UX', '1일권', '일일권','가성비',\n",
    "                         '상담원','재로그인', '인증번호', '가입','렉', '랙','제로페이','결제','큐알코드','QR','뒤로가기',\n",
    "                         '대여번호''결제','결재','여러번','불편','개불편함','내세금','전반적', '지도화면',\n",
    "                        ], 'Noun')\n",
    "#조사\n",
    "ctwitter.add_dictionary(['까지','하냐'], 'Josa')\n",
    "#형용사\n",
    "ctwitter.add_dictionary(['레알','허접한','오지게' ,'어려워','안되', '열받','안됨', '안와' ,'참어렵네'], 'Adjective')\n",
    "#부사\n",
    "\n",
    "ctwitter.add_dictionary(['왜', '좀','진짜','최악' , '참'], 'Adverb', force=True)\n",
    "\n",
    "ctwitter.add_dictionary(['타고','요청드립니다','부탁드립니다',\n",
    "                         '요청 드립니다','부탁 드립니다','하기'],'Verb')\n",
    "\n",
    "#무의미한 형태소 및 단어 제거\n",
    "stopwords = {'수가','까지','드립','번','수','것', '앞','해주','왜',\n",
    "             '곳','떄','좀','어요','요','이','감사','이','그','고','제','쪽','더','후','시','거',\n",
    "'려고','적','저','데','등','역','중','해주시','내','면서','어서','때','뭐','못','마다','더니','해도','해도','다가','어가','개','하라','하나','걸'}\n",
    "\n",
    "\n",
    "#단어 대치\n",
    "replace = {'어플리케이션': '어플',\n",
    "           '앱': '어플',\n",
    "           '폐쇠':'페쇄',\n",
    "           '젛은':'좋은',\n",
    "           '연계':'연동',\n",
    "           '맵':'지도',\n",
    "           '인터페이스':'UI',\n",
    "           '유아이':'UI',\n",
    "           'ui': 'UI',\n",
    "           'T머니' : '티머니',\n",
    "           '렉':'오류',\n",
    "           '랙':'오류',\n",
    "           '가입': '회원가입',\n",
    "          '결재':'결제',\n",
    "           '버젼':'버전',\n",
    "           '고객 센터': '고객센터',\n",
    "           '에러': '오류',\n",
    "           '버그': '오류',\n",
    "           '업뎃':'업데이트' ,'업댓':'업데이트','업디이트':'업데이트','리뉴얼':'업데이트','개편':'업데이트','업그레이드':'업데이트',\n",
    "           '업데이틀':'업데이트',\n",
    "           '업글' :'업데이트',\n",
    "           '비번':'비밀번호',\n",
    "           '머지':'뭐지',\n",
    "           '자동 로그인':'자동로그인',\n",
    "           '딜레이':'지연',\n",
    "           '정거장': '대여소','정류장': '대여소','대여수': '대여소',\n",
    "           '큐알':'QR','qr':'QR','큐알코드':'QR',\n",
    "           '알코':'QR',\n",
    "           '리붓':'재부팅',\n",
    "           '튜토리얼':'이용설명',\n",
    "           '이용안내':'이용설명',\n",
    "           '안되요':'안돼요',\n",
    "           '카톡': '카카오톡',\n",
    "           '먹통' :'오류',\n",
    "           '제하': '결제',\n",
    "            '카카오': '카카오톡',\n",
    "            '카카오계정': '카카오톡',\n",
    "           ('안되고', 'Adjective'): '안되',\n",
    "           '않':'안되',\n",
    "           '마니':'많이',\n",
    "           '허다': '많다',\n",
    "           '안와': '안되',\n",
    "           '안': '안되',\n",
    "           '폰':'휴대폰',\n",
    "           '지도화면':'지도',\n",
    "           '안됨':'안되',\n",
    "           '팅김':'오류',\n",
    "           '장애':'오류',\n",
    "           '내세금':'세금',\n",
    "           '개불편함':'불편',\n",
    "           '연결거치': '연결'}\n",
    "\n",
    "postprocessor = Postprocessor(ctwitter, stopwords = stopwords,replace = replace)"
   ]
  },
  {
   "cell_type": "code",
   "execution_count": 14,
   "metadata": {},
   "outputs": [
    {
     "data": {
      "text/plain": [
       "[('않다', 'Verb'), ('좋다', 'Adjective')]"
      ]
     },
     "execution_count": 14,
     "metadata": {},
     "output_type": "execute_result"
    }
   ],
   "source": [
    "ctwitter.pos('않좋아요', stem=True)"
   ]
  },
  {
   "cell_type": "code",
   "execution_count": 15,
   "metadata": {},
   "outputs": [
    {
     "data": {
      "text/plain": [
       "[('않다', 'Verb'), ('좋다', 'Adjective')]"
      ]
     },
     "execution_count": 15,
     "metadata": {},
     "output_type": "execute_result"
    }
   ],
   "source": [
    "ctwitter.pos('않좋은데', stem=True)"
   ]
  },
  {
   "cell_type": "markdown",
   "metadata": {},
   "source": [
    "#### 형태소 분석을 진행함"
   ]
  },
  {
   "cell_type": "code",
   "execution_count": 3,
   "metadata": {},
   "outputs": [],
   "source": [
    "def do_twitter(text):\n",
    "    sentences_tag = []\n",
    "    for sentence in text:\n",
    "        morph = postprocessor.pos(sentence)\n",
    "        sentences_tag.append(morph)\n",
    "    return sentences_tag"
   ]
  },
  {
   "cell_type": "code",
   "execution_count": 4,
   "metadata": {},
   "outputs": [],
   "source": [
    "def stop_wording(sentences_tag):\n",
    "    token = []\n",
    "    token_set={}\n",
    "    token_table=[]\n",
    "    cnt = 0\n",
    "    for row in sentences_tag:\n",
    "        token=[]\n",
    "\n",
    "        for word,tag in row:\n",
    "\n",
    "            if tag in 'Noun':\n",
    "                token.append(word)\n",
    "            elif tag in 'Adjective':\n",
    "                token.append(word)\n",
    "            elif tag in 'Adverv':\n",
    "                token.append(word)\n",
    "\n",
    "\n",
    "        token_table.append(token)\n",
    "    return token_table"
   ]
  },
  {
   "cell_type": "markdown",
   "metadata": {},
   "source": [
    "### 분석처리를 위한 파일 합병 엑셀화"
   ]
  },
  {
   "cell_type": "code",
   "execution_count": 1,
   "metadata": {},
   "outputs": [],
   "source": [
    "import pandas as pd\n",
    "df = pd.read_csv('sbike_google_sept.csv')\n",
    "text = df['review_text']"
   ]
  },
  {
   "cell_type": "code",
   "execution_count": 2,
   "metadata": {},
   "outputs": [],
   "source": [
    "import pandas as pd\n",
    "df = pd.read_excel('google_preprocessed.xlsx')\n",
    "text = df['review_text']\n",
    "\n"
   ]
  },
  {
   "cell_type": "code",
   "execution_count": 7,
   "metadata": {},
   "outputs": [],
   "source": [
    "df_text = do_twitter(text)\n",
    "b = stop_wording(df_text)\n"
   ]
  },
  {
   "cell_type": "code",
   "execution_count": 8,
   "metadata": {},
   "outputs": [
    {
     "ename": "NameError",
     "evalue": "name 'concat_df' is not defined",
     "output_type": "error",
     "traceback": [
      "\u001b[0;31m---------------------------------------------------------------------------\u001b[0m",
      "\u001b[0;31mNameError\u001b[0m                                 Traceback (most recent call last)",
      "\u001b[0;32m<ipython-input-8-c2b2f8f6d8e9>\u001b[0m in \u001b[0;36m<module>\u001b[0;34m\u001b[0m\n\u001b[1;32m      1\u001b[0m \u001b[0ma\u001b[0m \u001b[0;34m=\u001b[0m \u001b[0;34m[\u001b[0m\u001b[0;34m]\u001b[0m\u001b[0;34m\u001b[0m\u001b[0;34m\u001b[0m\u001b[0m\n\u001b[0;32m----> 2\u001b[0;31m \u001b[0;32mfor\u001b[0m \u001b[0mrow\u001b[0m \u001b[0;32min\u001b[0m \u001b[0mconcat_df\u001b[0m\u001b[0;34m[\u001b[0m\u001b[0;34m'tokenized'\u001b[0m\u001b[0;34m]\u001b[0m\u001b[0;34m:\u001b[0m\u001b[0;34m\u001b[0m\u001b[0;34m\u001b[0m\u001b[0m\n\u001b[0m\u001b[1;32m      3\u001b[0m     \u001b[0ma\u001b[0m\u001b[0;34m.\u001b[0m\u001b[0mappend\u001b[0m\u001b[0;34m(\u001b[0m\u001b[0mlist\u001b[0m\u001b[0;34m(\u001b[0m\u001b[0mrow\u001b[0m\u001b[0;34m)\u001b[0m\u001b[0;34m)\u001b[0m\u001b[0;34m\u001b[0m\u001b[0;34m\u001b[0m\u001b[0m\n",
      "\u001b[0;31mNameError\u001b[0m: name 'concat_df' is not defined"
     ]
    }
   ],
   "source": [
    "a = []\n",
    "for row in concat_df['tokenized']:\n",
    "    a.append(list(row))\n"
   ]
  },
  {
   "cell_type": "code",
   "execution_count": 10,
   "metadata": {},
   "outputs": [
    {
     "data": {
      "text/plain": [
       "['갤럭시', '지도', '확인', '부탁']"
      ]
     },
     "execution_count": 10,
     "metadata": {},
     "output_type": "execute_result"
    }
   ],
   "source": [
    "b[50]"
   ]
  },
  {
   "cell_type": "code",
   "execution_count": 9,
   "metadata": {},
   "outputs": [],
   "source": [
    "from gensim import corpora\n",
    "\n",
    "dictionary  = corpora.Dictionary(b)\n",
    "corpus = [dictionary.doc2bow(text) for text in b ]\n"
   ]
  },
  {
   "cell_type": "code",
   "execution_count": 56,
   "metadata": {},
   "outputs": [
    {
     "data": {
      "text/plain": [
       "[(0,\n",
       "  '0.023*\"어플\" + 0.019*\"진짜\" + 0.014*\"최악\" + 0.013*\"로딩\" + 0.013*\"그냥\" + 0.011*\"사용\" + 0.010*\"불편\" + 0.007*\"제대로\" + 0.006*\"안되\" + 0.006*\"돈\"'),\n",
       " (1,\n",
       "  '0.030*\"어플\" + 0.020*\"오류\" + 0.016*\"결제\" + 0.013*\"안되\" + 0.012*\"쓰레기\" + 0.010*\"따릉이\" + 0.009*\"다시\" + 0.008*\"업데이트\" + 0.008*\"시간\" + 0.008*\"지도\"'),\n",
       " (2,\n",
       "  '0.039*\"어플\" + 0.032*\"안되\" + 0.020*\"결제\" + 0.019*\"업데이트\" + 0.017*\"따릉이\" + 0.016*\"지도\" + 0.014*\"사용\" + 0.012*\"대여소\" + 0.012*\"오류\" + 0.009*\"불편\"'),\n",
       " (3,\n",
       "  '0.048*\"어플\" + 0.038*\"로그인\" + 0.021*\"안되\" + 0.016*\"결제\" + 0.014*\"오류\" + 0.013*\"자전거\" + 0.013*\"최악\" + 0.011*\"진짜\" + 0.009*\"카카오톡\" + 0.009*\"불편\"'),\n",
       " (4,\n",
       "  '0.057*\"어플\" + 0.018*\"안되\" + 0.017*\"오류\" + 0.015*\"자전거\" + 0.012*\"업데이트\" + 0.012*\"대여\" + 0.011*\"버전\" + 0.010*\"지도\" + 0.009*\"따릉이\" + 0.008*\"결제\"'),\n",
       " (5,\n",
       "  '0.026*\"어플\" + 0.026*\"회원\" + 0.019*\"회원가입\" + 0.018*\"안되\" + 0.016*\"자전거\" + 0.013*\"따릉이\" + 0.010*\"로그인\" + 0.009*\"비밀번호\" + 0.009*\"이용\" + 0.009*\"정말\"'),\n",
       " (6,\n",
       "  '0.022*\"안되\" + 0.018*\"대여\" + 0.018*\"어플\" + 0.016*\"지도\" + 0.014*\"대여소\" + 0.012*\"자전거\" + 0.011*\"결제\" + 0.010*\"비밀번호\" + 0.009*\"오류\" + 0.008*\"업데이트\"')]"
      ]
     },
     "execution_count": 56,
     "metadata": {},
     "output_type": "execute_result"
    }
   ],
   "source": [
    "#따릉이 어플 리뷰 전반적\n",
    "import gensim\n",
    "lda = gensim.models.ldamodel.LdaModel(corpus=corpus, id2word=dictionary, num_topics=7, alpha='auto', \n",
    "                                      update_every=1, chunksize=20000, passes=10)\n",
    "lda.print_topics()"
   ]
  },
  {
   "cell_type": "code",
   "execution_count": 57,
   "metadata": {},
   "outputs": [
    {
     "name": "stdout",
     "output_type": "stream",
     "text": [
      "\n",
      "Perplexity:  -7.3276142666133754\n",
      "\n",
      "Coherence Score:  0.39175704106359943\n"
     ]
    }
   ],
   "source": [
    "from gensim.models.coherencemodel import CoherenceModel\n",
    "# Compute Perplexity\n",
    "print('\\nPerplexity: ', lda.log_perplexity(corpus)) # a measure of how good the model is. lower the better.\n",
    " \n",
    "# Compute Coherence Score\n",
    "coherence_model_lda = CoherenceModel(model=lda, texts=b, dictionary=dictionary, coherence='c_v')\n",
    "coherence_lda = coherence_model_lda.get_coherence()\n",
    "print('\\nCoherence Score: ', coherence_lda)"
   ]
  },
  {
   "cell_type": "code",
   "execution_count": null,
   "metadata": {},
   "outputs": [],
   "source": []
  },
  {
   "cell_type": "code",
   "execution_count": 58,
   "metadata": {},
   "outputs": [
    {
     "data": {
      "text/plain": [
       "[(0,\n",
       "  '0.023*\"어플\" + 0.019*\"진짜\" + 0.014*\"최악\" + 0.013*\"로딩\" + 0.013*\"그냥\" + 0.011*\"사용\" + 0.010*\"불편\" + 0.007*\"제대로\" + 0.006*\"안되\" + 0.006*\"돈\"'),\n",
       " (1,\n",
       "  '0.030*\"어플\" + 0.020*\"오류\" + 0.016*\"결제\" + 0.013*\"안되\" + 0.012*\"쓰레기\" + 0.010*\"따릉이\" + 0.009*\"다시\" + 0.008*\"업데이트\" + 0.008*\"시간\" + 0.008*\"지도\"'),\n",
       " (2,\n",
       "  '0.039*\"어플\" + 0.032*\"안되\" + 0.020*\"결제\" + 0.019*\"업데이트\" + 0.017*\"따릉이\" + 0.016*\"지도\" + 0.014*\"사용\" + 0.012*\"대여소\" + 0.012*\"오류\" + 0.009*\"불편\"'),\n",
       " (3,\n",
       "  '0.048*\"어플\" + 0.038*\"로그인\" + 0.021*\"안되\" + 0.016*\"결제\" + 0.014*\"오류\" + 0.013*\"자전거\" + 0.013*\"최악\" + 0.011*\"진짜\" + 0.009*\"카카오톡\" + 0.009*\"불편\"'),\n",
       " (4,\n",
       "  '0.057*\"어플\" + 0.018*\"안되\" + 0.017*\"오류\" + 0.015*\"자전거\" + 0.012*\"업데이트\" + 0.012*\"대여\" + 0.011*\"버전\" + 0.010*\"지도\" + 0.009*\"따릉이\" + 0.008*\"결제\"'),\n",
       " (5,\n",
       "  '0.026*\"어플\" + 0.026*\"회원\" + 0.019*\"회원가입\" + 0.018*\"안되\" + 0.016*\"자전거\" + 0.013*\"따릉이\" + 0.010*\"로그인\" + 0.009*\"비밀번호\" + 0.009*\"이용\" + 0.009*\"정말\"'),\n",
       " (6,\n",
       "  '0.022*\"안되\" + 0.018*\"대여\" + 0.018*\"어플\" + 0.016*\"지도\" + 0.014*\"대여소\" + 0.012*\"자전거\" + 0.011*\"결제\" + 0.010*\"비밀번호\" + 0.009*\"오류\" + 0.008*\"업데이트\"')]"
      ]
     },
     "execution_count": 58,
     "metadata": {},
     "output_type": "execute_result"
    }
   ],
   "source": [
    "#구글 플레이 스토어 7개 토픽 모델링 저장\n",
    "from gensim.test.utils import datapath\n",
    "\n",
    "temp_file = 'LDA/google_num7'\n",
    "lda.save(temp_file)\n",
    "\n",
    "lda_google7 = gensim.models.ldamodel.LdaModel.load(temp_file)\n",
    "lda_google7.print_topics()"
   ]
  },
  {
   "cell_type": "code",
   "execution_count": 49,
   "metadata": {},
   "outputs": [
    {
     "ename": "TypeError",
     "evalue": "get_document_topics() missing 1 required positional argument: 'bow'",
     "output_type": "error",
     "traceback": [
      "\u001b[0;31m---------------------------------------------------------------------------\u001b[0m",
      "\u001b[0;31mTypeError\u001b[0m                                 Traceback (most recent call last)",
      "\u001b[0;32m<ipython-input-49-fafe2c36217e>\u001b[0m in \u001b[0;36m<module>\u001b[0;34m\u001b[0m\n\u001b[0;32m----> 1\u001b[0;31m \u001b[0mlda_google7\u001b[0m\u001b[0;34m.\u001b[0m\u001b[0mget_document_topics\u001b[0m\u001b[0;34m(\u001b[0m\u001b[0;34m)\u001b[0m\u001b[0;34m\u001b[0m\u001b[0;34m\u001b[0m\u001b[0m\n\u001b[0m",
      "\u001b[0;31mTypeError\u001b[0m: get_document_topics() missing 1 required positional argument: 'bow'"
     ]
    }
   ],
   "source": [
    "lda_google7."
   ]
  },
  {
   "cell_type": "code",
   "execution_count": 175,
   "metadata": {},
   "outputs": [],
   "source": [
    "for d in b:\n",
    "    bow = dictionary.doc2bow(d)\n",
    "    t = lda.get_document_topics(bow)\n",
    "  "
   ]
  },
  {
   "cell_type": "code",
   "execution_count": 176,
   "metadata": {},
   "outputs": [
    {
     "data": {
      "text/plain": [
       "[(0, 0.023274003),\n",
       " (1, 0.022734564),\n",
       " (2, 0.90867907),\n",
       " (3, 0.022542713),\n",
       " (4, 0.0227696)]"
      ]
     },
     "execution_count": 176,
     "metadata": {},
     "output_type": "execute_result"
    }
   ],
   "source": [
    "t"
   ]
  },
  {
   "cell_type": "code",
   "execution_count": 181,
   "metadata": {},
   "outputs": [],
   "source": [
    "import numpy as np\n",
    "topics_terms = lda.state.get_lambda()\n",
    "topics_terms_proba = np.apply_along_axis(lambda x: x/x.sum(),1,topics_terms)\n",
    "probality=[]\n",
    "for i in range(5):\n",
    "    \n",
    "    probality.append(topics_terms[i].sum()/topics_terms.sum())"
   ]
  },
  {
   "cell_type": "code",
   "execution_count": 182,
   "metadata": {},
   "outputs": [],
   "source": [
    "topics = lda.print_topics()\n",
    "def get_topics(topic):\n",
    "    listed = topic.split('+')\n",
    "    topics=[]\n",
    "    for i in listed:\n",
    "        topics.append(i[i.index('*')+1:].replace('\"', '').rstrip())\n",
    "    \n",
    "    return topics\n"
   ]
  },
  {
   "cell_type": "code",
   "execution_count": 192,
   "metadata": {},
   "outputs": [],
   "source": [
    "\n",
    "def get_topics_number(topic):\n",
    "    listed = topic.split('+')\n",
    "    topics=[]\n",
    "    for i in listed:\n",
    "        topics.append(i[:i.index('*')].replace('\"', '').rstrip())\n",
    "    \n",
    "    return topics\n"
   ]
  },
  {
   "cell_type": "code",
   "execution_count": 188,
   "metadata": {},
   "outputs": [
    {
     "data": {
      "text/plain": [
       "[['어플', '오류', '결제', '따릉이', '이용', '지도', '업데이트', '안되', '최악', '자전거'],\n",
       " ['어플', '안되', '로그인', '업데이트', '자전거', '결제', '불편', '따릉이', '오류', '로딩'],\n",
       " ['어플', '로그인', '회원가입', '안되', '회원', '비밀번호', '다시', '자전거', '결제', '업데이트'],\n",
       " ['안되', '어플', '대여', '자전거', '오류', '진짜', '최악', '대여소', '지도', '검색'],\n",
       " ['어플', '결제', '사용', '안되', '오류', '대여소', '지도', '따릉이', '시간', '자전거']]"
      ]
     },
     "execution_count": 188,
     "metadata": {},
     "output_type": "execute_result"
    }
   ],
   "source": [
    "topics_list=[]\n",
    "\n",
    "for i in topics:\n",
    "    topics_list.append(get_topics(i[1]))\n",
    "topics_list"
   ]
  },
  {
   "cell_type": "code",
   "execution_count": 202,
   "metadata": {},
   "outputs": [],
   "source": [
    "topics_num_list=[]\n",
    "\n",
    "for i in topics:\n",
    "    topics_num_list.append(get_topics_number(i[1]))\n",
    "pd.DataFrame(topics_num_list).to_excel('Yoon/google_lda_num.xlsx')"
   ]
  },
  {
   "cell_type": "code",
   "execution_count": 184,
   "metadata": {},
   "outputs": [],
   "source": [
    "import pandas as pd\n",
    "pd.DataFrame(topics_list).append(probality).to_excel('Yoon/google_lda_refined.xlsx')"
   ]
  },
  {
   "cell_type": "markdown",
   "metadata": {},
   "source": [
    "### 부정적 점수를 준 리뷰"
   ]
  },
  {
   "cell_type": "code",
   "execution_count": 416,
   "metadata": {},
   "outputs": [],
   "source": [
    "df = pd.read_csv('sbike_google_sept.csv')\n",
    "bad_reviews = df[df['rating']<3]['review_text']"
   ]
  },
  {
   "cell_type": "code",
   "execution_count": 418,
   "metadata": {},
   "outputs": [],
   "source": [
    "sentence_tag =do_twitter(bad_reviews)"
   ]
  },
  {
   "cell_type": "code",
   "execution_count": 419,
   "metadata": {},
   "outputs": [],
   "source": [
    "bad_tokenized = stop_wording(sentence_tag)"
   ]
  },
  {
   "cell_type": "code",
   "execution_count": 421,
   "metadata": {},
   "outputs": [
    {
     "data": {
      "text/plain": [
       "[(0,\n",
       "  '0.037*\"어플\" + 0.022*\"결제\" + 0.021*\"안되\" + 0.017*\"대여\" + 0.016*\"자전거\" + 0.013*\"오류\" + 0.010*\"사용\" + 0.010*\"불편\" + 0.009*\"대여소\" + 0.009*\"따릉이\"'),\n",
       " (1,\n",
       "  '0.062*\"어플\" + 0.023*\"안되\" + 0.014*\"오류\" + 0.014*\"결제\" + 0.012*\"로그인\" + 0.011*\"따릉이\" + 0.010*\"회원가입\" + 0.010*\"회원\" + 0.010*\"업데이트\" + 0.009*\"자전거\"'),\n",
       " (2,\n",
       "  '0.034*\"어플\" + 0.027*\"로그인\" + 0.025*\"안되\" + 0.021*\"지도\" + 0.012*\"오류\" + 0.011*\"최악\" + 0.009*\"대여소\" + 0.009*\"진짜\" + 0.008*\"검색\" + 0.008*\"결제\"'),\n",
       " (3,\n",
       "  '0.032*\"어플\" + 0.018*\"안되\" + 0.016*\"쓰레기\" + 0.013*\"결제\" + 0.012*\"진짜\" + 0.010*\"오류\" + 0.009*\"로딩\" + 0.009*\"계속\" + 0.009*\"최악\" + 0.007*\"정말\"'),\n",
       " (4,\n",
       "  '0.041*\"업데이트\" + 0.020*\"안되\" + 0.014*\"지도\" + 0.014*\"대여소\" + 0.013*\"자전거\" + 0.011*\"어플\" + 0.010*\"버전\" + 0.009*\"최악\" + 0.008*\"돈\" + 0.008*\"오류\"')]"
      ]
     },
     "execution_count": 421,
     "metadata": {},
     "output_type": "execute_result"
    }
   ],
   "source": [
    "dictionary  = corpora.Dictionary(bad_tokenized)\n",
    "corpus = [dictionary.doc2bow(text) for text in bad_tokenized ]\n",
    "lda = gensim.models.ldamodel.LdaModel(corpus=corpus, id2word=dictionary, num_topics=5, update_every=1, chunksize=10000, passes=20)\n",
    "lda.print_topics()"
   ]
  },
  {
   "cell_type": "markdown",
   "metadata": {},
   "source": [
    "## 시민의견수렴 게시판"
   ]
  },
  {
   "cell_type": "code",
   "execution_count": 431,
   "metadata": {},
   "outputs": [],
   "source": [
    "df = pd.read_excel('Seoulbike_complain.xlsx')\n",
    "\n",
    "text = df['content']\n",
    "\n"
   ]
  },
  {
   "cell_type": "code",
   "execution_count": 438,
   "metadata": {},
   "outputs": [],
   "source": [
    "str_text = []\n",
    "for row in text:\n",
    "    str_text.append(str(row))"
   ]
  },
  {
   "cell_type": "code",
   "execution_count": 439,
   "metadata": {},
   "outputs": [],
   "source": [
    "sentence_tag =do_twitter(str_text)"
   ]
  },
  {
   "cell_type": "code",
   "execution_count": 440,
   "metadata": {},
   "outputs": [],
   "source": [
    "citizen_tokenized = stop_wording(sentence_tag)"
   ]
  },
  {
   "cell_type": "code",
   "execution_count": 443,
   "metadata": {},
   "outputs": [
    {
     "data": {
      "text/plain": [
       "[(0,\n",
       "  '0.038*\"답변\" + 0.025*\"설치\" + 0.021*\"언제\" + 0.014*\"글\" + 0.013*\"문의\" + 0.013*\"공지\" + 0.010*\"이용\" + 0.010*\"가능\" + 0.009*\"대여소\" + 0.009*\"장애\"'),\n",
       " (1,\n",
       "  '0.054*\"반납\" + 0.028*\"대여\" + 0.028*\"자전거\" + 0.021*\"시간\" + 0.020*\"안되\" + 0.018*\"결제\" + 0.014*\"처리\" + 0.012*\"이용\" + 0.011*\"연결\" + 0.010*\"추가\"'),\n",
       " (2,\n",
       "  '0.057*\"자전거\" + 0.019*\"따릉이\" + 0.016*\"고장\" + 0.011*\"이용\" + 0.008*\"생각\" + 0.008*\"있는\" + 0.008*\"신고\" + 0.007*\"입니다\" + 0.007*\"경우\" + 0.006*\"있\"'),\n",
       " (3,\n",
       "  '0.017*\"자전거\" + 0.015*\"고장\" + 0.015*\"대여\" + 0.014*\"안되\" + 0.014*\"신고\" + 0.010*\"로그인\" + 0.010*\"반납\" + 0.009*\"어플\" + 0.009*\"이용\" + 0.008*\"번호\"'),\n",
       " (4,\n",
       "  '0.014*\"화면\" + 0.012*\"비밀번호\" + 0.011*\"표시\" + 0.011*\"지도\" + 0.011*\"버튼\" + 0.010*\"대여소\" + 0.008*\"비공개\" + 0.008*\"위치\" + 0.007*\"안되\" + 0.007*\"글\"'),\n",
       " (5,\n",
       "  '0.033*\"따릉이\" + 0.015*\"거치대\" + 0.013*\"대여소\" + 0.011*\"시간\" + 0.010*\"한강\" + 0.009*\"공원\" + 0.008*\"설치\" + 0.008*\"이용\" + 0.007*\"질문\" + 0.007*\"거리\"'),\n",
       " (6,\n",
       "  '0.036*\"안장\" + 0.025*\"따릉이\" + 0.021*\"단\" + 0.020*\"높이\" + 0.017*\"자전거\" + 0.011*\"마일리지\" + 0.011*\"이용\" + 0.011*\"무릎\" + 0.010*\"환승\" + 0.010*\"키\"'),\n",
       " (7,\n",
       "  '0.030*\"어플\" + 0.018*\"이용\" + 0.017*\"따릉이\" + 0.016*\"대여\" + 0.014*\"사용\" + 0.012*\"지도\" + 0.012*\"대여소\" + 0.011*\"카드\" + 0.010*\"안되\" + 0.010*\"등록\"'),\n",
       " (8,\n",
       "  '0.058*\"대여소\" + 0.050*\"설치\" + 0.023*\"따릉이\" + 0.013*\"사거리\" + 0.010*\"주변\" + 0.009*\"주민\" + 0.009*\"부탁\" + 0.008*\"센터\" + 0.008*\"근처\" + 0.007*\"아파트\"'),\n",
       " (9,\n",
       "  '0.031*\"대여소\" + 0.030*\"따릉이\" + 0.028*\"자전거\" + 0.025*\"이용\" + 0.024*\"설치\" + 0.011*\"입니다\" + 0.009*\"근처\" + 0.008*\"출구\" + 0.007*\"아파트\" + 0.007*\"있습니다\"')]"
      ]
     },
     "execution_count": 443,
     "metadata": {},
     "output_type": "execute_result"
    }
   ],
   "source": [
    "dictionary  = corpora.Dictionary(citizen_tokenized)\n",
    "corpus = [dictionary.doc2bow(text) for text in citizen_tokenized ]\n",
    "lda = gensim.models.ldamodel.LdaModel(corpus=corpus, id2word=dictionary, num_topics=10, update_every=1, chunksize=10000, passes=20)\n",
    "lda.print_topics()"
   ]
  },
  {
   "cell_type": "code",
   "execution_count": 444,
   "metadata": {},
   "outputs": [],
   "source": [
    "lda_result = lda.print_topics()"
   ]
  },
  {
   "cell_type": "code",
   "execution_count": 458,
   "metadata": {},
   "outputs": [
    {
     "data": {
      "text/plain": [
       "['0.054*\"반납\" + 0.028*\"대여\" + 0.028*\"자전거\" + 0.021*\"시간\" + 0.020*\"안되\" + 0.018*\"결제\" + 0.014*\"처리\" + 0.012*\"이용\" + 0.011*\"연결\" + 0.010*\"추가\"']"
      ]
     },
     "execution_count": 458,
     "metadata": {},
     "output_type": "execute_result"
    }
   ],
   "source": [
    "list(lda_result[1])[1:]"
   ]
  },
  {
   "cell_type": "code",
   "execution_count": null,
   "metadata": {},
   "outputs": [],
   "source": []
  },
  {
   "cell_type": "code",
   "execution_count": null,
   "metadata": {},
   "outputs": [],
   "source": []
  },
  {
   "cell_type": "code",
   "execution_count": null,
   "metadata": {},
   "outputs": [],
   "source": []
  },
  {
   "cell_type": "code",
   "execution_count": null,
   "metadata": {},
   "outputs": [],
   "source": []
  },
  {
   "cell_type": "code",
   "execution_count": 27,
   "metadata": {},
   "outputs": [
    {
     "name": "stdout",
     "output_type": "stream",
     "text": [
      "[('할', 191), ('잘', 154), ('들', 119), ('건지', 115), ('하는', 115), ('합니다', 107), ('했는데', 96), ('하면', 78), ('하게', 70), ('되고', 68), ('하기', 68), ('만든', 65), ('뜨고', 62), ('하는데', 59), ('가', 52), ('넘', 50), ('않고', 48), ('하네요', 48), ('참', 48), ('까', 46), ('쓰', 44), ('만들', 44), ('쓸', 42), ('했', 42), ('된', 40), ('서', 39), ('한', 39), ('들이', 38), ('하지', 37), ('되', 35), ('되는', 33), ('해야', 32), ('되는데', 32), ('하세요', 32), ('되지', 31), ('됨', 28), ('대', 27), ('되서', 26), ('떠서', 26), ('만들어', 25), ('지', 25), ('써', 23), ('누르면', 22), ('않아', 22), ('빌릴', 22), ('않음', 21), ('고쳐주세요', 21), ('나서', 21), ('돼요', 20), ('했습니다', 20), ('는', 19), ('됩니다', 19), ('들은', 19), ('되면', 18), ('오고', 18), ('돼서', 18), ('뜨', 18), ('받고', 18), ('하네', 17), ('않네요', 17), ('나오고', 17), ('되네요', 17), ('쳐', 17), ('쓰고', 17), ('째', 16), ('드려요', 16), ('빌리는데', 16), ('하다', 16), ('걸리고', 16), ('만드는', 16), ('찾', 16), ('깔', 15), ('내고', 15), ('하려', 15), ('할수', 15), ('하는거', 15), ('눌러도', 14), ('걸림', 14), ('날리고', 14), ('할거면', 14), ('쓰는', 14), ('와', 14), ('먹고', 14), ('빌', 14), ('찾는', 14), ('않아요', 13), ('긴', 13), ('주고', 13), ('봅니다', 13), ('놓고', 12), ('겁니다', 12), ('마세요', 12), ('찾을', 12), ('모르겠', 12), ('만들고', 12), ('되어', 12), ('뜨네요', 12), ('들어', 11), ('만들었냐', 11), ('싶', 11)]\n"
     ]
    }
   ],
   "source": [
    "verb_list = []\n",
    "for sentence in sentences_tag:\n",
    "    for word, tag in sentence:\n",
    "        if tag in ['Verb']:\n",
    "            \n",
    "            verb_list.append(word)\n",
    "            \n",
    "len(adj_list)\n",
    "counts_adj = Counter(verb_list)\n",
    "print(counts_adj.most_common(100))"
   ]
  },
  {
   "cell_type": "code",
   "execution_count": 17,
   "metadata": {},
   "outputs": [
    {
     "name": "stdout",
     "output_type": "stream",
     "text": [
      "[('안되고', 116), ('어떻게', 87), ('입니다', 86), ('있', 77), ('안됨', 71), ('좋아요', 57), ('이런', 53), ('있는', 50), ('좋은데', 48), ('같은', 43), ('좋은', 43), ('없', 43), ('안되서', 39), ('없는', 37), ('없고', 37), ('같아요', 35), ('안되네요', 35), ('없음', 34), ('없네요', 34), ('많고', 34), ('같습니다', 31), ('새로', 29), ('있습니다', 29), ('아닌', 27), ('느리고', 27), ('있는데', 26), ('느려', 25), ('많은', 22), ('안되요', 22), ('안되는', 22), ('좋', 21), ('없다', 20), ('있는지', 20), ('좋겠습니다', 19), ('안됩니다', 17), ('없다고', 16), ('좋겠', 15), ('있고', 14), ('아깝다', 14), ('같네요', 14), ('있게', 14), ('어떤', 14), ('있음', 13), ('굉장히', 13), ('있으면', 13), ('느려요', 13), ('이럴거면', 13), ('이런거', 12), ('많음', 12), ('아까', 12), ('안된다', 12), ('있다', 12), ('좋겠네요', 12), ('없습니다', 11), ('많', 11), ('없네', 11), ('느려서', 11), ('많아요', 10), ('같음', 10), ('없어', 10), ('안되는데', 10), ('많습니다', 10), ('같다', 9), ('좋습니다', 9), ('있다고', 9), ('안되나요', 9), ('없는데', 9), ('안되', 9), ('좋으나', 9), ('같', 9), ('많아서', 9), ('같은데', 9), ('없게', 9), ('있는거', 8), ('없으면', 8), ('어렵고', 8), ('빠른', 8), ('안되면', 8), ('편하게', 8), ('있네요', 8), ('느림', 8), ('답답하네요', 8), ('그런', 7), ('좋네요', 7), ('안되네', 7), ('안되는거', 7), ('아닌데', 7), ('많은데', 7), ('아까워요', 7), ('느린', 7), ('안되죠', 7), ('안된다고', 7), ('어려워', 6), ('좋겠다', 6), ('좋을거', 6), ('먼', 6), ('같은거', 6), ('안되니', 6), ('아닙니다', 6), ('빠르게', 6)]\n"
     ]
    }
   ],
   "source": [
    "counts_adj = Counter(adj_list)\n",
    "print(counts_adj.most_common(100))"
   ]
  },
  {
   "cell_type": "code",
   "execution_count": 18,
   "metadata": {},
   "outputs": [],
   "source": [
    "import pandas as pd\n",
    "df = pd.DataFrame(counts_adj.most_common(100))\n",
    "df.to_excel('Yoon/s_bike_google_adj.xlsx')"
   ]
  },
  {
   "cell_type": "markdown",
   "metadata": {},
   "source": [
    "#### 명사 추출후 상위 10개 항목 정렬"
   ]
  },
  {
   "cell_type": "code",
   "execution_count": 19,
   "metadata": {},
   "outputs": [
    {
     "name": "stdout",
     "output_type": "stream",
     "text": [
      "[('앱', 785), ('어플', 338), ('결제', 329), ('로그인', 317), ('자전거', 316), ('따릉이', 275), ('지도', 245), ('대여', 234), ('좀', 227), ('왜', 221), ('오류', 216), ('사용', 208), ('업데이트', 200), ('진짜', 192), ('이용', 185), ('요', 179), ('불편', 169), ('안', 168), ('최악', 165), ('대여소', 160), ('시간', 158), ('어요', 156), ('거', 154), ('때', 152), ('다시', 148), ('로딩', 129), ('뭐', 126), ('회원', 125), ('돈', 121), ('이', 119)]\n"
     ]
    }
   ],
   "source": [
    "noun_list = []\n",
    "for sentence in sentences_tag:\n",
    "    for word, tag in sentence:\n",
    "        if tag in ['Noun']:\n",
    "            noun_list.append(word)\n",
    "n_counts = Counter(noun_list)\n",
    "\n",
    "print(n_counts.most_common(30))"
   ]
  },
  {
   "cell_type": "code",
   "execution_count": 22,
   "metadata": {},
   "outputs": [],
   "source": [
    "import pandas as pd\n",
    "\n",
    "df = pd.DataFrame.from_dict(n_counts, orient='index').reset_index()\n",
    "df = df.rename(columns={'index':'noun', 0:'count'})\n",
    "df=df.sort_values(by=['count'], axis=0, ascending=False)\n"
   ]
  },
  {
   "cell_type": "code",
   "execution_count": 23,
   "metadata": {},
   "outputs": [],
   "source": [
    "#엑셀로 저장\n",
    "df.to_excel(\"Yoon/sbike_google_noun.xlsx\")"
   ]
  },
  {
   "cell_type": "code",
   "execution_count": 18,
   "metadata": {},
   "outputs": [],
   "source": [
    "import pandas as pd\n",
    "df2 = pd.DataFrame.from_dict(counts_adj, orient='index').reset_index()\n",
    "df2 = df2.rename(columns={'index':'noun', 0:'count'})\n",
    "df2 = df2.sort_values(by=['count'], axis=0, ascending=False)\n",
    "df2.head()\n",
    "df2.to_excel('./google_adj_count.xlsx')"
   ]
  }
 ],
 "metadata": {
  "kernelspec": {
   "display_name": "Python 3",
   "language": "python",
   "name": "python3"
  },
  "language_info": {
   "codemirror_mode": {
    "name": "ipython",
    "version": 3
   },
   "file_extension": ".py",
   "mimetype": "text/x-python",
   "name": "python",
   "nbconvert_exporter": "python",
   "pygments_lexer": "ipython3",
   "version": "3.7.3"
  }
 },
 "nbformat": 4,
 "nbformat_minor": 2
}
