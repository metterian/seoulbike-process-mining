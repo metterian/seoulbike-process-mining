{
 "cells": [
  {
   "cell_type": "code",
   "execution_count": 1,
   "metadata": {},
   "outputs": [
    {
     "data": {
      "text/html": [
       "<div>\n",
       "<style scoped>\n",
       "    .dataframe tbody tr th:only-of-type {\n",
       "        vertical-align: middle;\n",
       "    }\n",
       "\n",
       "    .dataframe tbody tr th {\n",
       "        vertical-align: top;\n",
       "    }\n",
       "\n",
       "    .dataframe thead th {\n",
       "        text-align: right;\n",
       "    }\n",
       "</style>\n",
       "<table border=\"1\" class=\"dataframe\">\n",
       "  <thead>\n",
       "    <tr style=\"text-align: right;\">\n",
       "      <th></th>\n",
       "      <th>user_name</th>\n",
       "      <th>date</th>\n",
       "      <th>rating</th>\n",
       "      <th>thumbs_up</th>\n",
       "      <th>review_text</th>\n",
       "    </tr>\n",
       "  </thead>\n",
       "  <tbody>\n",
       "    <tr>\n",
       "      <th>0</th>\n",
       "      <td>hayeon</td>\n",
       "      <td>2019년 9월 29일</td>\n",
       "      <td>1</td>\n",
       "      <td>11</td>\n",
       "      <td>뭐 누르기만 해도 앱이 계속 로그아웃되고 네이버로그인을 해봤자 어차피 여기 가입을 ...</td>\n",
       "    </tr>\n",
       "    <tr>\n",
       "      <th>1</th>\n",
       "      <td>신아현</td>\n",
       "      <td>2019년 9월 23일</td>\n",
       "      <td>2</td>\n",
       "      <td>4</td>\n",
       "      <td>1. 로그인 화면에서 자동 로그인 체크하고 재로그인하면 이상한 비빌번호 이 저장되서...</td>\n",
       "    </tr>\n",
       "    <tr>\n",
       "      <th>2</th>\n",
       "      <td>LUIs sy park</td>\n",
       "      <td>2019년 9월 29일</td>\n",
       "      <td>5</td>\n",
       "      <td>1</td>\n",
       "      <td>너무 좋아요 . 정말 유용하게 잘 사용 하고있음 그런데 많은 자전거가 다 어디로 사...</td>\n",
       "    </tr>\n",
       "  </tbody>\n",
       "</table>\n",
       "</div>"
      ],
      "text/plain": [
       "      user_name          date  rating  thumbs_up  \\\n",
       "0        hayeon  2019년 9월 29일       1         11   \n",
       "1           신아현  2019년 9월 23일       2          4   \n",
       "2  LUIs sy park  2019년 9월 29일       5          1   \n",
       "\n",
       "                                         review_text  \n",
       "0  뭐 누르기만 해도 앱이 계속 로그아웃되고 네이버로그인을 해봤자 어차피 여기 가입을 ...  \n",
       "1  1. 로그인 화면에서 자동 로그인 체크하고 재로그인하면 이상한 비빌번호 이 저장되서...  \n",
       "2  너무 좋아요 . 정말 유용하게 잘 사용 하고있음 그런데 많은 자전거가 다 어디로 사...  "
      ]
     },
     "execution_count": 1,
     "metadata": {},
     "output_type": "execute_result"
    }
   ],
   "source": [
    "from collections import Counter\n",
    "import pandas as pd\n",
    "import numpy as np\n",
    "\n",
    "\n",
    "df = pd.read_csv('sbike_google_sept copy.csv').drop('Unnamed: 0', axis=1)\n",
    "\n",
    "reviews = df['review_text']\n",
    "df.head(3)"
   ]
  },
  {
   "cell_type": "code",
   "execution_count": 2,
   "metadata": {},
   "outputs": [
    {
     "data": {
      "text/plain": [
       "1938"
      ]
     },
     "execution_count": 2,
     "metadata": {},
     "output_type": "execute_result"
    }
   ],
   "source": [
    "len(reviews)"
   ]
  },
  {
   "cell_type": "code",
   "execution_count": 3,
   "metadata": {},
   "outputs": [],
   "source": [
    "def makeTagging(text_list):\n",
    "    tag_list=[]\n",
    "    for sentence in text_list:\n",
    "        morph = mecab.pos(sentence)\n",
    "        tag_list.append(morph)\n",
    "    return tag_list\n",
    "\n",
    "def makeMorph(text_list):\n",
    "    morph_list=[]\n",
    "    for sentence in text_list:\n",
    "        morph = mecab.morphs(sentence)\n",
    "        morph_list.append(morph)\n",
    "    return morph_list\n"
   ]
  },
  {
   "cell_type": "code",
   "execution_count": 4,
   "metadata": {},
   "outputs": [],
   "source": [
    "def stop_wording(sentences_tag):\n",
    "    token = []\n",
    "    token_set={}\n",
    "    token_table=[]\n",
    "    cnt = 0\n",
    "    for row in sentences_tag:\n",
    "        token=[]\n",
    "\n",
    "        for word,tag in row:\n",
    "\n",
    "            if tag in 'NNP':\n",
    "                token.append(word)\n",
    "            elif tag in 'NNG':\n",
    "                token.append(word)\n",
    "            elif tag in 'VV':\n",
    "                token.append(word)\n",
    "            elif tag in 'VA':\n",
    "                            token.append(word)\n",
    "\n",
    "     \n",
    "\n",
    "            elif tag in 'VCP':\n",
    "                            token.append(word)\n",
    "\n",
    "            elif tag in 'VCN':\n",
    "                            token.append(word)\n",
    "            elif tag in 'MAG':\n",
    "                            token.append(word)\n",
    "            \n",
    "\n",
    "\n",
    "\n",
    "        token_table.append(token)\n",
    "    return token_table"
   ]
  },
  {
   "cell_type": "markdown",
   "metadata": {},
   "source": [
    "### Preprocessing"
   ]
  },
  {
   "cell_type": "code",
   "execution_count": 1,
   "metadata": {},
   "outputs": [
    {
     "name": "stderr",
     "output_type": "stream",
     "text": [
      "/anaconda3/lib/python3.7/site-packages/konlpy/tag/_okt.py:16: UserWarning: \"Twitter\" has changed to \"Okt\" since KoNLPy v0.4.5.\n",
      "  warn('\"Twitter\" has changed to \"Okt\" since KoNLPy v0.4.5.')\n"
     ]
    }
   ],
   "source": [
    "from konlpy.tag import Mecab\n",
    "from konlpy.tag import Twitter\n",
    "mecab = Mecab()\n",
    "twitter = Twitter()\n",
    "import warnings"
   ]
  },
  {
   "cell_type": "code",
   "execution_count": 19,
   "metadata": {},
   "outputs": [
    {
     "data": {
      "text/plain": [
       "[('안되다', 'Adjective')]"
      ]
     },
     "execution_count": 19,
     "metadata": {},
     "output_type": "execute_result"
    }
   ],
   "source": [
    "twitter.pos('안되는데',stem=True)"
   ]
  },
  {
   "cell_type": "markdown",
   "metadata": {},
   "source": [
    "### SL cheking \n",
    "SL means 외국어"
   ]
  },
  {
   "cell_type": "code",
   "execution_count": 11,
   "metadata": {},
   "outputs": [
    {
     "data": {
      "text/plain": [
       "[('안', 'MAG'), ('좋', 'VA'), ('아요', 'EC')]"
      ]
     },
     "execution_count": 11,
     "metadata": {},
     "output_type": "execute_result"
    }
   ],
   "source": [
    "mecab.pos('안좋아요', flatten=True)"
   ]
  },
  {
   "cell_type": "code",
   "execution_count": 12,
   "metadata": {},
   "outputs": [
    {
     "data": {
      "text/plain": [
       "[('따릉이', 'NNP'), ('너무', 'MAG'), ('않', 'NNG'), ('좋', 'VA'), ('습니다', 'EF')]"
      ]
     },
     "execution_count": 12,
     "metadata": {},
     "output_type": "execute_result"
    }
   ],
   "source": [
    "mecab.pos('따릉이 너무 않좋습니다', flatten=True)"
   ]
  },
  {
   "cell_type": "code",
   "execution_count": 14,
   "metadata": {},
   "outputs": [
    {
     "data": {
      "text/plain": [
       "[[('따릉이', 'NNP')], [('너무', 'MAG')], [('않', 'NNG'), ('좋', 'VA'), ('습니다', 'EF')]]"
      ]
     },
     "execution_count": 14,
     "metadata": {},
     "output_type": "execute_result"
    }
   ],
   "source": [
    "mecab.pos('따릉이 너무 않좋습니다', flatten=False)"
   ]
  },
  {
   "cell_type": "code",
   "execution_count": 62,
   "metadata": {},
   "outputs": [],
   "source": [
    "tagged_list = makeTagging(reviews)"
   ]
  },
  {
   "cell_type": "code",
   "execution_count": 7,
   "metadata": {},
   "outputs": [],
   "source": [
    "SL_list = []\n",
    "for sentence in tagged_list:\n",
    "    for word, tag in sentence:\n",
    "        if tag in ['SL']:\n",
    "            SL_list.append(word)"
   ]
  },
  {
   "cell_type": "code",
   "execution_count": 36,
   "metadata": {},
   "outputs": [
    {
     "name": "stdout",
     "output_type": "stream",
     "text": [
      "['SNS', 'd', 's', 'API', 'SNS', 's', 'QR', 'ok', 'ok', 's', 'ui', 'SNS', 's', 'IT', 'ui', 'QR', 'QR', 'sns', 'gps', 'sns', 'x', 'UI', 'UI', 'UI', 'UX', 'UI', 'UX', 'UI', 'UI', 'UI', 'UI', 'UI', 'UX', 'SNS', 'UI', 'qr', 'QR', 'UI', 'UX', 'UI', 'UX', 'x', 'ui', 'ux', 'C', 'BA', 'K', 'UI', 'UI', 'QR', 'v', 'skt', 'UX', 'sns', 'u', 'bike', 'qr', 'T', 'gps', 'sns', 'QR', 'SNS', 'ux', 'Sns', 'QR', 'QR', 'QR', 'UI', 'QR', 'QR', 'UI', 'gps', 'UX', 'history', 'Qa', 'UI', 'of', 'x', 'gps', 'gps', 'KTX', 'api', 'gps', 'ux', 'QR', 'qr', 'QR', 'd', 'gps', 'qr', 'QR', 'qr', 'gps', 'gps', 'QR', 'G', 'qr', 'UI', 'UI', 'UI', 'GPS', 'gps', 'UI', 'qr', 'qr', 'QR', 'IT', 'QR', 'GPS', 'GPS', 's', 'ux', 'qr', 'GPS', 'QR', 'QA', 'x', 'OAuth', 'QR', 'qr', 'GPS', 'QR', 'sns', 'QR', 'QR', 'qr', 'gps', 'qr', 'UI', 's', 'kt', 'IT', 'ux', 'api', 'UI', 'UX', 'UI', 'QA', 'gps', 'gps', 'pm', 'S', 'LTE', 'c', 'QR', 'g', 'gps', 's', 's', 'Web', 'QR', 'OPEN', 'API', 'GPS', 'QR', 'G', 'G', 'G', 'gps', 'G', 'APP', 'App', 'app', 'Ui', 'AppCompatActivity', 'app', 'ui', 'ui', 'X', 'XX', 'App', 's', 'API', 'UX', 'l', 'g', 'g', 'g', 'gps', 'ISP', 'NYmP', 'Js', 'g', 'gps', 'QR', 'ux', 'PG', 'Ux', 'UI', 'UX', 'isp', 'QR', 'qr', 'UI', 'UX', 'UI', 'GPS', 'G', 'GPS', 'LTE', 'LGU', 'QR', 'ux', 'avast', 's', 'C', 'Veryjood', 'km', 'app', 'QR', 's', 'QR', 'PC', 'ui', 'ip', 'QR', 'qr', 's']\n"
     ]
    }
   ],
   "source": [
    "print(SL_list)"
   ]
  },
  {
   "cell_type": "code",
   "execution_count": 37,
   "metadata": {},
   "outputs": [
    {
     "name": "stdout",
     "output_type": "stream",
     "text": [
      "Counter({'QR': 45, 'UI': 34, 'GPS': 25, 'UX': 19, 'S': 13, 'SNS': 11, 'G': 11, 'APP': 6, 'API': 5, 'X': 5, 'IT': 3, 'C': 3, 'QA': 3, 'D': 2, 'OK': 2, 'LTE': 2, 'ISP': 2, 'BA': 1, 'K': 1, 'V': 1, 'SKT': 1, 'U': 1, 'BIKE': 1, 'T': 1, 'HISTORY': 1, 'OF': 1, 'KTX': 1, 'OAUTH': 1, 'KT': 1, 'PM': 1, 'WEB': 1, 'OPEN': 1, 'APPCOMPATACTIVITY': 1, 'XX': 1, 'L': 1, 'NYMP': 1, 'JS': 1, 'PG': 1, 'LGU': 1, 'AVAST': 1, 'VERYJOOD': 1, 'KM': 1, 'PC': 1, 'IP': 1})\n"
     ]
    }
   ],
   "source": [
    "upper_SL_list = []\n",
    "for word in SL_list:\n",
    "    upper_word = word.upper()\n",
    "    upper_SL_list.append(upper_word)\n",
    "print(Counter(upper_SL_list))\n",
    "    "
   ]
  },
  {
   "cell_type": "markdown",
   "metadata": {},
   "source": [
    "딕셔너리 추가 : { SNS, UX, gps, ISP} \n",
    "대치어: {app, QR}\n",
    "\n",
    "unknwon: {s, T,G,g, d,} 등 무의미한 partial elements 제거함.\n",
    "\n",
    "빈도수를 통해 확인해 본 결과 10번 이상의 단어들만 사용함.\n",
    "{'QR': 34, 'UI': 33, 'GPS': 25, 'UX': 19, 'S': 13, 'SNS': 11, 'G': 11,}\n",
    "G의 경우 휴대폰 기종을 나타탬으로 삭제함."
   ]
  },
  {
   "cell_type": "markdown",
   "metadata": {},
   "source": [
    "mecab.pos('T머니')\n",
    "-> [('T', 'SL'), ('머니', 'NNG')]\n",
    "#티머니-> 사전추가\n",
    "#이외 알페벳은 휴대폰 기종 및 관련 없음"
   ]
  },
  {
   "cell_type": "code",
   "execution_count": 165,
   "metadata": {},
   "outputs": [],
   "source": [
    "# 외국어를 대문자화 함., 모든 튜플을 리스트로 변환함\n",
    "SL_num = []\n",
    "for sentence in range(len(tagged_list)):\n",
    "    for word, tag in tagged_list[sentence]:\n",
    "        if tag in ['SL']:\n",
    "            SL_num.append(sentence)\n",
    "for sentence in SL_num:\n",
    "    for words in range(len(tagged_list[sentence])):\n",
    "        tagged_list[sentence][words] = list(tagged_list[sentence][words])\n",
    "        if tagged_list[sentence][words][1] in ['SL']:\n",
    "            \n",
    "            \n",
    "            tagged_list[sentence][words][0] = tagged_list[sentence][words][0].upper()\n",
    "            \n",
    "#         tagged_list[sentence][words] = tuple(tagged_list[sentence][words])"
   ]
  },
  {
   "cell_type": "markdown",
   "metadata": {},
   "source": [
    "### POS 형태소 분석기 문제"
   ]
  },
  {
   "cell_type": "code",
   "execution_count": 9,
   "metadata": {},
   "outputs": [
    {
     "data": {
      "text/plain": [
       "[('여기', 'NP'), ('가', 'JKS'), ('입', 'NNG'), ('을', 'JKO'), ('해야', 'VV+EC')]"
      ]
     },
     "execution_count": 9,
     "metadata": {},
     "output_type": "execute_result"
    }
   ],
   "source": [
    "mecab.pos('여기 가입을 해야')"
   ]
  },
  {
   "cell_type": "raw",
   "metadata": {},
   "source": [
    "'가입'이 pos 되지 않는 문제"
   ]
  },
  {
   "cell_type": "code",
   "execution_count": 81,
   "metadata": {},
   "outputs": [
    {
     "data": {
      "text/plain": [
       "('가', 'JKS', '입', 'NNG')"
      ]
     },
     "execution_count": 81,
     "metadata": {},
     "output_type": "execute_result"
    }
   ],
   "source": [
    "mecab.pos('여기 가입을 해야')[1]+mecab.pos('여기 가입을 해야')[2]"
   ]
  },
  {
   "cell_type": "code",
   "execution_count": 207,
   "metadata": {},
   "outputs": [],
   "source": [
    "# register_pos = mecab.pos('여기 가입을 해야')\n",
    "# register_word= mecab.pos('여기 가입을 해야')[1]+mecab.pos('여기 가입을 해야')[2]\n",
    "\n",
    "# for pos in range(len(register_pos)-1):\n",
    "#     if (register_pos[pos]+register_pos[pos+1]) == register_word:\n",
    "#         del_num = pos\n",
    "# del register_pos[del_num]\n",
    "# del register_pos[del_num]\n",
    "# register_pos.insert(del_num, ['가입', 'NNG'])\n",
    "             "
   ]
  },
  {
   "cell_type": "code",
   "execution_count": 166,
   "metadata": {},
   "outputs": [],
   "source": [
    "def posToWord(word1,word2, posList):\n",
    "    replaceWord = (word1) +(word2)\n",
    "\n",
    "    word_num = []\n",
    "    for tag in range(len(posList)-1):\n",
    "        if (posList[tag]+ posList[tag+1]) == replaceWord:\n",
    "            del posList[tag]\n",
    "            del posList[tag]\n",
    "            posList.insert(tag, [word1[0]+word2[0], 'NNG'])\n",
    "            return posList"
   ]
  },
  {
   "cell_type": "code",
   "execution_count": 42,
   "metadata": {},
   "outputs": [],
   "source": [
    "for pos in tagged_list:\n",
    "    pos = posToWord(('가', 'JKS'), ('입', 'NNG'), pos)"
   ]
  },
  {
   "cell_type": "code",
   "execution_count": 43,
   "metadata": {},
   "outputs": [
    {
     "data": {
      "text/plain": [
       "[('버벅', 'MAG')]"
      ]
     },
     "execution_count": 43,
     "metadata": {},
     "output_type": "execute_result"
    }
   ],
   "source": [
    "mecab.pos('버벅')"
   ]
  },
  {
   "cell_type": "code",
   "execution_count": 15,
   "metadata": {},
   "outputs": [
    {
     "data": {
      "text/plain": [
       "[('느림', 'NNG')]"
      ]
     },
     "execution_count": 15,
     "metadata": {},
     "output_type": "execute_result"
    }
   ],
   "source": [
    "mecab.pos('느림')"
   ]
  },
  {
   "cell_type": "code",
   "execution_count": 17,
   "metadata": {},
   "outputs": [
    {
     "data": {
      "text/plain": [
       "[('느려', 'VA+EC')]"
      ]
     },
     "execution_count": 17,
     "metadata": {},
     "output_type": "execute_result"
    }
   ],
   "source": [
    "mecab.pos('느려')"
   ]
  },
  {
   "cell_type": "code",
   "execution_count": 68,
   "metadata": {},
   "outputs": [
    {
     "data": {
      "text/plain": [
       "[('안', 'MAG'), ('됨', 'VV+ETN')]"
      ]
     },
     "execution_count": 68,
     "metadata": {},
     "output_type": "execute_result"
    }
   ],
   "source": [
    "mecab.pos('안됨')"
   ]
  },
  {
   "cell_type": "code",
   "execution_count": 19,
   "metadata": {},
   "outputs": [],
   "source": [
    "def POSsearch(tags, POSList ):\n",
    "    nouns= []\n",
    "    for pos in tags:\n",
    "        for word, tag in pos:\n",
    "            if tag in POSList:\n",
    "                nouns.append(word)\n",
    "    return nouns"
   ]
  },
  {
   "cell_type": "code",
   "execution_count": 20,
   "metadata": {},
   "outputs": [],
   "source": [
    "nouns= []\n",
    "for pos in tagged_list:\n",
    "    for word, tag in pos:\n",
    "        if tag in ['NNG',  'NNP',  ]:\n",
    "            nouns.append(word)\n",
    "        "
   ]
  },
  {
   "cell_type": "markdown",
   "metadata": {},
   "source": [
    "### 대치어 추가\n"
   ]
  },
  {
   "cell_type": "markdown",
   "metadata": {},
   "source": [
    "대치어\n",
    "\n",
    "버벅: 20개, -> 렉\n",
    "렉: 29개,\n",
    "\n",
    "\n",
    "\n",
    "먹통: 42개 -> 오류\n",
    "\n"
   ]
  },
  {
   "cell_type": "markdown",
   "metadata": {},
   "source": [
    "#단어 대치\n",
    "replace = {'어플리케이션', '어플', -> 앱\n",
    "           '인터페이스':'UI',\n",
    "           'ui': 'UI',\n",
    "           'T머니' : '티머니',\n",
    "           '렉':'오류',\n",
    "           '먹통' :'오류',\n",
    "           ###'랙':'오류',\n",
    "           '가입': '회원가입',\n",
    "          '결재':'결제',\n",
    "           ###'버젼':'버전',\n",
    "           ##'고객 센터': '고객센터',\n",
    "           #######'에러': '오류',\n",
    "           ######'버그': '오류',\n",
    "           ######'업뎃':'업데이트' ,'업댓':'업데이트','업디이트':'업데이트','리뉴얼':'업데이트','개편':'업데이트','업그레이드':'업데이트',\n",
    "           '업데이틀':'업데이트',\n",
    "           #####'업글' :'업데이트',\n",
    "           #####'비번':'비밀번호',\n",
    "           '자동 로그인':'자동로그인',\n",
    "           '딜레이':'지연',\n",
    "           ###'큐알':'QR','qr':'QR','큐알코드':'QR',\n",
    "           ##'알코':'QR',\n",
    "           '이용안내':'이용설명',\n",
    "           '안되요':'안돼요',\n",
    "           '카톡, 카카오톡' -> 카카오\n",
    "           '안와': '안되',}"
   ]
  },
  {
   "cell_type": "code",
   "execution_count": 21,
   "metadata": {},
   "outputs": [
    {
     "name": "stdout",
     "output_type": "stream",
     "text": [
      "['앱', '입', '때', '밤', '곳', '날', '김', '일', '개', '홈', '애', '갯', '수', '답', '후', '짐', '창', '색', '남', '뜸', '굿', '돈', '화', '길', '병', '맛', '시', '말', '부', '전', '속', '바', '앞', '달', '폰', '매', '짓', 'ㄴ', '갇', '픽', '첨', '별', '끝', '집', '짱', '문', '힘', '형', '헬', '월', '밑', '요', '느', '엿', '마', '티', '발', '릉', '진', '공', '웹', '뷰', '백', '법', '컴', '업', '원', '람', '익', '플', '뒤', '급', '글', '손', '빛', '침', 'ㅈ', 'ㄷ', 'ㅁ', '배', '듬', '한', '안', '욕', '꼴', '리', '붓', '과', '틀', '탓', '밥', '눈', '인', '모', '평', '암', '쌍', '켜', '절', '물', '차', '복', '불', '렉', '결', '극', '노', 'ㄱ', '명', '키', '위', '철', '퐁', '사', '팀', 'ㅅ', '폴', '질', '강', '탑', '점', '대', '권', '탐', '다', '쇠', '당', '참', '젖', '비', '역', '빽', '신', '않', '지', '핵', '똥', '톡', '옴', '히', '씹', '돌', '조', '검', '씨', 'ㅣ', '끼', '중', '딩', '맘', '기', '옆', '핏', '독', '겉', '효', '면', '값', '책', '벌', '야', '열', '반', '붕', '굳', '잠', '젝', '봄', '맵', '쇼', '훠', '맷', '처', '런', '메', '깜', '웰', '싹', '박', '실', '견', '예', '콤', '보', '압', '여', '췌', '겨', '빵', '칼', '퇴', '풀', '셔', '빅', '쳐', '능', '럭', 'ㅂ', '닭', '닌', '간', '줌', '팝', '언', '항', '꿈', '섬', '웅', '감', '띠', '디', '천', '룽', '닝', '임', '장', '엡', '럽', '숨', '볼', '상', '미', '쯩', '멀', '징', '토', '욜', '띄', '금', '삿', '왠', '라', '얼', '님', '밖', '도', '삶', '정', '쥬', '만', '단', '콜', '아', '먹', '튀', '템', '고', '새', '테', '딥', '종', '구', '젭', '성', '잔', '근', '뇌', '운', '넹', '동', '랫', '내', '추', '돝', '딸', '왜', '퀼', '피', '샘', '잭', '텀', '블', '편', '휴', '젓', '겻', '멜', '해', '꿀', '획', '소', '브', '탠', '츠', '게', '옹', '럼', '뉴', '외', '션', '힙', '씩', '렴', '긴', '유', '륵', '샤']\n"
     ]
    }
   ],
   "source": [
    "noun_list = list(Counter(nouns))\n",
    "oneByte_nounList=[]\n",
    "for c_noun in noun_list:\n",
    "    if 1 == len(c_noun):\n",
    "        oneByte_nounList.append(c_noun)\n",
    "print(oneByte_nounList)"
   ]
  },
  {
   "cell_type": "code",
   "execution_count": null,
   "metadata": {},
   "outputs": [],
   "source": [
    "mean_noun = ['앱','밤','욕','돈','']"
   ]
  },
  {
   "cell_type": "code",
   "execution_count": 76,
   "metadata": {},
   "outputs": [
    {
     "data": {
      "text/plain": [
       "[('안', 'MAG'), ('되', 'VV'), ('요', 'EC')]"
      ]
     },
     "execution_count": 76,
     "metadata": {},
     "output_type": "execute_result"
    }
   ],
   "source": [
    "mecab.pos('안되요')"
   ]
  },
  {
   "cell_type": "code",
   "execution_count": 78,
   "metadata": {},
   "outputs": [],
   "source": [
    "# print(Counter(POSsearch(['NNP', 'NNG', 'NP', 'VA', 'VCP', 'VCN','MAG','IC'])))"
   ]
  },
  {
   "cell_type": "markdown",
   "metadata": {},
   "source": [
    "## Grouping {1~3: Bad}, {4~5: Good}\n"
   ]
  },
  {
   "cell_type": "markdown",
   "metadata": {},
   "source": [
    "별점순으로 그룹핑을 하기전 3점대의 리뷰를 분석할 필요가 있음.\n",
    "3점대에 주로 좋은 형용사가 있는지 부정형용사가 있는지"
   ]
  },
  {
   "cell_type": "code",
   "execution_count": 13,
   "metadata": {},
   "outputs": [],
   "source": [
    "rating_03 = df[df['rating']==3][['review_text']]\n",
    "rating_03.to_excel('3points_reviews.xlsx')"
   ]
  },
  {
   "cell_type": "code",
   "execution_count": 9,
   "metadata": {},
   "outputs": [
    {
     "data": {
      "text/plain": [
       "107"
      ]
     },
     "execution_count": 9,
     "metadata": {},
     "output_type": "execute_result"
    }
   ],
   "source": [
    "len(rating_03)"
   ]
  },
  {
   "cell_type": "code",
   "execution_count": 45,
   "metadata": {},
   "outputs": [
    {
     "data": {
      "text/plain": [
       "['안녕', '하', '세요']"
      ]
     },
     "execution_count": 45,
     "metadata": {},
     "output_type": "execute_result"
    }
   ],
   "source": [
    "mecab.morphs('안녕하세요')"
   ]
  },
  {
   "cell_type": "code",
   "execution_count": 179,
   "metadata": {},
   "outputs": [
    {
     "name": "stdout",
     "output_type": "stream",
     "text": [
      "Counter({'안': 41, '좋': 35, '너무': 25, '좀': 21, '없': 19, '이': 15, '잘': 15, '같': 13, '더': 11, '많': 10, '다시': 9, '있': 8, '왜': 7, '다': 7, '아니': 7, '매번': 6, '계속': 6, '제대로': 6, '못': 6, '오늘': 6, '정말': 5, '일단': 4, '작': 4, '바로': 4, '지금': 4, '제발': 3, '매일': 3, '아쉽': 3, '가끔': 3, '넘': 3, '어떻게': 3, '많이': 3, '전부': 3, '느리': 3, '아예': 3, '아': 3, '참': 3, '자꾸': 2, '새로': 2, '아직': 2, '귀찮': 2, '분명': 2, '또': 2, '전혀': 2, '나': 2, '엄청': 2, '분명히': 2, '진짜': 2, '그대로': 2, '쫌': 2, '자주': 2, '항상': 2, '그만': 2, '그냥': 2, '요새': 2, '오래': 2, '매우': 2, '하얗': 2, '어떻': 2, 'ㅋㅋ': 2, '길': 2, '텅텅': 1, '단지': 1, '종종': 1, '꼭': 1, '제일': 1, '막상': 1, '젊': 1, '잘못': 1, '푸': 1, '쉬': 1, '미리': 1, '왔다갔다': 1, '그지': 1, '여전히': 1, '편하': 1, '확': 1, '아주': 1, '어제': 1, '요즘': 1, '맨날': 1, '없이': 1, '가량': 1, '심하': 1, '대충': 1, '아깝': 1, 'ㅎㅎ': 1, '번거롭': 1, '완전': 1, '상당히': 1, '무겁': 1, '잦': 1, '케': 1, '아무렇': 1, 'ㅋ': 1, '그렇게': 1, '딱': 1, '차라리': 1, '힘들': 1, '터무니없': 1, '저렇게': 1, '원래': 1, '방금': 1, '거': 1, '아무리': 1, '빨리': 1, '결국': 1, '어렵': 1, '뭐': 1, '잠깐': 1, '이렇': 1, '자세히': 1, '여태': 1, '네': 1, '갑자기': 1, '함께': 1, '일일이': 1, '직접': 1, '싫': 1, '하상': 1, '현재': 1, '크': 1, '짧': 1, '거의': 1, '잠시': 1, '우선': 1, '좌르르': 1, '똑같이': 1, '적': 1})\n"
     ]
    }
   ],
   "source": [
    "tagged_rating03 = makeTagging(rating_03)\n",
    "\n",
    "print(Counter(POSsearch(tagged_rating03,[ 'VA', 'VCP', 'VCN','MAG','IC'])))"
   ]
  },
  {
   "cell_type": "markdown",
   "metadata": {},
   "source": [
    "#### 안': 41 의 갯수와 '좋': 35 갯수가 비슷하지만 리뷰의 내용들을 읽어본 결과 전반적인 내용이 부정 리뷰로 나타나\n",
    "#### 팀원들과 상의 후 부정으로 분류함."
   ]
  },
  {
   "cell_type": "code",
   "execution_count": 15,
   "metadata": {},
   "outputs": [
    {
     "data": {
      "text/html": [
       "<div>\n",
       "<style scoped>\n",
       "    .dataframe tbody tr th:only-of-type {\n",
       "        vertical-align: middle;\n",
       "    }\n",
       "\n",
       "    .dataframe tbody tr th {\n",
       "        vertical-align: top;\n",
       "    }\n",
       "\n",
       "    .dataframe thead th {\n",
       "        text-align: right;\n",
       "    }\n",
       "</style>\n",
       "<table border=\"1\" class=\"dataframe\">\n",
       "  <thead>\n",
       "    <tr style=\"text-align: right;\">\n",
       "      <th></th>\n",
       "      <th>user_name</th>\n",
       "      <th>date</th>\n",
       "      <th>rating</th>\n",
       "      <th>thumbs_up</th>\n",
       "      <th>review_text</th>\n",
       "      <th>sentimental</th>\n",
       "    </tr>\n",
       "  </thead>\n",
       "  <tbody>\n",
       "    <tr>\n",
       "      <th>0</th>\n",
       "      <td>hayeon</td>\n",
       "      <td>2019년 9월 29일</td>\n",
       "      <td>1</td>\n",
       "      <td>11</td>\n",
       "      <td>뭐 누르기만 해도 앱이 계속 로그아웃되고 네이버로그인을 해봤자 어차피 여기 가입을 ...</td>\n",
       "      <td>bad</td>\n",
       "    </tr>\n",
       "    <tr>\n",
       "      <th>1</th>\n",
       "      <td>신아현</td>\n",
       "      <td>2019년 9월 23일</td>\n",
       "      <td>2</td>\n",
       "      <td>4</td>\n",
       "      <td>1. 로그인 화면에서 자동 로그인 체크하고 재로그인하면 이상한 비빌번호 이 저장되서...</td>\n",
       "      <td>bad</td>\n",
       "    </tr>\n",
       "    <tr>\n",
       "      <th>2</th>\n",
       "      <td>Luis sy park</td>\n",
       "      <td>2019년 9월 29일</td>\n",
       "      <td>5</td>\n",
       "      <td>1</td>\n",
       "      <td>너무 좋아요 . 정말 유용하게 잘 사용 하고있음 그런데 많은 자전거가 다 어디로 사...</td>\n",
       "      <td>good</td>\n",
       "    </tr>\n",
       "  </tbody>\n",
       "</table>\n",
       "</div>"
      ],
      "text/plain": [
       "      user_name          date  rating  thumbs_up  \\\n",
       "0        hayeon  2019년 9월 29일       1         11   \n",
       "1           신아현  2019년 9월 23일       2          4   \n",
       "2  Luis sy park  2019년 9월 29일       5          1   \n",
       "\n",
       "                                         review_text sentimental  \n",
       "0  뭐 누르기만 해도 앱이 계속 로그아웃되고 네이버로그인을 해봤자 어차피 여기 가입을 ...         bad  \n",
       "1  1. 로그인 화면에서 자동 로그인 체크하고 재로그인하면 이상한 비빌번호 이 저장되서...         bad  \n",
       "2  너무 좋아요 . 정말 유용하게 잘 사용 하고있음 그런데 많은 자전거가 다 어디로 사...        good  "
      ]
     },
     "execution_count": 15,
     "metadata": {},
     "output_type": "execute_result"
    }
   ],
   "source": [
    "#1~3 부정,    4~5점 긍정\n",
    "conditions = [\n",
    "    (df['rating'] > 3),\n",
    "    (df['rating'] <= 3),\n",
    "]\n",
    "choices = ['good','bad']\n",
    "\n",
    "df['sentimental'] = np.select(conditions, choices, default='null')\n",
    "df.head(3)"
   ]
  },
  {
   "cell_type": "code",
   "execution_count": 44,
   "metadata": {},
   "outputs": [
    {
     "name": "stdout",
     "output_type": "stream",
     "text": [
      "217 1721\n"
     ]
    }
   ],
   "source": [
    "good_group = df[df['sentimental']=='good']['review_text']\n",
    "bad_group = df[df['sentimental']=='bad']['review_text']\n",
    "\n",
    "print(len(good_group), len(bad_group))\n",
    "\n"
   ]
  },
  {
   "cell_type": "code",
   "execution_count": 23,
   "metadata": {},
   "outputs": [],
   "source": [
    "good_sentences_tag = makeTagging(good_group)\n"
   ]
  },
  {
   "cell_type": "code",
   "execution_count": 31,
   "metadata": {},
   "outputs": [
    {
     "data": {
      "text/html": [
       "<div>\n",
       "<style scoped>\n",
       "    .dataframe tbody tr th:only-of-type {\n",
       "        vertical-align: middle;\n",
       "    }\n",
       "\n",
       "    .dataframe tbody tr th {\n",
       "        vertical-align: top;\n",
       "    }\n",
       "\n",
       "    .dataframe thead th {\n",
       "        text-align: right;\n",
       "    }\n",
       "</style>\n",
       "<table border=\"1\" class=\"dataframe\">\n",
       "  <thead>\n",
       "    <tr style=\"text-align: right;\">\n",
       "      <th></th>\n",
       "      <th>words</th>\n",
       "      <th>count</th>\n",
       "    </tr>\n",
       "  </thead>\n",
       "  <tbody>\n",
       "    <tr>\n",
       "      <th>0</th>\n",
       "      <td>좋</td>\n",
       "      <td>149</td>\n",
       "    </tr>\n",
       "    <tr>\n",
       "      <th>1</th>\n",
       "      <td>잘</td>\n",
       "      <td>51</td>\n",
       "    </tr>\n",
       "    <tr>\n",
       "      <th>2</th>\n",
       "      <td>안</td>\n",
       "      <td>35</td>\n",
       "    </tr>\n",
       "    <tr>\n",
       "      <th>3</th>\n",
       "      <td>좀</td>\n",
       "      <td>34</td>\n",
       "    </tr>\n",
       "    <tr>\n",
       "      <th>4</th>\n",
       "      <td>같</td>\n",
       "      <td>34</td>\n",
       "    </tr>\n",
       "  </tbody>\n",
       "</table>\n",
       "</div>"
      ],
      "text/plain": [
       "  words  count\n",
       "0     좋    149\n",
       "1     잘     51\n",
       "2     안     35\n",
       "3     좀     34\n",
       "4     같     34"
      ]
     },
     "execution_count": 31,
     "metadata": {},
     "output_type": "execute_result"
    }
   ],
   "source": [
    "good_adj_list = POSsearch(good_sentences_tag,[ 'VA', 'VCP', 'VCN','MAG','IC'] )\n",
    "            \n",
    "counts_good_adj = Counter(good_adj_list)\n",
    "good_df = pd.DataFrame(counts_good_adj.most_common(100))\n",
    "good_df =good_df.rename(columns={0:'words', 1:'count'})\n",
    "good_df.head()"
   ]
  },
  {
   "cell_type": "code",
   "execution_count": 32,
   "metadata": {},
   "outputs": [],
   "source": [
    "good_noun_list = POSsearch(good_sentences_tag, ['NNP', 'NNG', 'NP', ])\n",
    "            \n",
    "counts_noun_adj = Counter(good_noun_list)\n",
    "noun_df = pd.DataFrame(counts_noun_adj.most_common(100))\n",
    "noun_df =noun_df.rename(columns={0:'words', 1:'count'})\n",
    "\n",
    "good_df_concat = pd.concat([noun_df,good_df] , axis=1)\n",
    "good_df_concat.to_excel('2020_seoulbike/good_google.xlsx')"
   ]
  },
  {
   "cell_type": "markdown",
   "metadata": {},
   "source": [
    "## Bad Scores"
   ]
  },
  {
   "cell_type": "markdown",
   "metadata": {},
   "source": [
    "1~3점 점수 리뷰"
   ]
  },
  {
   "cell_type": "code",
   "execution_count": 34,
   "metadata": {},
   "outputs": [],
   "source": [
    "bad_sentences_tag = makeTagging(bad_group)"
   ]
  },
  {
   "cell_type": "code",
   "execution_count": 42,
   "metadata": {},
   "outputs": [],
   "source": [
    "bad_adj_list = POSsearch(bad_sentences_tag,[ 'VA', 'VCP', 'VCN','MAG','IC'] )\n",
    "# bad_adj_list = POSsearch(bad_sentences_tag,[ 'VA', 'VCP', 'VCN',] )\n",
    "counts_bad_adj = Counter(bad_adj_list)\n",
    "bad_df = pd.DataFrame(counts_bad_adj.most_common(100))\n",
    "bad_df =bad_df.rename(columns={0:'words', 1:'count'})"
   ]
  },
  {
   "cell_type": "code",
   "execution_count": 43,
   "metadata": {},
   "outputs": [],
   "source": [
    "bad_noun_list = POSsearch(bad_sentences_tag, ['NNP', 'NNG', 'NP', ])\n",
    "counts_noun_adj = Counter(bad_noun_list)\n",
    "noun_df = pd.DataFrame(counts_noun_adj.most_common(100))\n",
    "noun_df =noun_df.rename(columns={0:'words', 1:'count'})\n",
    "\n",
    "bad_df_concat = pd.concat([noun_df,bad_df] , axis=1)\n",
    "bad_df_concat.to_excel('2020_seoulbike/bad_google.xlsx')"
   ]
  },
  {
   "cell_type": "code",
   "execution_count": 46,
   "metadata": {},
   "outputs": [
    {
     "data": {
      "text/html": [
       "<div>\n",
       "<style scoped>\n",
       "    .dataframe tbody tr th:only-of-type {\n",
       "        vertical-align: middle;\n",
       "    }\n",
       "\n",
       "    .dataframe tbody tr th {\n",
       "        vertical-align: top;\n",
       "    }\n",
       "\n",
       "    .dataframe thead th {\n",
       "        text-align: right;\n",
       "    }\n",
       "</style>\n",
       "<table border=\"1\" class=\"dataframe\">\n",
       "  <thead>\n",
       "    <tr style=\"text-align: right;\">\n",
       "      <th></th>\n",
       "      <th>words</th>\n",
       "      <th>count</th>\n",
       "      <th>words</th>\n",
       "      <th>count</th>\n",
       "    </tr>\n",
       "  </thead>\n",
       "  <tbody>\n",
       "    <tr>\n",
       "      <th>0</th>\n",
       "      <td>앱</td>\n",
       "      <td>1106</td>\n",
       "      <td>안</td>\n",
       "      <td>1015</td>\n",
       "    </tr>\n",
       "    <tr>\n",
       "      <th>1</th>\n",
       "      <td>로그인</td>\n",
       "      <td>332</td>\n",
       "      <td>이</td>\n",
       "      <td>319</td>\n",
       "    </tr>\n",
       "    <tr>\n",
       "      <th>2</th>\n",
       "      <td>결제</td>\n",
       "      <td>329</td>\n",
       "      <td>없</td>\n",
       "      <td>307</td>\n",
       "    </tr>\n",
       "    <tr>\n",
       "      <th>3</th>\n",
       "      <td>오류</td>\n",
       "      <td>317</td>\n",
       "      <td>왜</td>\n",
       "      <td>230</td>\n",
       "    </tr>\n",
       "    <tr>\n",
       "      <th>4</th>\n",
       "      <td>업데이트</td>\n",
       "      <td>284</td>\n",
       "      <td>좀</td>\n",
       "      <td>228</td>\n",
       "    </tr>\n",
       "    <tr>\n",
       "      <th>5</th>\n",
       "      <td>자전거</td>\n",
       "      <td>259</td>\n",
       "      <td>너무</td>\n",
       "      <td>225</td>\n",
       "    </tr>\n",
       "    <tr>\n",
       "      <th>6</th>\n",
       "      <td>따릉이</td>\n",
       "      <td>218</td>\n",
       "      <td>좋</td>\n",
       "      <td>198</td>\n",
       "    </tr>\n",
       "    <tr>\n",
       "      <th>7</th>\n",
       "      <td>사용</td>\n",
       "      <td>206</td>\n",
       "      <td>진짜</td>\n",
       "      <td>186</td>\n",
       "    </tr>\n",
       "    <tr>\n",
       "      <th>8</th>\n",
       "      <td>이용</td>\n",
       "      <td>176</td>\n",
       "      <td>잘</td>\n",
       "      <td>169</td>\n",
       "    </tr>\n",
       "    <tr>\n",
       "      <th>9</th>\n",
       "      <td>지도</td>\n",
       "      <td>176</td>\n",
       "      <td>아니</td>\n",
       "      <td>169</td>\n",
       "    </tr>\n",
       "    <tr>\n",
       "      <th>10</th>\n",
       "      <td>번호</td>\n",
       "      <td>173</td>\n",
       "      <td>같</td>\n",
       "      <td>168</td>\n",
       "    </tr>\n",
       "    <tr>\n",
       "      <th>11</th>\n",
       "      <td>최악</td>\n",
       "      <td>166</td>\n",
       "      <td>못</td>\n",
       "      <td>154</td>\n",
       "    </tr>\n",
       "    <tr>\n",
       "      <th>12</th>\n",
       "      <td>때</td>\n",
       "      <td>160</td>\n",
       "      <td>다시</td>\n",
       "      <td>139</td>\n",
       "    </tr>\n",
       "    <tr>\n",
       "      <th>13</th>\n",
       "      <td>대여</td>\n",
       "      <td>160</td>\n",
       "      <td>다</td>\n",
       "      <td>130</td>\n",
       "    </tr>\n",
       "    <tr>\n",
       "      <th>14</th>\n",
       "      <td>시간</td>\n",
       "      <td>159</td>\n",
       "      <td>많</td>\n",
       "      <td>115</td>\n",
       "    </tr>\n",
       "    <tr>\n",
       "      <th>15</th>\n",
       "      <td>불편</td>\n",
       "      <td>156</td>\n",
       "      <td>뭐</td>\n",
       "      <td>107</td>\n",
       "    </tr>\n",
       "    <tr>\n",
       "      <th>16</th>\n",
       "      <td>돈</td>\n",
       "      <td>132</td>\n",
       "      <td>제대로</td>\n",
       "      <td>106</td>\n",
       "    </tr>\n",
       "    <tr>\n",
       "      <th>17</th>\n",
       "      <td>대여소</td>\n",
       "      <td>128</td>\n",
       "      <td>계속</td>\n",
       "      <td>103</td>\n",
       "    </tr>\n",
       "    <tr>\n",
       "      <th>18</th>\n",
       "      <td>로딩</td>\n",
       "      <td>122</td>\n",
       "      <td>더</td>\n",
       "      <td>96</td>\n",
       "    </tr>\n",
       "    <tr>\n",
       "      <th>19</th>\n",
       "      <td>가입</td>\n",
       "      <td>118</td>\n",
       "      <td>정말</td>\n",
       "      <td>89</td>\n",
       "    </tr>\n",
       "    <tr>\n",
       "      <th>20</th>\n",
       "      <td>쓰레기</td>\n",
       "      <td>112</td>\n",
       "      <td>이렇게</td>\n",
       "      <td>86</td>\n",
       "    </tr>\n",
       "    <tr>\n",
       "      <th>21</th>\n",
       "      <td>회원</td>\n",
       "      <td>103</td>\n",
       "      <td>어떻게</td>\n",
       "      <td>81</td>\n",
       "    </tr>\n",
       "    <tr>\n",
       "      <th>22</th>\n",
       "      <td>세금</td>\n",
       "      <td>91</td>\n",
       "      <td>그냥</td>\n",
       "      <td>74</td>\n",
       "    </tr>\n",
       "    <tr>\n",
       "      <th>23</th>\n",
       "      <td>검색</td>\n",
       "      <td>87</td>\n",
       "      <td>있</td>\n",
       "      <td>73</td>\n",
       "    </tr>\n",
       "    <tr>\n",
       "      <th>24</th>\n",
       "      <td>개선</td>\n",
       "      <td>87</td>\n",
       "      <td>제발</td>\n",
       "      <td>66</td>\n",
       "    </tr>\n",
       "    <tr>\n",
       "      <th>25</th>\n",
       "      <td>카드</td>\n",
       "      <td>86</td>\n",
       "      <td>ㅋㅋ</td>\n",
       "      <td>52</td>\n",
       "    </tr>\n",
       "    <tr>\n",
       "      <th>26</th>\n",
       "      <td>자동</td>\n",
       "      <td>83</td>\n",
       "      <td>지금</td>\n",
       "      <td>41</td>\n",
       "    </tr>\n",
       "    <tr>\n",
       "      <th>27</th>\n",
       "      <td>이거</td>\n",
       "      <td>83</td>\n",
       "      <td>아예</td>\n",
       "      <td>40</td>\n",
       "    </tr>\n",
       "    <tr>\n",
       "      <th>28</th>\n",
       "      <td>반납</td>\n",
       "      <td>80</td>\n",
       "      <td>느리</td>\n",
       "      <td>40</td>\n",
       "    </tr>\n",
       "    <tr>\n",
       "      <th>29</th>\n",
       "      <td>후</td>\n",
       "      <td>76</td>\n",
       "      <td>아</td>\n",
       "      <td>39</td>\n",
       "    </tr>\n",
       "  </tbody>\n",
       "</table>\n",
       "</div>"
      ],
      "text/plain": [
       "   words  count words  count\n",
       "0      앱   1106     안   1015\n",
       "1    로그인    332     이    319\n",
       "2     결제    329     없    307\n",
       "3     오류    317     왜    230\n",
       "4   업데이트    284     좀    228\n",
       "5    자전거    259    너무    225\n",
       "6    따릉이    218     좋    198\n",
       "7     사용    206    진짜    186\n",
       "8     이용    176     잘    169\n",
       "9     지도    176    아니    169\n",
       "10    번호    173     같    168\n",
       "11    최악    166     못    154\n",
       "12     때    160    다시    139\n",
       "13    대여    160     다    130\n",
       "14    시간    159     많    115\n",
       "15    불편    156     뭐    107\n",
       "16     돈    132   제대로    106\n",
       "17   대여소    128    계속    103\n",
       "18    로딩    122     더     96\n",
       "19    가입    118    정말     89\n",
       "20   쓰레기    112   이렇게     86\n",
       "21    회원    103   어떻게     81\n",
       "22    세금     91    그냥     74\n",
       "23    검색     87     있     73\n",
       "24    개선     87    제발     66\n",
       "25    카드     86    ㅋㅋ     52\n",
       "26    자동     83    지금     41\n",
       "27    이거     83    아예     40\n",
       "28    반납     80    느리     40\n",
       "29     후     76     아     39"
      ]
     },
     "execution_count": 46,
     "metadata": {},
     "output_type": "execute_result"
    }
   ],
   "source": [
    "bad_df_concat[:30]"
   ]
  },
  {
   "cell_type": "markdown",
   "metadata": {},
   "source": [
    "## LDA"
   ]
  },
  {
   "cell_type": "markdown",
   "metadata": {},
   "source": [
    "#### Tokenizer"
   ]
  },
  {
   "cell_type": "code",
   "execution_count": 81,
   "metadata": {},
   "outputs": [],
   "source": [
    "token = stop_wording(tagged_list)"
   ]
  },
  {
   "cell_type": "code",
   "execution_count": 82,
   "metadata": {},
   "outputs": [],
   "source": [
    "from gensim import corpora\n",
    "\n",
    "dictionary  = corpora.Dictionary(token)\n",
    "corpus = [dictionary.doc2bow(text) for text in token ]\n"
   ]
  },
  {
   "cell_type": "code",
   "execution_count": 83,
   "metadata": {},
   "outputs": [
    {
     "data": {
      "text/plain": [
       "['어플']"
      ]
     },
     "execution_count": 83,
     "metadata": {},
     "output_type": "execute_result"
    }
   ],
   "source": [
    "mecab.morphs('어플')"
   ]
  },
  {
   "cell_type": "code",
   "execution_count": 84,
   "metadata": {},
   "outputs": [
    {
     "data": {
      "text/plain": [
       "[(0,\n",
       "  '0.049*\"안\" + 0.038*\"되\" + 0.032*\"앱\" + 0.028*\"결제\" + 0.018*\"자전거\" + 0.017*\"이용\" + 0.016*\"하\" + 0.014*\"따릉이\" + 0.013*\"잘\" + 0.013*\"타\"'),\n",
       " (1,\n",
       "  '0.040*\"좋\" + 0.034*\"앱\" + 0.027*\"하\" + 0.025*\"너무\" + 0.016*\"좀\" + 0.016*\"따릉이\" + 0.015*\"오류\" + 0.014*\"안\" + 0.014*\"없\" + 0.013*\"자전거\"'),\n",
       " (2,\n",
       "  '0.033*\"앱\" + 0.024*\"이\" + 0.020*\"하\" + 0.017*\"업데이트\" + 0.013*\"로딩\" + 0.013*\"자전거\" + 0.013*\"못\" + 0.013*\"있\" + 0.011*\"진짜\" + 0.010*\"안\"'),\n",
       " (3,\n",
       "  '0.028*\"앱\" + 0.024*\"하\" + 0.019*\"안\" + 0.015*\"번호\" + 0.014*\"너무\" + 0.013*\"비밀\" + 0.013*\"되\" + 0.012*\"이\" + 0.011*\"받\" + 0.010*\"돈\"'),\n",
       " (4,\n",
       "  '0.045*\"안\" + 0.042*\"앱\" + 0.038*\"로그인\" + 0.026*\"되\" + 0.018*\"왜\" + 0.017*\"없\" + 0.017*\"하\" + 0.016*\"오류\" + 0.016*\"사용\" + 0.014*\"좀\"'),\n",
       " (5,\n",
       "  '0.067*\"앱\" + 0.029*\"안\" + 0.018*\"지도\" + 0.017*\"만들\" + 0.016*\"되\" + 0.016*\"이\" + 0.013*\"대여소\" + 0.013*\"하\" + 0.012*\"뜨\" + 0.011*\"업데이트\"'),\n",
       " (6,\n",
       "  '0.050*\"안\" + 0.023*\"하\" + 0.021*\"되\" + 0.018*\"있\" + 0.018*\"앱\" + 0.015*\"좋\" + 0.014*\"번호\" + 0.013*\"시간\" + 0.013*\"결제\" + 0.012*\"대여\"')]"
      ]
     },
     "execution_count": 84,
     "metadata": {},
     "output_type": "execute_result"
    }
   ],
   "source": [
    "#따릉이 어플 리뷰 전반적\n",
    "import gensim\n",
    "lda = gensim.models.ldamodel.LdaModel(corpus=corpus, id2word=dictionary, num_topics=7, alpha='auto', \n",
    "                                      update_every=1, chunksize=20000, passes=10)\n",
    "lda.print_topics()"
   ]
  },
  {
   "cell_type": "code",
   "execution_count": 86,
   "metadata": {},
   "outputs": [
    {
     "name": "stdout",
     "output_type": "stream",
     "text": [
      "\n",
      "Perplexity:  -6.552016581734506\n",
      "\n",
      "Coherence Score:  0.4730771920282631\n"
     ]
    }
   ],
   "source": [
    "from gensim.models.coherencemodel import CoherenceModel\n",
    "# Compute Perplexity\n",
    "print('\\nPerplexity: ', lda.log_perplexity(corpus)) # a measure of how good the model is. lower the better.\n",
    " \n",
    "# Compute Coherence Score\n",
    "coherence_model_lda = CoherenceModel(model=lda, texts=token, dictionary=dictionary, coherence='c_v')\n",
    "coherence_lda = coherence_model_lda.get_coherence()\n",
    "print('\\nCoherence Score: ', coherence_lda)"
   ]
  },
  {
   "cell_type": "markdown",
   "metadata": {},
   "source": [
    "#### 형태소 분석을 진행함"
   ]
  },
  {
   "cell_type": "code",
   "execution_count": 25,
   "metadata": {},
   "outputs": [],
   "source": [
    "sentences_tag = []\n",
    "for sentence in reviews:\n",
    "    morph = ctwitter.pos(sentence)\n",
    "    \n",
    "\n",
    "    sentences_tag.append(morph)\n",
    "    \n"
   ]
  },
  {
   "cell_type": "markdown",
   "metadata": {},
   "source": [
    "##### 형용사 추출"
   ]
  },
  {
   "cell_type": "code",
   "execution_count": 16,
   "metadata": {},
   "outputs": [
    {
     "data": {
      "text/plain": [
       "2993"
      ]
     },
     "execution_count": 16,
     "metadata": {},
     "output_type": "execute_result"
    }
   ],
   "source": [
    "adj_list = []\n",
    "for sentence in sentences_tag:\n",
    "    for word, tag in sentence:\n",
    "        if tag in ['Adjective']:\n",
    "            \n",
    "            adj_list.append(word)\n",
    "            \n",
    "counts_good_adj = Counter(verb_list)\n",
    "print(counts_adj.most_common(100))"
   ]
  },
  {
   "cell_type": "code",
   "execution_count": 27,
   "metadata": {},
   "outputs": [
    {
     "name": "stdout",
     "output_type": "stream",
     "text": [
      "[('할', 191), ('잘', 154), ('들', 119), ('건지', 115), ('하는', 115), ('합니다', 107), ('했는데', 96), ('하면', 78), ('하게', 70), ('되고', 68), ('하기', 68), ('만든', 65), ('뜨고', 62), ('하는데', 59), ('가', 52), ('넘', 50), ('않고', 48), ('하네요', 48), ('참', 48), ('까', 46), ('쓰', 44), ('만들', 44), ('쓸', 42), ('했', 42), ('된', 40), ('서', 39), ('한', 39), ('들이', 38), ('하지', 37), ('되', 35), ('되는', 33), ('해야', 32), ('되는데', 32), ('하세요', 32), ('되지', 31), ('됨', 28), ('대', 27), ('되서', 26), ('떠서', 26), ('만들어', 25), ('지', 25), ('써', 23), ('누르면', 22), ('않아', 22), ('빌릴', 22), ('않음', 21), ('고쳐주세요', 21), ('나서', 21), ('돼요', 20), ('했습니다', 20), ('는', 19), ('됩니다', 19), ('들은', 19), ('되면', 18), ('오고', 18), ('돼서', 18), ('뜨', 18), ('받고', 18), ('하네', 17), ('않네요', 17), ('나오고', 17), ('되네요', 17), ('쳐', 17), ('쓰고', 17), ('째', 16), ('드려요', 16), ('빌리는데', 16), ('하다', 16), ('걸리고', 16), ('만드는', 16), ('찾', 16), ('깔', 15), ('내고', 15), ('하려', 15), ('할수', 15), ('하는거', 15), ('눌러도', 14), ('걸림', 14), ('날리고', 14), ('할거면', 14), ('쓰는', 14), ('와', 14), ('먹고', 14), ('빌', 14), ('찾는', 14), ('않아요', 13), ('긴', 13), ('주고', 13), ('봅니다', 13), ('놓고', 12), ('겁니다', 12), ('마세요', 12), ('찾을', 12), ('모르겠', 12), ('만들고', 12), ('되어', 12), ('뜨네요', 12), ('들어', 11), ('만들었냐', 11), ('싶', 11)]\n"
     ]
    }
   ],
   "source": [
    "verb_list = []\n",
    "for sentence in sentences_tag:\n",
    "    for word, tag in sentence:\n",
    "        if tag in ['Verb']:\n",
    "            \n",
    "            verb_list.append(word)\n",
    "            \n",
    "len(adj_list)\n",
    "counts_adj = Counter(verb_list)\n",
    "print(counts_adj.most_common(100))"
   ]
  },
  {
   "cell_type": "code",
   "execution_count": 17,
   "metadata": {},
   "outputs": [
    {
     "name": "stdout",
     "output_type": "stream",
     "text": [
      "[('안되고', 116), ('어떻게', 87), ('입니다', 86), ('있', 77), ('안됨', 71), ('좋아요', 57), ('이런', 53), ('있는', 50), ('좋은데', 48), ('같은', 43), ('좋은', 43), ('없', 43), ('안되서', 39), ('없는', 37), ('없고', 37), ('같아요', 35), ('안되네요', 35), ('없음', 34), ('없네요', 34), ('많고', 34), ('같습니다', 31), ('새로', 29), ('있습니다', 29), ('아닌', 27), ('느리고', 27), ('있는데', 26), ('느려', 25), ('많은', 22), ('안되요', 22), ('안되는', 22), ('좋', 21), ('없다', 20), ('있는지', 20), ('좋겠습니다', 19), ('안됩니다', 17), ('없다고', 16), ('좋겠', 15), ('있고', 14), ('아깝다', 14), ('같네요', 14), ('있게', 14), ('어떤', 14), ('있음', 13), ('굉장히', 13), ('있으면', 13), ('느려요', 13), ('이럴거면', 13), ('이런거', 12), ('많음', 12), ('아까', 12), ('안된다', 12), ('있다', 12), ('좋겠네요', 12), ('없습니다', 11), ('많', 11), ('없네', 11), ('느려서', 11), ('많아요', 10), ('같음', 10), ('없어', 10), ('안되는데', 10), ('많습니다', 10), ('같다', 9), ('좋습니다', 9), ('있다고', 9), ('안되나요', 9), ('없는데', 9), ('안되', 9), ('좋으나', 9), ('같', 9), ('많아서', 9), ('같은데', 9), ('없게', 9), ('있는거', 8), ('없으면', 8), ('어렵고', 8), ('빠른', 8), ('안되면', 8), ('편하게', 8), ('있네요', 8), ('느림', 8), ('답답하네요', 8), ('그런', 7), ('좋네요', 7), ('안되네', 7), ('안되는거', 7), ('아닌데', 7), ('많은데', 7), ('아까워요', 7), ('느린', 7), ('안되죠', 7), ('안된다고', 7), ('어려워', 6), ('좋겠다', 6), ('좋을거', 6), ('먼', 6), ('같은거', 6), ('안되니', 6), ('아닙니다', 6), ('빠르게', 6)]\n"
     ]
    }
   ],
   "source": [
    "counts_adj = Counter(adj_list)\n",
    "print(counts_adj.most_common(100))"
   ]
  },
  {
   "cell_type": "code",
   "execution_count": 18,
   "metadata": {},
   "outputs": [],
   "source": [
    "import pandas as pd\n",
    "df = pd.DataFrame(counts_adj.most_common(100))\n",
    "df.to_excel('Yoon/s_bike_google_adj.xlsx')"
   ]
  },
  {
   "cell_type": "markdown",
   "metadata": {},
   "source": [
    "#### 명사 추출후 상위 10개 항목 정렬"
   ]
  },
  {
   "cell_type": "code",
   "execution_count": 19,
   "metadata": {},
   "outputs": [
    {
     "name": "stdout",
     "output_type": "stream",
     "text": [
      "[('앱', 785), ('어플', 338), ('결제', 329), ('로그인', 317), ('자전거', 316), ('따릉이', 275), ('지도', 245), ('대여', 234), ('좀', 227), ('왜', 221), ('오류', 216), ('사용', 208), ('업데이트', 200), ('진짜', 192), ('이용', 185), ('요', 179), ('불편', 169), ('안', 168), ('최악', 165), ('대여소', 160), ('시간', 158), ('어요', 156), ('거', 154), ('때', 152), ('다시', 148), ('로딩', 129), ('뭐', 126), ('회원', 125), ('돈', 121), ('이', 119)]\n"
     ]
    }
   ],
   "source": [
    "noun_list = []\n",
    "for sentence in sentences_tag:\n",
    "    for word, tag in sentence:\n",
    "        if tag in ['Noun']:\n",
    "            noun_list.append(word)\n",
    "n_counts = Counter(noun_list)\n",
    "\n",
    "print(n_counts.most_common(30))"
   ]
  },
  {
   "cell_type": "code",
   "execution_count": 22,
   "metadata": {},
   "outputs": [],
   "source": [
    "import pandas as pd\n",
    "\n",
    "df = pd.DataFrame.from_dict(n_counts, orient='index').reset_index()\n",
    "df = df.rename(columns={'index':'noun', 0:'count'})\n",
    "df=df.sort_values(by=['count'], axis=0, ascending=False)\n"
   ]
  },
  {
   "cell_type": "code",
   "execution_count": 23,
   "metadata": {},
   "outputs": [],
   "source": [
    "#엑셀로 저장\n",
    "df.to_excel(\"Yoon/sbike_google_noun.xlsx\")"
   ]
  },
  {
   "cell_type": "code",
   "execution_count": 18,
   "metadata": {},
   "outputs": [],
   "source": [
    "import pandas as pd\n",
    "df2 = pd.DataFrame.from_dict(counts_adj, orient='index').reset_index()\n",
    "df2 = df2.rename(columns={'index':'noun', 0:'count'})\n",
    "df2 = df2.sort_values(by=['count'], axis=0, ascending=False)\n",
    "df2.head()\n",
    "df2.to_excel('./google_adj_count.xlsx')"
   ]
  }
 ],
 "metadata": {
  "kernelspec": {
   "display_name": "Python 3",
   "language": "python",
   "name": "python3"
  },
  "language_info": {
   "codemirror_mode": {
    "name": "ipython",
    "version": 3
   },
   "file_extension": ".py",
   "mimetype": "text/x-python",
   "name": "python",
   "nbconvert_exporter": "python",
   "pygments_lexer": "ipython3",
   "version": "3.7.3"
  }
 },
 "nbformat": 4,
 "nbformat_minor": 2
}
